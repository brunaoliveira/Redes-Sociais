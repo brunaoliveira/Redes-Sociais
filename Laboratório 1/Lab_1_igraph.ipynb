{
 "cells": [
  {
   "cell_type": "code",
   "execution_count": 1,
   "metadata": {},
   "outputs": [],
   "source": [
    "from igraph import *"
   ]
  },
  {
   "cell_type": "markdown",
   "metadata": {},
   "source": [
    "https://www.nas.ewi.tudelft.nl/people/Piet/papers/TUDreport20111111_MetricList.pdf"
   ]
  },
  {
   "cell_type": "markdown",
   "metadata": {},
   "source": [
    "O envio da tarefa, via moodle, pode ser em forma de texto corrido ou um arquivo PDF anexado."
   ]
  },
  {
   "cell_type": "markdown",
   "metadata": {},
   "source": [
    "As atividades são as seguintes:\n",
    "* Criar manualmente, num editor de texto, o grafo da rede M. Atta (ver slides aula)\n",
    "* Importar para o igraph\n",
    "* Caracterizar o grafo (propriedades estruturais do grafo, usar todas medidas possíveis)\n",
    "* Caracterizar os vértices (usar medidas locais)\n",
    "* Que conclusões são possíveis?\n",
    "* Que se conclui?"
   ]
  },
  {
   "cell_type": "markdown",
   "metadata": {},
   "source": [
    "#### Utilizada a rede do artigo [Ranking terrorists in networks: A sensitivity analysis of Al Qaeda’s 9/11 attack](https://www.albany.edu/~ravi/pdfs/talk_papers.d/husslage_etal_2015.pdf)"
   ]
  },
  {
   "cell_type": "code",
   "execution_count": 2,
   "metadata": {},
   "outputs": [],
   "source": [
    "atta = Graph(19)"
   ]
  },
  {
   "cell_type": "code",
   "execution_count": 3,
   "metadata": {},
   "outputs": [
    {
     "name": "stdout",
     "output_type": "stream",
     "text": [
      "IGRAPH UN-- 19 0 --\n",
      "+ attr: name (v)\n"
     ]
    }
   ],
   "source": [
    "atta.vs[\"name\"] = (\"Ahmed Alghamdi\", \"Hamza Alghamdi\", \"Mohand Alshehri\", \"Ahmed Al-Haznawi\", \"Saeed Alghamdi\", \"Ahmed Alnami\", \"Nawaf Alhazmi\", \"Fayez Ahmed\", \"Khalid Al-Mihdhar\", \"Mohamed Atta\", \"Salem Alhazmi\", \"Hani Hanjour\", \"Ziad Jarrah\", \"Marwan Al-Shehhi\", \"Majed Moqed\", \"Abdul Aziz Al-Omari\", \"Satam Suqami\", \"Waleed Alshehri\", \"Wail Alshehri\")\n",
    "print(atta)"
   ]
  },
  {
   "cell_type": "code",
   "execution_count": 4,
   "metadata": {},
   "outputs": [
    {
     "name": "stdout",
     "output_type": "stream",
     "text": [
      "IGRAPH UN-- 19 28 --\n",
      "+ attr: name (v)\n",
      "+ edges (vertex names):\n",
      "     Ahmed Alghamdi -- Hamza Alghamdi\n",
      "     Hamza Alghamdi -- Ahmed Alghamdi, Mohand Alshehri, Ahmed Al-Haznawi,\n",
      "Saeed Alghamdi, Ahmed Alnami\n",
      "    Mohand Alshehri -- Hamza Alghamdi, Fayez Ahmed\n",
      "   Ahmed Al-Haznawi -- Hamza Alghamdi, Ziad Jarrah\n",
      "     Saeed Alghamdi -- Hamza Alghamdi, Ahmed Alnami, Nawaf Alhazmi\n",
      "       Ahmed Alnami -- Hamza Alghamdi, Saeed Alghamdi, Nawaf Alhazmi\n",
      "      Nawaf Alhazmi -- Saeed Alghamdi, Ahmed Alnami, Khalid Al-Mihdhar,\n",
      "Mohamed Atta, Salem Alhazmi\n",
      "        Fayez Ahmed -- Mohand Alshehri, Marwan Al-Shehhi\n",
      "  Khalid Al-Mihdhar -- Nawaf Alhazmi, Hani Hanjour\n",
      "       Mohamed Atta -- Nawaf Alhazmi, Hani Hanjour, Ziad Jarrah, Marwan\n",
      "Al-Shehhi\n",
      "      Salem Alhazmi -- Nawaf Alhazmi, Ziad Jarrah, Marwan Al-Shehhi\n",
      "       Hani Hanjour -- Khalid Al-Mihdhar, Mohamed Atta, Ziad Jarrah, Marwan\n",
      "Al-Shehhi, Majed Moqed\n",
      "        Ziad Jarrah -- Ahmed Al-Haznawi, Mohamed Atta, Salem Alhazmi, Hani\n",
      "Hanjour, Marwan Al-Shehhi\n",
      "   Marwan Al-Shehhi -- Fayez Ahmed, Mohamed Atta, Salem Alhazmi, Hani Hanjour,\n",
      "Ziad Jarrah\n",
      "        Majed Moqed -- Hani Hanjour\n",
      "Abdul Aziz Al-Omari -- Waleed Alshehri\n",
      "       Satam Suqami -- Waleed Alshehri, Wail Alshehri\n",
      "    Waleed Alshehri -- Abdul Aziz Al-Omari, Satam Suqami, Wail Alshehri\n",
      "      Wail Alshehri -- Satam Suqami, Waleed Alshehri\n"
     ]
    }
   ],
   "source": [
    "atta.add_edges([(\"Ahmed Alghamdi\", \"Hamza Alghamdi\"),\n",
    "(\"Hamza Alghamdi\", \"Mohand Alshehri\"), (\"Hamza Alghamdi\", \"Ahmed Al-Haznawi\"), (\"Hamza Alghamdi\", \"Saeed Alghamdi\"), (\"Hamza Alghamdi\", \"Ahmed Alnami\"),\n",
    "(\"Ahmed Alnami\", \"Saeed Alghamdi\"),\n",
    "(\"Ahmed Alnami\", \"Nawaf Alhazmi\"),\n",
    "(\"Mohand Alshehri\", \"Fayez Ahmed\"),\n",
    "(\"Nawaf Alhazmi\", \"Saeed Alghamdi\"), (\"Nawaf Alhazmi\", \"Khalid Al-Mihdhar\"), (\"Nawaf Alhazmi\", \"Mohamed Atta\"), (\"Nawaf Alhazmi\", \"Salem Alhazmi\"),\n",
    "(\"Khalid Al-Mihdhar\", \"Hani Hanjour\"),\n",
    "(\"Ahmed Al-Haznawi\", \"Ziad Jarrah\"),\n",
    "(\"Salem Alhazmi\", \"Marwan Al-Shehhi\"), (\"Salem Alhazmi\", \"Ziad Jarrah\"),\n",
    "(\"Hani Hanjour\", \"Majed Moqed\"), (\"Hani Hanjour\", \"Mohamed Atta\"), (\"Hani Hanjour\", \"Marwan Al-Shehhi\"), (\"Hani Hanjour\", \"Ziad Jarrah\"),\n",
    "(\"Fayez Ahmed\", \"Marwan Al-Shehhi\"),\n",
    "(\"Marwan Al-Shehhi\", \"Mohamed Atta\"), (\"Marwan Al-Shehhi\", \"Ziad Jarrah\"),\n",
    "(\"Ziad Jarrah\", \"Mohamed Atta\"),\n",
    "(\"Abdul Aziz Al-Omari\", \"Waleed Alshehri\"),\n",
    "( \"Waleed Alshehri\", \"Satam Suqami\"), ( \"Waleed Alshehri\", \"Wail Alshehri\"),\n",
    "(\"Satam Suqami\", \"Wail Alshehri\")])\n",
    "print(atta)"
   ]
  },
  {
   "cell_type": "code",
   "execution_count": 5,
   "metadata": {},
   "outputs": [
    {
     "data": {
      "image/svg+xml": [
       "<?xml version=\"1.0\" encoding=\"UTF-8\"?>\n",
       "<svg xmlns=\"http://www.w3.org/2000/svg\" xmlns:xlink=\"http://www.w3.org/1999/xlink\" width=\"600pt\" height=\"600pt\" viewBox=\"0 0 600 600\" version=\"1.1\">\n",
       "<g id=\"surface2\">\n",
       "<rect x=\"0\" y=\"0\" width=\"600\" height=\"600\" style=\"fill:rgb(100%,100%,100%);fill-opacity:1;stroke:none;\"/>\n",
       "<path style=\"fill:none;stroke-width:1;stroke-linecap:butt;stroke-linejoin:miter;stroke:rgb(26.666667%,26.666667%,26.666667%);stroke-opacity:1;stroke-miterlimit:10;\" d=\"M 494.242188 47.917969 L 379.632812 100.066406 \"/>\n",
       "<path style=\"fill:none;stroke-width:1;stroke-linecap:butt;stroke-linejoin:miter;stroke:rgb(26.666667%,26.666667%,26.666667%);stroke-opacity:1;stroke-miterlimit:10;\" d=\"M 379.632812 100.066406 L 250.171875 20 \"/>\n",
       "<path style=\"fill:none;stroke-width:1;stroke-linecap:butt;stroke-linejoin:miter;stroke:rgb(26.666667%,26.666667%,26.666667%);stroke-opacity:1;stroke-miterlimit:10;\" d=\"M 379.632812 100.066406 L 250.019531 128.117188 \"/>\n",
       "<path style=\"fill:none;stroke-width:1;stroke-linecap:butt;stroke-linejoin:miter;stroke:rgb(26.666667%,26.666667%,26.666667%);stroke-opacity:1;stroke-miterlimit:10;\" d=\"M 379.632812 100.066406 L 439.90625 228.378906 \"/>\n",
       "<path style=\"fill:none;stroke-width:1;stroke-linecap:butt;stroke-linejoin:miter;stroke:rgb(26.666667%,26.666667%,26.666667%);stroke-opacity:1;stroke-miterlimit:10;\" d=\"M 379.632812 100.066406 L 382.523438 209.734375 \"/>\n",
       "<path style=\"fill:none;stroke-width:1;stroke-linecap:butt;stroke-linejoin:miter;stroke:rgb(26.666667%,26.666667%,26.666667%);stroke-opacity:1;stroke-miterlimit:10;\" d=\"M 439.90625 228.378906 L 382.523438 209.734375 \"/>\n",
       "<path style=\"fill:none;stroke-width:1;stroke-linecap:butt;stroke-linejoin:miter;stroke:rgb(26.666667%,26.666667%,26.666667%);stroke-opacity:1;stroke-miterlimit:10;\" d=\"M 382.523438 209.734375 L 302.402344 314.539062 \"/>\n",
       "<path style=\"fill:none;stroke-width:1;stroke-linecap:butt;stroke-linejoin:miter;stroke:rgb(26.666667%,26.666667%,26.666667%);stroke-opacity:1;stroke-miterlimit:10;\" d=\"M 250.171875 20 L 112.167969 80.304688 \"/>\n",
       "<path style=\"fill:none;stroke-width:1;stroke-linecap:butt;stroke-linejoin:miter;stroke:rgb(26.666667%,26.666667%,26.666667%);stroke-opacity:1;stroke-miterlimit:10;\" d=\"M 439.90625 228.378906 L 302.402344 314.539062 \"/>\n",
       "<path style=\"fill:none;stroke-width:1;stroke-linecap:butt;stroke-linejoin:miter;stroke:rgb(26.666667%,26.666667%,26.666667%);stroke-opacity:1;stroke-miterlimit:10;\" d=\"M 302.402344 314.539062 L 206.039062 430.15625 \"/>\n",
       "<path style=\"fill:none;stroke-width:1;stroke-linecap:butt;stroke-linejoin:miter;stroke:rgb(26.666667%,26.666667%,26.666667%);stroke-opacity:1;stroke-miterlimit:10;\" d=\"M 302.402344 314.539062 L 151.515625 324.5 \"/>\n",
       "<path style=\"fill:none;stroke-width:1;stroke-linecap:butt;stroke-linejoin:miter;stroke:rgb(26.666667%,26.666667%,26.666667%);stroke-opacity:1;stroke-miterlimit:10;\" d=\"M 302.402344 314.539062 L 204.5625 258.671875 \"/>\n",
       "<path style=\"fill:none;stroke-width:1;stroke-linecap:butt;stroke-linejoin:miter;stroke:rgb(26.666667%,26.666667%,26.666667%);stroke-opacity:1;stroke-miterlimit:10;\" d=\"M 206.039062 430.15625 L 79.53125 363.6875 \"/>\n",
       "<path style=\"fill:none;stroke-width:1;stroke-linecap:butt;stroke-linejoin:miter;stroke:rgb(26.666667%,26.666667%,26.666667%);stroke-opacity:1;stroke-miterlimit:10;\" d=\"M 250.019531 128.117188 L 136.871094 234.316406 \"/>\n",
       "<path style=\"fill:none;stroke-width:1;stroke-linecap:butt;stroke-linejoin:miter;stroke:rgb(26.666667%,26.666667%,26.666667%);stroke-opacity:1;stroke-miterlimit:10;\" d=\"M 204.5625 258.671875 L 73.53125 232.136719 \"/>\n",
       "<path style=\"fill:none;stroke-width:1;stroke-linecap:butt;stroke-linejoin:miter;stroke:rgb(26.666667%,26.666667%,26.666667%);stroke-opacity:1;stroke-miterlimit:10;\" d=\"M 204.5625 258.671875 L 136.871094 234.316406 \"/>\n",
       "<path style=\"fill:none;stroke-width:1;stroke-linecap:butt;stroke-linejoin:miter;stroke:rgb(26.666667%,26.666667%,26.666667%);stroke-opacity:1;stroke-miterlimit:10;\" d=\"M 79.53125 363.6875 L 20 470.101562 \"/>\n",
       "<path style=\"fill:none;stroke-width:1;stroke-linecap:butt;stroke-linejoin:miter;stroke:rgb(26.666667%,26.666667%,26.666667%);stroke-opacity:1;stroke-miterlimit:10;\" d=\"M 151.515625 324.5 L 79.53125 363.6875 \"/>\n",
       "<path style=\"fill:none;stroke-width:1;stroke-linecap:butt;stroke-linejoin:miter;stroke:rgb(26.666667%,26.666667%,26.666667%);stroke-opacity:1;stroke-miterlimit:10;\" d=\"M 79.53125 363.6875 L 73.53125 232.136719 \"/>\n",
       "<path style=\"fill:none;stroke-width:1;stroke-linecap:butt;stroke-linejoin:miter;stroke:rgb(26.666667%,26.666667%,26.666667%);stroke-opacity:1;stroke-miterlimit:10;\" d=\"M 79.53125 363.6875 L 136.871094 234.316406 \"/>\n",
       "<path style=\"fill:none;stroke-width:1;stroke-linecap:butt;stroke-linejoin:miter;stroke:rgb(26.666667%,26.666667%,26.666667%);stroke-opacity:1;stroke-miterlimit:10;\" d=\"M 112.167969 80.304688 L 73.53125 232.136719 \"/>\n",
       "<path style=\"fill:none;stroke-width:1;stroke-linecap:butt;stroke-linejoin:miter;stroke:rgb(26.666667%,26.666667%,26.666667%);stroke-opacity:1;stroke-miterlimit:10;\" d=\"M 151.515625 324.5 L 73.53125 232.136719 \"/>\n",
       "<path style=\"fill:none;stroke-width:1;stroke-linecap:butt;stroke-linejoin:miter;stroke:rgb(26.666667%,26.666667%,26.666667%);stroke-opacity:1;stroke-miterlimit:10;\" d=\"M 136.871094 234.316406 L 73.53125 232.136719 \"/>\n",
       "<path style=\"fill:none;stroke-width:1;stroke-linecap:butt;stroke-linejoin:miter;stroke:rgb(26.666667%,26.666667%,26.666667%);stroke-opacity:1;stroke-miterlimit:10;\" d=\"M 151.515625 324.5 L 136.871094 234.316406 \"/>\n",
       "<path style=\"fill:none;stroke-width:1;stroke-linecap:butt;stroke-linejoin:miter;stroke:rgb(26.666667%,26.666667%,26.666667%);stroke-opacity:1;stroke-miterlimit:10;\" d=\"M 399.28125 580 L 487.578125 511.074219 \"/>\n",
       "<path style=\"fill:none;stroke-width:1;stroke-linecap:butt;stroke-linejoin:miter;stroke:rgb(26.666667%,26.666667%,26.666667%);stroke-opacity:1;stroke-miterlimit:10;\" d=\"M 580 487.941406 L 487.578125 511.074219 \"/>\n",
       "<path style=\"fill:none;stroke-width:1;stroke-linecap:butt;stroke-linejoin:miter;stroke:rgb(26.666667%,26.666667%,26.666667%);stroke-opacity:1;stroke-miterlimit:10;\" d=\"M 487.578125 511.074219 L 553.082031 419.738281 \"/>\n",
       "<path style=\"fill:none;stroke-width:1;stroke-linecap:butt;stroke-linejoin:miter;stroke:rgb(26.666667%,26.666667%,26.666667%);stroke-opacity:1;stroke-miterlimit:10;\" d=\"M 580 487.941406 L 553.082031 419.738281 \"/>\n",
       "<path style=\"fill-rule:nonzero;fill:rgb(100%,0%,0%);fill-opacity:1;stroke-width:1;stroke-linecap:butt;stroke-linejoin:miter;stroke:rgb(0%,0%,0%);stroke-opacity:1;stroke-miterlimit:10;\" d=\"M 504.242188 47.917969 C 504.242188 53.441406 499.765625 57.917969 494.242188 57.917969 C 488.71875 57.917969 484.242188 53.441406 484.242188 47.917969 C 484.242188 42.394531 488.71875 37.917969 494.242188 37.917969 C 499.765625 37.917969 504.242188 42.394531 504.242188 47.917969 \"/>\n",
       "<path style=\"fill-rule:nonzero;fill:rgb(100%,0%,0%);fill-opacity:1;stroke-width:1;stroke-linecap:butt;stroke-linejoin:miter;stroke:rgb(0%,0%,0%);stroke-opacity:1;stroke-miterlimit:10;\" d=\"M 389.632812 100.066406 C 389.632812 105.589844 385.152344 110.066406 379.632812 110.066406 C 374.109375 110.066406 369.632812 105.589844 369.632812 100.066406 C 369.632812 94.546875 374.109375 90.066406 379.632812 90.066406 C 385.152344 90.066406 389.632812 94.546875 389.632812 100.066406 \"/>\n",
       "<path style=\"fill-rule:nonzero;fill:rgb(100%,0%,0%);fill-opacity:1;stroke-width:1;stroke-linecap:butt;stroke-linejoin:miter;stroke:rgb(0%,0%,0%);stroke-opacity:1;stroke-miterlimit:10;\" d=\"M 260.171875 20 C 260.171875 25.523438 255.691406 30 250.171875 30 C 244.648438 30 240.171875 25.523438 240.171875 20 C 240.171875 14.476562 244.648438 10 250.171875 10 C 255.691406 10 260.171875 14.476562 260.171875 20 \"/>\n",
       "<path style=\"fill-rule:nonzero;fill:rgb(100%,0%,0%);fill-opacity:1;stroke-width:1;stroke-linecap:butt;stroke-linejoin:miter;stroke:rgb(0%,0%,0%);stroke-opacity:1;stroke-miterlimit:10;\" d=\"M 260.019531 128.117188 C 260.019531 133.640625 255.542969 138.117188 250.019531 138.117188 C 244.496094 138.117188 240.019531 133.640625 240.019531 128.117188 C 240.019531 122.59375 244.496094 118.117188 250.019531 118.117188 C 255.542969 118.117188 260.019531 122.59375 260.019531 128.117188 \"/>\n",
       "<path style=\"fill-rule:nonzero;fill:rgb(100%,0%,0%);fill-opacity:1;stroke-width:1;stroke-linecap:butt;stroke-linejoin:miter;stroke:rgb(0%,0%,0%);stroke-opacity:1;stroke-miterlimit:10;\" d=\"M 449.90625 228.378906 C 449.90625 233.902344 445.429688 238.378906 439.90625 238.378906 C 434.382812 238.378906 429.90625 233.902344 429.90625 228.378906 C 429.90625 222.859375 434.382812 218.378906 439.90625 218.378906 C 445.429688 218.378906 449.90625 222.859375 449.90625 228.378906 \"/>\n",
       "<path style=\"fill-rule:nonzero;fill:rgb(100%,0%,0%);fill-opacity:1;stroke-width:1;stroke-linecap:butt;stroke-linejoin:miter;stroke:rgb(0%,0%,0%);stroke-opacity:1;stroke-miterlimit:10;\" d=\"M 392.523438 209.734375 C 392.523438 215.257812 388.046875 219.734375 382.523438 219.734375 C 377 219.734375 372.523438 215.257812 372.523438 209.734375 C 372.523438 204.210938 377 199.734375 382.523438 199.734375 C 388.046875 199.734375 392.523438 204.210938 392.523438 209.734375 \"/>\n",
       "<path style=\"fill-rule:nonzero;fill:rgb(100%,0%,0%);fill-opacity:1;stroke-width:1;stroke-linecap:butt;stroke-linejoin:miter;stroke:rgb(0%,0%,0%);stroke-opacity:1;stroke-miterlimit:10;\" d=\"M 312.402344 314.539062 C 312.402344 320.0625 307.925781 324.539062 302.402344 324.539062 C 296.878906 324.539062 292.402344 320.0625 292.402344 314.539062 C 292.402344 309.015625 296.878906 304.539062 302.402344 304.539062 C 307.925781 304.539062 312.402344 309.015625 312.402344 314.539062 \"/>\n",
       "<path style=\"fill-rule:nonzero;fill:rgb(100%,0%,0%);fill-opacity:1;stroke-width:1;stroke-linecap:butt;stroke-linejoin:miter;stroke:rgb(0%,0%,0%);stroke-opacity:1;stroke-miterlimit:10;\" d=\"M 122.167969 80.304688 C 122.167969 85.828125 117.691406 90.304688 112.167969 90.304688 C 106.644531 90.304688 102.167969 85.828125 102.167969 80.304688 C 102.167969 74.78125 106.644531 70.304688 112.167969 70.304688 C 117.691406 70.304688 122.167969 74.78125 122.167969 80.304688 \"/>\n",
       "<path style=\"fill-rule:nonzero;fill:rgb(100%,0%,0%);fill-opacity:1;stroke-width:1;stroke-linecap:butt;stroke-linejoin:miter;stroke:rgb(0%,0%,0%);stroke-opacity:1;stroke-miterlimit:10;\" d=\"M 216.039062 430.15625 C 216.039062 435.679688 211.5625 440.15625 206.039062 440.15625 C 200.515625 440.15625 196.039062 435.679688 196.039062 430.15625 C 196.039062 424.632812 200.515625 420.15625 206.039062 420.15625 C 211.5625 420.15625 216.039062 424.632812 216.039062 430.15625 \"/>\n",
       "<path style=\"fill-rule:nonzero;fill:rgb(100%,0%,0%);fill-opacity:1;stroke-width:1;stroke-linecap:butt;stroke-linejoin:miter;stroke:rgb(0%,0%,0%);stroke-opacity:1;stroke-miterlimit:10;\" d=\"M 161.515625 324.5 C 161.515625 330.019531 157.039062 334.5 151.515625 334.5 C 145.992188 334.5 141.515625 330.019531 141.515625 324.5 C 141.515625 318.976562 145.992188 314.5 151.515625 314.5 C 157.039062 314.5 161.515625 318.976562 161.515625 324.5 \"/>\n",
       "<path style=\"fill-rule:nonzero;fill:rgb(100%,0%,0%);fill-opacity:1;stroke-width:1;stroke-linecap:butt;stroke-linejoin:miter;stroke:rgb(0%,0%,0%);stroke-opacity:1;stroke-miterlimit:10;\" d=\"M 214.5625 258.671875 C 214.5625 264.195312 210.085938 268.671875 204.5625 268.671875 C 199.039062 268.671875 194.5625 264.195312 194.5625 258.671875 C 194.5625 253.152344 199.039062 248.671875 204.5625 248.671875 C 210.085938 248.671875 214.5625 253.152344 214.5625 258.671875 \"/>\n",
       "<path style=\"fill-rule:nonzero;fill:rgb(100%,0%,0%);fill-opacity:1;stroke-width:1;stroke-linecap:butt;stroke-linejoin:miter;stroke:rgb(0%,0%,0%);stroke-opacity:1;stroke-miterlimit:10;\" d=\"M 89.53125 363.6875 C 89.53125 369.210938 85.054688 373.6875 79.53125 373.6875 C 74.007812 373.6875 69.53125 369.210938 69.53125 363.6875 C 69.53125 358.164062 74.007812 353.6875 79.53125 353.6875 C 85.054688 353.6875 89.53125 358.164062 89.53125 363.6875 \"/>\n",
       "<path style=\"fill-rule:nonzero;fill:rgb(100%,0%,0%);fill-opacity:1;stroke-width:1;stroke-linecap:butt;stroke-linejoin:miter;stroke:rgb(0%,0%,0%);stroke-opacity:1;stroke-miterlimit:10;\" d=\"M 146.871094 234.316406 C 146.871094 239.839844 142.394531 244.316406 136.871094 244.316406 C 131.351562 244.316406 126.871094 239.839844 126.871094 234.316406 C 126.871094 228.792969 131.351562 224.316406 136.871094 224.316406 C 142.394531 224.316406 146.871094 228.792969 146.871094 234.316406 \"/>\n",
       "<path style=\"fill-rule:nonzero;fill:rgb(100%,0%,0%);fill-opacity:1;stroke-width:1;stroke-linecap:butt;stroke-linejoin:miter;stroke:rgb(0%,0%,0%);stroke-opacity:1;stroke-miterlimit:10;\" d=\"M 83.53125 232.136719 C 83.53125 237.660156 79.054688 242.136719 73.53125 242.136719 C 68.007812 242.136719 63.53125 237.660156 63.53125 232.136719 C 63.53125 226.613281 68.007812 222.136719 73.53125 222.136719 C 79.054688 222.136719 83.53125 226.613281 83.53125 232.136719 \"/>\n",
       "<path style=\"fill-rule:nonzero;fill:rgb(100%,0%,0%);fill-opacity:1;stroke-width:1;stroke-linecap:butt;stroke-linejoin:miter;stroke:rgb(0%,0%,0%);stroke-opacity:1;stroke-miterlimit:10;\" d=\"M 30 470.101562 C 30 475.625 25.523438 480.101562 20 480.101562 C 14.476562 480.101562 10 475.625 10 470.101562 C 10 464.578125 14.476562 460.101562 20 460.101562 C 25.523438 460.101562 30 464.578125 30 470.101562 \"/>\n",
       "<path style=\"fill-rule:nonzero;fill:rgb(100%,0%,0%);fill-opacity:1;stroke-width:1;stroke-linecap:butt;stroke-linejoin:miter;stroke:rgb(0%,0%,0%);stroke-opacity:1;stroke-miterlimit:10;\" d=\"M 409.28125 580 C 409.28125 585.523438 404.804688 590 399.28125 590 C 393.757812 590 389.28125 585.523438 389.28125 580 C 389.28125 574.476562 393.757812 570 399.28125 570 C 404.804688 570 409.28125 574.476562 409.28125 580 \"/>\n",
       "<path style=\"fill-rule:nonzero;fill:rgb(100%,0%,0%);fill-opacity:1;stroke-width:1;stroke-linecap:butt;stroke-linejoin:miter;stroke:rgb(0%,0%,0%);stroke-opacity:1;stroke-miterlimit:10;\" d=\"M 590 487.941406 C 590 493.464844 585.523438 497.941406 580 497.941406 C 574.476562 497.941406 570 493.464844 570 487.941406 C 570 482.417969 574.476562 477.941406 580 477.941406 C 585.523438 477.941406 590 482.417969 590 487.941406 \"/>\n",
       "<path style=\"fill-rule:nonzero;fill:rgb(100%,0%,0%);fill-opacity:1;stroke-width:1;stroke-linecap:butt;stroke-linejoin:miter;stroke:rgb(0%,0%,0%);stroke-opacity:1;stroke-miterlimit:10;\" d=\"M 497.578125 511.074219 C 497.578125 516.59375 493.101562 521.074219 487.578125 521.074219 C 482.054688 521.074219 477.578125 516.59375 477.578125 511.074219 C 477.578125 505.550781 482.054688 501.074219 487.578125 501.074219 C 493.101562 501.074219 497.578125 505.550781 497.578125 511.074219 \"/>\n",
       "<path style=\"fill-rule:nonzero;fill:rgb(100%,0%,0%);fill-opacity:1;stroke-width:1;stroke-linecap:butt;stroke-linejoin:miter;stroke:rgb(0%,0%,0%);stroke-opacity:1;stroke-miterlimit:10;\" d=\"M 563.082031 419.738281 C 563.082031 425.261719 558.605469 429.738281 553.082031 429.738281 C 547.558594 429.738281 543.082031 425.261719 543.082031 419.738281 C 543.082031 414.214844 547.558594 409.738281 553.082031 409.738281 C 558.605469 409.738281 563.082031 414.214844 563.082031 419.738281 \"/>\n",
       "</g>\n",
       "</svg>\n"
      ],
      "text/plain": [
       "<igraph.drawing.Plot at 0x7f16b5ba37b8>"
      ]
     },
     "execution_count": 5,
     "metadata": {
      "image/svg+xml": {
       "isolated": true
      }
     },
     "output_type": "execute_result"
    }
   ],
   "source": [
    "plot(atta)"
   ]
  },
  {
   "cell_type": "markdown",
   "metadata": {},
   "source": [
    "### Closeness\n",
    "The closeness of a node n is the average hopcount obtained from this node to all the others. <br>\n",
    "Closeness is often regarded as a measure to quantify the node’s participation in a network. <br>\n",
    "Nodes with low closeness scores have short hopcounts from other nodes, and so will tend to receive information sooner and disseminate information faster. <br>\n",
    "The reciprocal of the node closeness is also known as the Wiener index."
   ]
  },
  {
   "cell_type": "code",
   "execution_count": 6,
   "metadata": {},
   "outputs": [
    {
     "name": "stdout",
     "output_type": "stream",
     "text": [
      "Ahmed Alghamdi: 0.15126050420168066\n",
      "Hamza Alghamdi: 0.16981132075471697\n",
      "Mohand Alshehri: 0.16216216216216217\n",
      "Ahmed Al-Haznawi: 0.16981132075471697\n",
      "Saeed Alghamdi: 0.16822429906542055\n",
      "Ahmed Alnami: 0.16822429906542055\n",
      "Nawaf Alhazmi: 0.17307692307692307\n",
      "Fayez Ahmed: 0.1651376146788991\n",
      "Khalid Al-Mihdhar: 0.1651376146788991\n",
      "Mohamed Atta: 0.17307692307692307\n",
      "Salem Alhazmi: 0.16981132075471697\n",
      "Hani Hanjour: 0.17142857142857143\n",
      "Ziad Jarrah: 0.17475728155339806\n",
      "Marwan Al-Shehhi: 0.17307692307692307\n",
      "Majed Moqed: 0.15254237288135594\n",
      "Abdul Aziz Al-Omari: 0.06206896551724138\n",
      "Satam Suqami: 0.06228373702422145\n",
      "Waleed Alshehri: 0.0625\n",
      "Wail Alshehri: 0.06228373702422145\n"
     ]
    },
    {
     "name": "stderr",
     "output_type": "stream",
     "text": [
      "/home/bruna/anaconda3/lib/python3.7/site-packages/ipykernel_launcher.py:2: RuntimeWarning: closeness centrality is not well-defined for disconnected graphs at ../../../source/igraph/src/centrality.c:2874\n",
      "  \n"
     ]
    }
   ],
   "source": [
    "for v in atta.vs:\n",
    "    print(v[\"name\"] + ': ' + str(atta.closeness(v)))"
   ]
  },
  {
   "cell_type": "markdown",
   "metadata": {},
   "source": [
    "### Eccentricity\n",
    "The eccentricity of a node is defined as the longest hopcount between the node ni and any other node. <br>\n",
    "Nodes that play an important role in a topology should be easily reachable by the rest of the nodes in a graph. <br>\n",
    "* mode (The argument has no effect for undirected graphs):\n",
    "    - 1 (IN): means that edge directions are followed\n",
    "    - 2 (OUT): means that edge directions are followed the opposite direction\n",
    "    - 3 (ALL): means that directions are ignored."
   ]
  },
  {
   "cell_type": "code",
   "execution_count": 7,
   "metadata": {},
   "outputs": [
    {
     "name": "stdout",
     "output_type": "stream",
     "text": [
      "Ahmed Alghamdi: 5.0\n",
      "Hamza Alghamdi: 4.0\n",
      "Mohand Alshehri: 4.0\n",
      "Ahmed Al-Haznawi: 3.0\n",
      "Saeed Alghamdi: 4.0\n",
      "Ahmed Alnami: 4.0\n",
      "Nawaf Alhazmi: 3.0\n",
      "Fayez Ahmed: 3.0\n",
      "Khalid Al-Mihdhar: 4.0\n",
      "Mohamed Atta: 4.0\n",
      "Salem Alhazmi: 4.0\n",
      "Hani Hanjour: 4.0\n",
      "Ziad Jarrah: 3.0\n",
      "Marwan Al-Shehhi: 4.0\n",
      "Majed Moqed: 5.0\n",
      "Abdul Aziz Al-Omari: 2.0\n",
      "Satam Suqami: 2.0\n",
      "Waleed Alshehri: 1.0\n",
      "Wail Alshehri: 2.0\n"
     ]
    }
   ],
   "source": [
    "for v in atta.vs:\n",
    "    print(v[\"name\"] + ': ' + str(atta.eccentricity(v)))"
   ]
  },
  {
   "cell_type": "markdown",
   "metadata": {},
   "source": [
    "### Betweenness\n",
    "Betweenness of a node is defined as the number of shortest paths between pairs of nodes that traverse a node."
   ]
  },
  {
   "cell_type": "code",
   "execution_count": 8,
   "metadata": {},
   "outputs": [
    {
     "name": "stdout",
     "output_type": "stream",
     "text": [
      "Ahmed Alghamdi: 0.0\n",
      "Hamza Alghamdi: 23.83333333333333\n",
      "Mohand Alshehri: 5.5\n",
      "Ahmed Al-Haznawi: 9.5\n",
      "Saeed Alghamdi: 4.416666666666666\n",
      "Ahmed Alnami: 4.416666666666666\n",
      "Nawaf Alhazmi: 20.499999999999996\n",
      "Fayez Ahmed: 6.833333333333333\n",
      "Khalid Al-Mihdhar: 3.0\n",
      "Mohamed Atta: 6.416666666666666\n",
      "Salem Alhazmi: 3.416666666666666\n",
      "Hani Hanjour: 17.833333333333332\n",
      "Ziad Jarrah: 14.666666666666666\n",
      "Marwan Al-Shehhi: 13.666666666666666\n",
      "Majed Moqed: 0.0\n",
      "Abdul Aziz Al-Omari: 0.0\n",
      "Satam Suqami: 0.0\n",
      "Waleed Alshehri: 2.0\n",
      "Wail Alshehri: 0.0\n"
     ]
    }
   ],
   "source": [
    "for v in atta.vs:\n",
    "    print(v[\"name\"] + ': ' + str(atta.betweenness(v)))"
   ]
  },
  {
   "cell_type": "markdown",
   "metadata": {},
   "source": [
    "### Expansion\n",
    "The expansion of a node provides information about the global graph reachability from a local point of view. <br>\n",
    "Minimizing the expansion of a node or a set of nodes S in a network will shorten the number of hops a message\n",
    "generated by S will have to cross to reach its destination."
   ]
  },
  {
   "cell_type": "code",
   "execution_count": null,
   "metadata": {},
   "outputs": [],
   "source": []
  },
  {
   "cell_type": "markdown",
   "metadata": {},
   "source": [
    "### Degree\n",
    "The node degree describes the neighbors of a node and is an key property to evaluate the graph structure. <br>\n",
    "The degree di of a node is the number of other nodes to which it is connected."
   ]
  },
  {
   "cell_type": "code",
   "execution_count": 9,
   "metadata": {},
   "outputs": [
    {
     "name": "stdout",
     "output_type": "stream",
     "text": [
      "Ahmed Alghamdi: 1\n",
      "Hamza Alghamdi: 5\n",
      "Mohand Alshehri: 2\n",
      "Ahmed Al-Haznawi: 2\n",
      "Saeed Alghamdi: 3\n",
      "Ahmed Alnami: 3\n",
      "Nawaf Alhazmi: 5\n",
      "Fayez Ahmed: 2\n",
      "Khalid Al-Mihdhar: 2\n",
      "Mohamed Atta: 4\n",
      "Salem Alhazmi: 3\n",
      "Hani Hanjour: 5\n",
      "Ziad Jarrah: 5\n",
      "Marwan Al-Shehhi: 5\n",
      "Majed Moqed: 1\n",
      "Abdul Aziz Al-Omari: 1\n",
      "Satam Suqami: 2\n",
      "Waleed Alshehri: 3\n",
      "Wail Alshehri: 2\n"
     ]
    }
   ],
   "source": [
    "for v in atta.vs:\n",
    "    print(v[\"name\"] + ': ' + str(atta.degree(v)))"
   ]
  },
  {
   "cell_type": "markdown",
   "metadata": {},
   "source": [
    "### Shortest Average Path Length"
   ]
  },
  {
   "cell_type": "code",
   "execution_count": 10,
   "metadata": {},
   "outputs": [
    {
     "name": "stdout",
     "output_type": "stream",
     "text": [
      "[[0, 1, 2, 2, 2, 2, 3, 3, 4, 4, 4, 4, 3, 4, 5, inf, inf, inf, inf], [1, 0, 1, 1, 1, 1, 2, 2, 3, 3, 3, 3, 2, 3, 4, inf, inf, inf, inf], [2, 1, 0, 2, 2, 2, 3, 1, 4, 3, 3, 3, 3, 2, 4, inf, inf, inf, inf], [2, 1, 2, 0, 2, 2, 3, 3, 3, 2, 2, 2, 1, 2, 3, inf, inf, inf, inf], [2, 1, 2, 2, 0, 1, 1, 3, 2, 2, 2, 3, 3, 3, 4, inf, inf, inf, inf], [2, 1, 2, 2, 1, 0, 1, 3, 2, 2, 2, 3, 3, 3, 4, inf, inf, inf, inf], [3, 2, 3, 3, 1, 1, 0, 3, 1, 1, 1, 2, 2, 2, 3, inf, inf, inf, inf], [3, 2, 1, 3, 3, 3, 3, 0, 3, 2, 2, 2, 2, 1, 3, inf, inf, inf, inf], [4, 3, 4, 3, 2, 2, 1, 3, 0, 2, 2, 1, 2, 2, 2, inf, inf, inf, inf], [4, 3, 3, 2, 2, 2, 1, 2, 2, 0, 2, 1, 1, 1, 2, inf, inf, inf, inf], [4, 3, 3, 2, 2, 2, 1, 2, 2, 2, 0, 2, 1, 1, 3, inf, inf, inf, inf], [4, 3, 3, 2, 3, 3, 2, 2, 1, 1, 2, 0, 1, 1, 1, inf, inf, inf, inf], [3, 2, 3, 1, 3, 3, 2, 2, 2, 1, 1, 1, 0, 1, 2, inf, inf, inf, inf], [4, 3, 2, 2, 3, 3, 2, 1, 2, 1, 1, 1, 1, 0, 2, inf, inf, inf, inf], [5, 4, 4, 3, 4, 4, 3, 3, 2, 2, 3, 1, 2, 2, 0, inf, inf, inf, inf], [inf, inf, inf, inf, inf, inf, inf, inf, inf, inf, inf, inf, inf, inf, inf, 0, 2, 1, 2], [inf, inf, inf, inf, inf, inf, inf, inf, inf, inf, inf, inf, inf, inf, inf, 2, 0, 1, 1], [inf, inf, inf, inf, inf, inf, inf, inf, inf, inf, inf, inf, inf, inf, inf, 1, 1, 0, 1], [inf, inf, inf, inf, inf, inf, inf, inf, inf, inf, inf, inf, inf, inf, inf, 2, 1, 1, 0]]\n"
     ]
    }
   ],
   "source": [
    "print(atta.shortest_paths_dijkstra(mode=1))"
   ]
  },
  {
   "cell_type": "markdown",
   "metadata": {},
   "source": [
    "### Clustering coefficient\n",
    "The local clustering coefficient (local transitivity) of a node in a graph measures the cliquishness of its neighborhood. <br>"
   ]
  },
  {
   "cell_type": "code",
   "execution_count": 11,
   "metadata": {},
   "outputs": [
    {
     "name": "stdout",
     "output_type": "stream",
     "text": [
      "Ahmed Alghamdi: nan\n",
      "Hamza Alghamdi: 0.1\n",
      "Mohand Alshehri: 0.0\n",
      "Ahmed Al-Haznawi: 0.0\n",
      "Saeed Alghamdi: 0.6666666666666666\n",
      "Ahmed Alnami: 0.6666666666666666\n",
      "Nawaf Alhazmi: 0.1\n",
      "Fayez Ahmed: 0.0\n",
      "Khalid Al-Mihdhar: 0.0\n",
      "Mohamed Atta: 0.5\n",
      "Salem Alhazmi: 0.3333333333333333\n",
      "Hani Hanjour: 0.3\n",
      "Ziad Jarrah: 0.4\n",
      "Marwan Al-Shehhi: 0.4\n",
      "Majed Moqed: nan\n",
      "Abdul Aziz Al-Omari: nan\n",
      "Satam Suqami: 1.0\n",
      "Waleed Alshehri: 0.3333333333333333\n",
      "Wail Alshehri: 1.0\n"
     ]
    }
   ],
   "source": [
    "for v in atta.vs:\n",
    "    print(v[\"name\"] + ': ' + str(atta.transitivity_local_undirected(v)))"
   ]
  },
  {
   "cell_type": "markdown",
   "metadata": {},
   "source": [
    "### Clustering\n",
    "(connected components) "
   ]
  },
  {
   "cell_type": "markdown",
   "metadata": {},
   "source": [
    "#### a) Calculates the (strong or weak) clusters  for a given graph."
   ]
  },
  {
   "cell_type": "code",
   "execution_count": 13,
   "metadata": {},
   "outputs": [
    {
     "name": "stdout",
     "output_type": "stream",
     "text": [
      "Clustering with 19 elements and 2 clusters\n",
      "[0] Ahmed Alghamdi, Hamza Alghamdi, Mohand Alshehri, Ahmed Al-Haznawi, Saeed\n",
      "    Alghamdi, Ahmed Alnami, Nawaf Alhazmi, Fayez Ahmed, Khalid Al-Mihdhar,\n",
      "    Mohamed Atta, Salem Alhazmi, Hani Hanjour, Ziad Jarrah, Marwan Al-Shehhi,\n",
      "    Majed Moqed\n",
      "[1] Abdul Aziz Al-Omari, Satam Suqami, Waleed Alshehri, Wail Alshehri\n",
      "Clustering with 19 elements and 2 clusters\n",
      "[0] Ahmed Alghamdi, Hamza Alghamdi, Mohand Alshehri, Ahmed Al-Haznawi, Saeed\n",
      "    Alghamdi, Ahmed Alnami, Nawaf Alhazmi, Fayez Ahmed, Khalid Al-Mihdhar,\n",
      "    Mohamed Atta, Salem Alhazmi, Hani Hanjour, Ziad Jarrah, Marwan Al-Shehhi,\n",
      "    Majed Moqed\n",
      "[1] Abdul Aziz Al-Omari, Satam Suqami, Waleed Alshehri, Wail Alshehri\n"
     ]
    }
   ],
   "source": [
    "print(atta.clusters(mode=STRONG))\n",
    "print(atta.clusters(mode=WEAK))"
   ]
  },
  {
   "cell_type": "markdown",
   "metadata": {},
   "source": [
    "#### b) Calculates the (strong or weak) clusters for a given graph"
   ]
  },
  {
   "cell_type": "code",
   "execution_count": 14,
   "metadata": {},
   "outputs": [
    {
     "name": "stdout",
     "output_type": "stream",
     "text": [
      "Clustering with 19 elements and 2 clusters\n",
      "[0] Ahmed Alghamdi, Hamza Alghamdi, Mohand Alshehri, Ahmed Al-Haznawi, Saeed\n",
      "    Alghamdi, Ahmed Alnami, Nawaf Alhazmi, Fayez Ahmed, Khalid Al-Mihdhar,\n",
      "    Mohamed Atta, Salem Alhazmi, Hani Hanjour, Ziad Jarrah, Marwan Al-Shehhi,\n",
      "    Majed Moqed\n",
      "[1] Abdul Aziz Al-Omari, Satam Suqami, Waleed Alshehri, Wail Alshehri\n",
      "Clustering with 19 elements and 2 clusters\n",
      "[0] Ahmed Alghamdi, Hamza Alghamdi, Mohand Alshehri, Ahmed Al-Haznawi, Saeed\n",
      "    Alghamdi, Ahmed Alnami, Nawaf Alhazmi, Fayez Ahmed, Khalid Al-Mihdhar,\n",
      "    Mohamed Atta, Salem Alhazmi, Hani Hanjour, Ziad Jarrah, Marwan Al-Shehhi,\n",
      "    Majed Moqed\n",
      "[1] Abdul Aziz Al-Omari, Satam Suqami, Waleed Alshehri, Wail Alshehri\n"
     ]
    }
   ],
   "source": [
    "print(atta.components(mode=STRONG))\n",
    "print(atta.components(mode=WEAK))"
   ]
  },
  {
   "cell_type": "markdown",
   "metadata": {},
   "source": [
    "### Degree distribution"
   ]
  },
  {
   "cell_type": "code",
   "execution_count": 15,
   "metadata": {},
   "outputs": [
    {
     "name": "stdout",
     "output_type": "stream",
     "text": [
      "N = 19, mean +- sd: 2.9474 +- 1.4710\n",
      "[1, 2): *** (3)\n",
      "[2, 3): ****** (6)\n",
      "[3, 4): **** (4)\n",
      "[4, 5): * (1)\n",
      "[5, 6): ***** (5)\n"
     ]
    }
   ],
   "source": [
    "print(atta.degree_distribution(bin_width=1))"
   ]
  },
  {
   "cell_type": "markdown",
   "metadata": {},
   "source": [
    "### Network diameter"
   ]
  },
  {
   "cell_type": "code",
   "execution_count": 16,
   "metadata": {},
   "outputs": [],
   "source": [
    "atta.get_diameter()\n",
    "diameter_size = len(atta.get_diameter())"
   ]
  },
  {
   "cell_type": "code",
   "execution_count": 17,
   "metadata": {},
   "outputs": [
    {
     "data": {
      "text/plain": [
       "4"
      ]
     },
     "execution_count": 17,
     "metadata": {},
     "output_type": "execute_result"
    }
   ],
   "source": [
    "atta.omega()"
   ]
  },
  {
   "cell_type": "code",
   "execution_count": 18,
   "metadata": {},
   "outputs": [
    {
     "data": {
      "text/plain": [
       "10"
      ]
     },
     "execution_count": 18,
     "metadata": {},
     "output_type": "execute_result"
    }
   ],
   "source": [
    "atta.alpha()"
   ]
  },
  {
   "cell_type": "markdown",
   "metadata": {},
   "source": [
    "### Dyad census\n",
    "Dyad census means classifying each pair of vertices of a directed graph into three categories: \n",
    "    - mutual: there is an edge from a to b and also from b to a\n",
    "    - asymmetric: there is an edge from a to b or from b to a but not the other way round\n",
    "    - null: there is no connection between a and b"
   ]
  },
  {
   "cell_type": "code",
   "execution_count": 20,
   "metadata": {},
   "outputs": [
    {
     "name": "stdout",
     "output_type": "stream",
     "text": [
      "28 mutual, 0 asymmetric, 143 null dyads\n"
     ]
    }
   ],
   "source": [
    "print(atta.dyad_census())"
   ]
  },
  {
   "cell_type": "markdown",
   "metadata": {},
   "source": [
    "### Adjecency matrix\n",
    "* type (Ignored for directed graphs)\n",
    "    - 0: uses the lower triangle of the matrix\n",
    "    - 1: uses the upper triangle\n",
    "    - 2: uses both parts"
   ]
  },
  {
   "cell_type": "code",
   "execution_count": 21,
   "metadata": {},
   "outputs": [
    {
     "name": "stdout",
     "output_type": "stream",
     "text": [
      "[[0, 1, 0, 0, 0, 0, 0, 0, 0, 0, 0, 0, 0, 0, 0, 0, 0, 0, 0]\n",
      " [1, 0, 1, 1, 1, 1, 0, 0, 0, 0, 0, 0, 0, 0, 0, 0, 0, 0, 0]\n",
      " [0, 1, 0, 0, 0, 0, 0, 1, 0, 0, 0, 0, 0, 0, 0, 0, 0, 0, 0]\n",
      " [0, 1, 0, 0, 0, 0, 0, 0, 0, 0, 0, 0, 1, 0, 0, 0, 0, 0, 0]\n",
      " [0, 1, 0, 0, 0, 1, 1, 0, 0, 0, 0, 0, 0, 0, 0, 0, 0, 0, 0]\n",
      " [0, 1, 0, 0, 1, 0, 1, 0, 0, 0, 0, 0, 0, 0, 0, 0, 0, 0, 0]\n",
      " [0, 0, 0, 0, 1, 1, 0, 0, 1, 1, 1, 0, 0, 0, 0, 0, 0, 0, 0]\n",
      " [0, 0, 1, 0, 0, 0, 0, 0, 0, 0, 0, 0, 0, 1, 0, 0, 0, 0, 0]\n",
      " [0, 0, 0, 0, 0, 0, 1, 0, 0, 0, 0, 1, 0, 0, 0, 0, 0, 0, 0]\n",
      " [0, 0, 0, 0, 0, 0, 1, 0, 0, 0, 0, 1, 1, 1, 0, 0, 0, 0, 0]\n",
      " [0, 0, 0, 0, 0, 0, 1, 0, 0, 0, 0, 0, 1, 1, 0, 0, 0, 0, 0]\n",
      " [0, 0, 0, 0, 0, 0, 0, 0, 1, 1, 0, 0, 1, 1, 1, 0, 0, 0, 0]\n",
      " [0, 0, 0, 1, 0, 0, 0, 0, 0, 1, 1, 1, 0, 1, 0, 0, 0, 0, 0]\n",
      " [0, 0, 0, 0, 0, 0, 0, 1, 0, 1, 1, 1, 1, 0, 0, 0, 0, 0, 0]\n",
      " [0, 0, 0, 0, 0, 0, 0, 0, 0, 0, 0, 1, 0, 0, 0, 0, 0, 0, 0]\n",
      " [0, 0, 0, 0, 0, 0, 0, 0, 0, 0, 0, 0, 0, 0, 0, 0, 0, 1, 0]\n",
      " [0, 0, 0, 0, 0, 0, 0, 0, 0, 0, 0, 0, 0, 0, 0, 0, 0, 1, 1]\n",
      " [0, 0, 0, 0, 0, 0, 0, 0, 0, 0, 0, 0, 0, 0, 0, 1, 1, 0, 1]\n",
      " [0, 0, 0, 0, 0, 0, 0, 0, 0, 0, 0, 0, 0, 0, 0, 0, 1, 1, 0]]\n"
     ]
    },
    {
     "data": {
      "image/svg+xml": [
       "<?xml version=\"1.0\" encoding=\"UTF-8\"?>\n",
       "<svg xmlns=\"http://www.w3.org/2000/svg\" xmlns:xlink=\"http://www.w3.org/1999/xlink\" width=\"600pt\" height=\"600pt\" viewBox=\"0 0 600 600\" version=\"1.1\">\n",
       "<g id=\"surface8\">\n",
       "<rect x=\"0\" y=\"0\" width=\"600\" height=\"600\" style=\"fill:rgb(100%,100%,100%);fill-opacity:1;stroke:none;\"/>\n",
       "<path style=\"fill-rule:nonzero;fill:rgb(100%,100%,100%);fill-opacity:1;stroke-width:1;stroke-linecap:butt;stroke-linejoin:miter;stroke:rgb(50%,50%,50%);stroke-opacity:1;stroke-miterlimit:10;\" d=\"M 20 20 L 49.472656 20 L 49.472656 49.472656 L 20 49.472656 Z M 20 20 \"/>\n",
       "<path style=\"fill-rule:nonzero;fill:rgb(0%,0%,0%);fill-opacity:1;stroke-width:1;stroke-linecap:butt;stroke-linejoin:miter;stroke:rgb(50%,50%,50%);stroke-opacity:1;stroke-miterlimit:10;\" d=\"M 49.472656 20 L 78.945312 20 L 78.945312 49.472656 L 49.472656 49.472656 Z M 49.472656 20 \"/>\n",
       "<path style=\"fill-rule:nonzero;fill:rgb(100%,100%,100%);fill-opacity:1;stroke-width:1;stroke-linecap:butt;stroke-linejoin:miter;stroke:rgb(50%,50%,50%);stroke-opacity:1;stroke-miterlimit:10;\" d=\"M 78.949219 20 L 108.421875 20 L 108.421875 49.472656 L 78.949219 49.472656 Z M 78.949219 20 \"/>\n",
       "<path style=\"fill-rule:nonzero;fill:rgb(100%,100%,100%);fill-opacity:1;stroke-width:1;stroke-linecap:butt;stroke-linejoin:miter;stroke:rgb(50%,50%,50%);stroke-opacity:1;stroke-miterlimit:10;\" d=\"M 108.421875 20 L 137.894531 20 L 137.894531 49.472656 L 108.421875 49.472656 Z M 108.421875 20 \"/>\n",
       "<path style=\"fill-rule:nonzero;fill:rgb(100%,100%,100%);fill-opacity:1;stroke-width:1;stroke-linecap:butt;stroke-linejoin:miter;stroke:rgb(50%,50%,50%);stroke-opacity:1;stroke-miterlimit:10;\" d=\"M 137.894531 20 L 167.367188 20 L 167.367188 49.472656 L 137.894531 49.472656 Z M 137.894531 20 \"/>\n",
       "<path style=\"fill-rule:nonzero;fill:rgb(100%,100%,100%);fill-opacity:1;stroke-width:1;stroke-linecap:butt;stroke-linejoin:miter;stroke:rgb(50%,50%,50%);stroke-opacity:1;stroke-miterlimit:10;\" d=\"M 167.367188 20 L 196.839844 20 L 196.839844 49.472656 L 167.367188 49.472656 Z M 167.367188 20 \"/>\n",
       "<path style=\"fill-rule:nonzero;fill:rgb(100%,100%,100%);fill-opacity:1;stroke-width:1;stroke-linecap:butt;stroke-linejoin:miter;stroke:rgb(50%,50%,50%);stroke-opacity:1;stroke-miterlimit:10;\" d=\"M 196.84375 20 L 226.316406 20 L 226.316406 49.472656 L 196.84375 49.472656 Z M 196.84375 20 \"/>\n",
       "<path style=\"fill-rule:nonzero;fill:rgb(100%,100%,100%);fill-opacity:1;stroke-width:1;stroke-linecap:butt;stroke-linejoin:miter;stroke:rgb(50%,50%,50%);stroke-opacity:1;stroke-miterlimit:10;\" d=\"M 226.316406 20 L 255.789062 20 L 255.789062 49.472656 L 226.316406 49.472656 Z M 226.316406 20 \"/>\n",
       "<path style=\"fill-rule:nonzero;fill:rgb(100%,100%,100%);fill-opacity:1;stroke-width:1;stroke-linecap:butt;stroke-linejoin:miter;stroke:rgb(50%,50%,50%);stroke-opacity:1;stroke-miterlimit:10;\" d=\"M 255.789062 20 L 285.261719 20 L 285.261719 49.472656 L 255.789062 49.472656 Z M 255.789062 20 \"/>\n",
       "<path style=\"fill-rule:nonzero;fill:rgb(100%,100%,100%);fill-opacity:1;stroke-width:1;stroke-linecap:butt;stroke-linejoin:miter;stroke:rgb(50%,50%,50%);stroke-opacity:1;stroke-miterlimit:10;\" d=\"M 285.261719 20 L 314.734375 20 L 314.734375 49.472656 L 285.261719 49.472656 Z M 285.261719 20 \"/>\n",
       "<path style=\"fill-rule:nonzero;fill:rgb(100%,100%,100%);fill-opacity:1;stroke-width:1;stroke-linecap:butt;stroke-linejoin:miter;stroke:rgb(50%,50%,50%);stroke-opacity:1;stroke-miterlimit:10;\" d=\"M 314.738281 20 L 344.210938 20 L 344.210938 49.472656 L 314.738281 49.472656 Z M 314.738281 20 \"/>\n",
       "<path style=\"fill-rule:nonzero;fill:rgb(100%,100%,100%);fill-opacity:1;stroke-width:1;stroke-linecap:butt;stroke-linejoin:miter;stroke:rgb(50%,50%,50%);stroke-opacity:1;stroke-miterlimit:10;\" d=\"M 344.210938 20 L 373.683594 20 L 373.683594 49.472656 L 344.210938 49.472656 Z M 344.210938 20 \"/>\n",
       "<path style=\"fill-rule:nonzero;fill:rgb(100%,100%,100%);fill-opacity:1;stroke-width:1;stroke-linecap:butt;stroke-linejoin:miter;stroke:rgb(50%,50%,50%);stroke-opacity:1;stroke-miterlimit:10;\" d=\"M 373.683594 20 L 403.15625 20 L 403.15625 49.472656 L 373.683594 49.472656 Z M 373.683594 20 \"/>\n",
       "<path style=\"fill-rule:nonzero;fill:rgb(100%,100%,100%);fill-opacity:1;stroke-width:1;stroke-linecap:butt;stroke-linejoin:miter;stroke:rgb(50%,50%,50%);stroke-opacity:1;stroke-miterlimit:10;\" d=\"M 403.15625 20 L 432.628906 20 L 432.628906 49.472656 L 403.15625 49.472656 Z M 403.15625 20 \"/>\n",
       "<path style=\"fill-rule:nonzero;fill:rgb(100%,100%,100%);fill-opacity:1;stroke-width:1;stroke-linecap:butt;stroke-linejoin:miter;stroke:rgb(50%,50%,50%);stroke-opacity:1;stroke-miterlimit:10;\" d=\"M 432.632812 20 L 462.105469 20 L 462.105469 49.472656 L 432.632812 49.472656 Z M 432.632812 20 \"/>\n",
       "<path style=\"fill-rule:nonzero;fill:rgb(100%,100%,100%);fill-opacity:1;stroke-width:1;stroke-linecap:butt;stroke-linejoin:miter;stroke:rgb(50%,50%,50%);stroke-opacity:1;stroke-miterlimit:10;\" d=\"M 462.105469 20 L 491.578125 20 L 491.578125 49.472656 L 462.105469 49.472656 Z M 462.105469 20 \"/>\n",
       "<path style=\"fill-rule:nonzero;fill:rgb(100%,100%,100%);fill-opacity:1;stroke-width:1;stroke-linecap:butt;stroke-linejoin:miter;stroke:rgb(50%,50%,50%);stroke-opacity:1;stroke-miterlimit:10;\" d=\"M 491.578125 20 L 521.050781 20 L 521.050781 49.472656 L 491.578125 49.472656 Z M 491.578125 20 \"/>\n",
       "<path style=\"fill-rule:nonzero;fill:rgb(100%,100%,100%);fill-opacity:1;stroke-width:1;stroke-linecap:butt;stroke-linejoin:miter;stroke:rgb(50%,50%,50%);stroke-opacity:1;stroke-miterlimit:10;\" d=\"M 521.050781 20 L 550.523438 20 L 550.523438 49.472656 L 521.050781 49.472656 Z M 521.050781 20 \"/>\n",
       "<path style=\"fill-rule:nonzero;fill:rgb(100%,100%,100%);fill-opacity:1;stroke-width:1;stroke-linecap:butt;stroke-linejoin:miter;stroke:rgb(50%,50%,50%);stroke-opacity:1;stroke-miterlimit:10;\" d=\"M 550.527344 20 L 580 20 L 580 49.472656 L 550.527344 49.472656 Z M 550.527344 20 \"/>\n",
       "<path style=\"fill-rule:nonzero;fill:rgb(0%,0%,0%);fill-opacity:1;stroke-width:1;stroke-linecap:butt;stroke-linejoin:miter;stroke:rgb(50%,50%,50%);stroke-opacity:1;stroke-miterlimit:10;\" d=\"M 20 49.472656 L 49.472656 49.472656 L 49.472656 78.945312 L 20 78.945312 Z M 20 49.472656 \"/>\n",
       "<path style=\"fill-rule:nonzero;fill:rgb(100%,100%,100%);fill-opacity:1;stroke-width:1;stroke-linecap:butt;stroke-linejoin:miter;stroke:rgb(50%,50%,50%);stroke-opacity:1;stroke-miterlimit:10;\" d=\"M 49.472656 49.472656 L 78.945312 49.472656 L 78.945312 78.945312 L 49.472656 78.945312 Z M 49.472656 49.472656 \"/>\n",
       "<path style=\"fill-rule:nonzero;fill:rgb(0%,0%,0%);fill-opacity:1;stroke-width:1;stroke-linecap:butt;stroke-linejoin:miter;stroke:rgb(50%,50%,50%);stroke-opacity:1;stroke-miterlimit:10;\" d=\"M 78.949219 49.472656 L 108.421875 49.472656 L 108.421875 78.945312 L 78.949219 78.945312 Z M 78.949219 49.472656 \"/>\n",
       "<path style=\"fill-rule:nonzero;fill:rgb(0%,0%,0%);fill-opacity:1;stroke-width:1;stroke-linecap:butt;stroke-linejoin:miter;stroke:rgb(50%,50%,50%);stroke-opacity:1;stroke-miterlimit:10;\" d=\"M 108.421875 49.472656 L 137.894531 49.472656 L 137.894531 78.945312 L 108.421875 78.945312 Z M 108.421875 49.472656 \"/>\n",
       "<path style=\"fill-rule:nonzero;fill:rgb(0%,0%,0%);fill-opacity:1;stroke-width:1;stroke-linecap:butt;stroke-linejoin:miter;stroke:rgb(50%,50%,50%);stroke-opacity:1;stroke-miterlimit:10;\" d=\"M 137.894531 49.472656 L 167.367188 49.472656 L 167.367188 78.945312 L 137.894531 78.945312 Z M 137.894531 49.472656 \"/>\n",
       "<path style=\"fill-rule:nonzero;fill:rgb(0%,0%,0%);fill-opacity:1;stroke-width:1;stroke-linecap:butt;stroke-linejoin:miter;stroke:rgb(50%,50%,50%);stroke-opacity:1;stroke-miterlimit:10;\" d=\"M 167.367188 49.472656 L 196.839844 49.472656 L 196.839844 78.945312 L 167.367188 78.945312 Z M 167.367188 49.472656 \"/>\n",
       "<path style=\"fill-rule:nonzero;fill:rgb(100%,100%,100%);fill-opacity:1;stroke-width:1;stroke-linecap:butt;stroke-linejoin:miter;stroke:rgb(50%,50%,50%);stroke-opacity:1;stroke-miterlimit:10;\" d=\"M 196.84375 49.472656 L 226.316406 49.472656 L 226.316406 78.945312 L 196.84375 78.945312 Z M 196.84375 49.472656 \"/>\n",
       "<path style=\"fill-rule:nonzero;fill:rgb(100%,100%,100%);fill-opacity:1;stroke-width:1;stroke-linecap:butt;stroke-linejoin:miter;stroke:rgb(50%,50%,50%);stroke-opacity:1;stroke-miterlimit:10;\" d=\"M 226.316406 49.472656 L 255.789062 49.472656 L 255.789062 78.945312 L 226.316406 78.945312 Z M 226.316406 49.472656 \"/>\n",
       "<path style=\"fill-rule:nonzero;fill:rgb(100%,100%,100%);fill-opacity:1;stroke-width:1;stroke-linecap:butt;stroke-linejoin:miter;stroke:rgb(50%,50%,50%);stroke-opacity:1;stroke-miterlimit:10;\" d=\"M 255.789062 49.472656 L 285.261719 49.472656 L 285.261719 78.945312 L 255.789062 78.945312 Z M 255.789062 49.472656 \"/>\n",
       "<path style=\"fill-rule:nonzero;fill:rgb(100%,100%,100%);fill-opacity:1;stroke-width:1;stroke-linecap:butt;stroke-linejoin:miter;stroke:rgb(50%,50%,50%);stroke-opacity:1;stroke-miterlimit:10;\" d=\"M 285.261719 49.472656 L 314.734375 49.472656 L 314.734375 78.945312 L 285.261719 78.945312 Z M 285.261719 49.472656 \"/>\n",
       "<path style=\"fill-rule:nonzero;fill:rgb(100%,100%,100%);fill-opacity:1;stroke-width:1;stroke-linecap:butt;stroke-linejoin:miter;stroke:rgb(50%,50%,50%);stroke-opacity:1;stroke-miterlimit:10;\" d=\"M 314.738281 49.472656 L 344.210938 49.472656 L 344.210938 78.945312 L 314.738281 78.945312 Z M 314.738281 49.472656 \"/>\n",
       "<path style=\"fill-rule:nonzero;fill:rgb(100%,100%,100%);fill-opacity:1;stroke-width:1;stroke-linecap:butt;stroke-linejoin:miter;stroke:rgb(50%,50%,50%);stroke-opacity:1;stroke-miterlimit:10;\" d=\"M 344.210938 49.472656 L 373.683594 49.472656 L 373.683594 78.945312 L 344.210938 78.945312 Z M 344.210938 49.472656 \"/>\n",
       "<path style=\"fill-rule:nonzero;fill:rgb(100%,100%,100%);fill-opacity:1;stroke-width:1;stroke-linecap:butt;stroke-linejoin:miter;stroke:rgb(50%,50%,50%);stroke-opacity:1;stroke-miterlimit:10;\" d=\"M 373.683594 49.472656 L 403.15625 49.472656 L 403.15625 78.945312 L 373.683594 78.945312 Z M 373.683594 49.472656 \"/>\n",
       "<path style=\"fill-rule:nonzero;fill:rgb(100%,100%,100%);fill-opacity:1;stroke-width:1;stroke-linecap:butt;stroke-linejoin:miter;stroke:rgb(50%,50%,50%);stroke-opacity:1;stroke-miterlimit:10;\" d=\"M 403.15625 49.472656 L 432.628906 49.472656 L 432.628906 78.945312 L 403.15625 78.945312 Z M 403.15625 49.472656 \"/>\n",
       "<path style=\"fill-rule:nonzero;fill:rgb(100%,100%,100%);fill-opacity:1;stroke-width:1;stroke-linecap:butt;stroke-linejoin:miter;stroke:rgb(50%,50%,50%);stroke-opacity:1;stroke-miterlimit:10;\" d=\"M 432.632812 49.472656 L 462.105469 49.472656 L 462.105469 78.945312 L 432.632812 78.945312 Z M 432.632812 49.472656 \"/>\n",
       "<path style=\"fill-rule:nonzero;fill:rgb(100%,100%,100%);fill-opacity:1;stroke-width:1;stroke-linecap:butt;stroke-linejoin:miter;stroke:rgb(50%,50%,50%);stroke-opacity:1;stroke-miterlimit:10;\" d=\"M 462.105469 49.472656 L 491.578125 49.472656 L 491.578125 78.945312 L 462.105469 78.945312 Z M 462.105469 49.472656 \"/>\n",
       "<path style=\"fill-rule:nonzero;fill:rgb(100%,100%,100%);fill-opacity:1;stroke-width:1;stroke-linecap:butt;stroke-linejoin:miter;stroke:rgb(50%,50%,50%);stroke-opacity:1;stroke-miterlimit:10;\" d=\"M 491.578125 49.472656 L 521.050781 49.472656 L 521.050781 78.945312 L 491.578125 78.945312 Z M 491.578125 49.472656 \"/>\n",
       "<path style=\"fill-rule:nonzero;fill:rgb(100%,100%,100%);fill-opacity:1;stroke-width:1;stroke-linecap:butt;stroke-linejoin:miter;stroke:rgb(50%,50%,50%);stroke-opacity:1;stroke-miterlimit:10;\" d=\"M 521.050781 49.472656 L 550.523438 49.472656 L 550.523438 78.945312 L 521.050781 78.945312 Z M 521.050781 49.472656 \"/>\n",
       "<path style=\"fill-rule:nonzero;fill:rgb(100%,100%,100%);fill-opacity:1;stroke-width:1;stroke-linecap:butt;stroke-linejoin:miter;stroke:rgb(50%,50%,50%);stroke-opacity:1;stroke-miterlimit:10;\" d=\"M 550.527344 49.472656 L 580 49.472656 L 580 78.945312 L 550.527344 78.945312 Z M 550.527344 49.472656 \"/>\n",
       "<path style=\"fill-rule:nonzero;fill:rgb(100%,100%,100%);fill-opacity:1;stroke-width:1;stroke-linecap:butt;stroke-linejoin:miter;stroke:rgb(50%,50%,50%);stroke-opacity:1;stroke-miterlimit:10;\" d=\"M 20 78.949219 L 49.472656 78.949219 L 49.472656 108.421875 L 20 108.421875 Z M 20 78.949219 \"/>\n",
       "<path style=\"fill-rule:nonzero;fill:rgb(0%,0%,0%);fill-opacity:1;stroke-width:1;stroke-linecap:butt;stroke-linejoin:miter;stroke:rgb(50%,50%,50%);stroke-opacity:1;stroke-miterlimit:10;\" d=\"M 49.472656 78.949219 L 78.945312 78.949219 L 78.945312 108.421875 L 49.472656 108.421875 Z M 49.472656 78.949219 \"/>\n",
       "<path style=\"fill-rule:nonzero;fill:rgb(100%,100%,100%);fill-opacity:1;stroke-width:1;stroke-linecap:butt;stroke-linejoin:miter;stroke:rgb(50%,50%,50%);stroke-opacity:1;stroke-miterlimit:10;\" d=\"M 78.949219 78.949219 L 108.421875 78.949219 L 108.421875 108.421875 L 78.949219 108.421875 Z M 78.949219 78.949219 \"/>\n",
       "<path style=\"fill-rule:nonzero;fill:rgb(100%,100%,100%);fill-opacity:1;stroke-width:1;stroke-linecap:butt;stroke-linejoin:miter;stroke:rgb(50%,50%,50%);stroke-opacity:1;stroke-miterlimit:10;\" d=\"M 108.421875 78.949219 L 137.894531 78.949219 L 137.894531 108.421875 L 108.421875 108.421875 Z M 108.421875 78.949219 \"/>\n",
       "<path style=\"fill-rule:nonzero;fill:rgb(100%,100%,100%);fill-opacity:1;stroke-width:1;stroke-linecap:butt;stroke-linejoin:miter;stroke:rgb(50%,50%,50%);stroke-opacity:1;stroke-miterlimit:10;\" d=\"M 137.894531 78.949219 L 167.367188 78.949219 L 167.367188 108.421875 L 137.894531 108.421875 Z M 137.894531 78.949219 \"/>\n",
       "<path style=\"fill-rule:nonzero;fill:rgb(100%,100%,100%);fill-opacity:1;stroke-width:1;stroke-linecap:butt;stroke-linejoin:miter;stroke:rgb(50%,50%,50%);stroke-opacity:1;stroke-miterlimit:10;\" d=\"M 167.367188 78.949219 L 196.839844 78.949219 L 196.839844 108.421875 L 167.367188 108.421875 Z M 167.367188 78.949219 \"/>\n",
       "<path style=\"fill-rule:nonzero;fill:rgb(100%,100%,100%);fill-opacity:1;stroke-width:1;stroke-linecap:butt;stroke-linejoin:miter;stroke:rgb(50%,50%,50%);stroke-opacity:1;stroke-miterlimit:10;\" d=\"M 196.84375 78.949219 L 226.316406 78.949219 L 226.316406 108.421875 L 196.84375 108.421875 Z M 196.84375 78.949219 \"/>\n",
       "<path style=\"fill-rule:nonzero;fill:rgb(0%,0%,0%);fill-opacity:1;stroke-width:1;stroke-linecap:butt;stroke-linejoin:miter;stroke:rgb(50%,50%,50%);stroke-opacity:1;stroke-miterlimit:10;\" d=\"M 226.316406 78.949219 L 255.789062 78.949219 L 255.789062 108.421875 L 226.316406 108.421875 Z M 226.316406 78.949219 \"/>\n",
       "<path style=\"fill-rule:nonzero;fill:rgb(100%,100%,100%);fill-opacity:1;stroke-width:1;stroke-linecap:butt;stroke-linejoin:miter;stroke:rgb(50%,50%,50%);stroke-opacity:1;stroke-miterlimit:10;\" d=\"M 255.789062 78.949219 L 285.261719 78.949219 L 285.261719 108.421875 L 255.789062 108.421875 Z M 255.789062 78.949219 \"/>\n",
       "<path style=\"fill-rule:nonzero;fill:rgb(100%,100%,100%);fill-opacity:1;stroke-width:1;stroke-linecap:butt;stroke-linejoin:miter;stroke:rgb(50%,50%,50%);stroke-opacity:1;stroke-miterlimit:10;\" d=\"M 285.261719 78.949219 L 314.734375 78.949219 L 314.734375 108.421875 L 285.261719 108.421875 Z M 285.261719 78.949219 \"/>\n",
       "<path style=\"fill-rule:nonzero;fill:rgb(100%,100%,100%);fill-opacity:1;stroke-width:1;stroke-linecap:butt;stroke-linejoin:miter;stroke:rgb(50%,50%,50%);stroke-opacity:1;stroke-miterlimit:10;\" d=\"M 314.738281 78.949219 L 344.210938 78.949219 L 344.210938 108.421875 L 314.738281 108.421875 Z M 314.738281 78.949219 \"/>\n",
       "<path style=\"fill-rule:nonzero;fill:rgb(100%,100%,100%);fill-opacity:1;stroke-width:1;stroke-linecap:butt;stroke-linejoin:miter;stroke:rgb(50%,50%,50%);stroke-opacity:1;stroke-miterlimit:10;\" d=\"M 344.210938 78.949219 L 373.683594 78.949219 L 373.683594 108.421875 L 344.210938 108.421875 Z M 344.210938 78.949219 \"/>\n",
       "<path style=\"fill-rule:nonzero;fill:rgb(100%,100%,100%);fill-opacity:1;stroke-width:1;stroke-linecap:butt;stroke-linejoin:miter;stroke:rgb(50%,50%,50%);stroke-opacity:1;stroke-miterlimit:10;\" d=\"M 373.683594 78.949219 L 403.15625 78.949219 L 403.15625 108.421875 L 373.683594 108.421875 Z M 373.683594 78.949219 \"/>\n",
       "<path style=\"fill-rule:nonzero;fill:rgb(100%,100%,100%);fill-opacity:1;stroke-width:1;stroke-linecap:butt;stroke-linejoin:miter;stroke:rgb(50%,50%,50%);stroke-opacity:1;stroke-miterlimit:10;\" d=\"M 403.15625 78.949219 L 432.628906 78.949219 L 432.628906 108.421875 L 403.15625 108.421875 Z M 403.15625 78.949219 \"/>\n",
       "<path style=\"fill-rule:nonzero;fill:rgb(100%,100%,100%);fill-opacity:1;stroke-width:1;stroke-linecap:butt;stroke-linejoin:miter;stroke:rgb(50%,50%,50%);stroke-opacity:1;stroke-miterlimit:10;\" d=\"M 432.632812 78.949219 L 462.105469 78.949219 L 462.105469 108.421875 L 432.632812 108.421875 Z M 432.632812 78.949219 \"/>\n",
       "<path style=\"fill-rule:nonzero;fill:rgb(100%,100%,100%);fill-opacity:1;stroke-width:1;stroke-linecap:butt;stroke-linejoin:miter;stroke:rgb(50%,50%,50%);stroke-opacity:1;stroke-miterlimit:10;\" d=\"M 462.105469 78.949219 L 491.578125 78.949219 L 491.578125 108.421875 L 462.105469 108.421875 Z M 462.105469 78.949219 \"/>\n",
       "<path style=\"fill-rule:nonzero;fill:rgb(100%,100%,100%);fill-opacity:1;stroke-width:1;stroke-linecap:butt;stroke-linejoin:miter;stroke:rgb(50%,50%,50%);stroke-opacity:1;stroke-miterlimit:10;\" d=\"M 491.578125 78.949219 L 521.050781 78.949219 L 521.050781 108.421875 L 491.578125 108.421875 Z M 491.578125 78.949219 \"/>\n",
       "<path style=\"fill-rule:nonzero;fill:rgb(100%,100%,100%);fill-opacity:1;stroke-width:1;stroke-linecap:butt;stroke-linejoin:miter;stroke:rgb(50%,50%,50%);stroke-opacity:1;stroke-miterlimit:10;\" d=\"M 521.050781 78.949219 L 550.523438 78.949219 L 550.523438 108.421875 L 521.050781 108.421875 Z M 521.050781 78.949219 \"/>\n",
       "<path style=\"fill-rule:nonzero;fill:rgb(100%,100%,100%);fill-opacity:1;stroke-width:1;stroke-linecap:butt;stroke-linejoin:miter;stroke:rgb(50%,50%,50%);stroke-opacity:1;stroke-miterlimit:10;\" d=\"M 550.527344 78.949219 L 580 78.949219 L 580 108.421875 L 550.527344 108.421875 Z M 550.527344 78.949219 \"/>\n",
       "<path style=\"fill-rule:nonzero;fill:rgb(100%,100%,100%);fill-opacity:1;stroke-width:1;stroke-linecap:butt;stroke-linejoin:miter;stroke:rgb(50%,50%,50%);stroke-opacity:1;stroke-miterlimit:10;\" d=\"M 20 108.421875 L 49.472656 108.421875 L 49.472656 137.894531 L 20 137.894531 Z M 20 108.421875 \"/>\n",
       "<path style=\"fill-rule:nonzero;fill:rgb(0%,0%,0%);fill-opacity:1;stroke-width:1;stroke-linecap:butt;stroke-linejoin:miter;stroke:rgb(50%,50%,50%);stroke-opacity:1;stroke-miterlimit:10;\" d=\"M 49.472656 108.421875 L 78.945312 108.421875 L 78.945312 137.894531 L 49.472656 137.894531 Z M 49.472656 108.421875 \"/>\n",
       "<path style=\"fill-rule:nonzero;fill:rgb(100%,100%,100%);fill-opacity:1;stroke-width:1;stroke-linecap:butt;stroke-linejoin:miter;stroke:rgb(50%,50%,50%);stroke-opacity:1;stroke-miterlimit:10;\" d=\"M 78.949219 108.421875 L 108.421875 108.421875 L 108.421875 137.894531 L 78.949219 137.894531 Z M 78.949219 108.421875 \"/>\n",
       "<path style=\"fill-rule:nonzero;fill:rgb(100%,100%,100%);fill-opacity:1;stroke-width:1;stroke-linecap:butt;stroke-linejoin:miter;stroke:rgb(50%,50%,50%);stroke-opacity:1;stroke-miterlimit:10;\" d=\"M 108.421875 108.421875 L 137.894531 108.421875 L 137.894531 137.894531 L 108.421875 137.894531 Z M 108.421875 108.421875 \"/>\n",
       "<path style=\"fill-rule:nonzero;fill:rgb(100%,100%,100%);fill-opacity:1;stroke-width:1;stroke-linecap:butt;stroke-linejoin:miter;stroke:rgb(50%,50%,50%);stroke-opacity:1;stroke-miterlimit:10;\" d=\"M 137.894531 108.421875 L 167.367188 108.421875 L 167.367188 137.894531 L 137.894531 137.894531 Z M 137.894531 108.421875 \"/>\n",
       "<path style=\"fill-rule:nonzero;fill:rgb(100%,100%,100%);fill-opacity:1;stroke-width:1;stroke-linecap:butt;stroke-linejoin:miter;stroke:rgb(50%,50%,50%);stroke-opacity:1;stroke-miterlimit:10;\" d=\"M 167.367188 108.421875 L 196.839844 108.421875 L 196.839844 137.894531 L 167.367188 137.894531 Z M 167.367188 108.421875 \"/>\n",
       "<path style=\"fill-rule:nonzero;fill:rgb(100%,100%,100%);fill-opacity:1;stroke-width:1;stroke-linecap:butt;stroke-linejoin:miter;stroke:rgb(50%,50%,50%);stroke-opacity:1;stroke-miterlimit:10;\" d=\"M 196.84375 108.421875 L 226.316406 108.421875 L 226.316406 137.894531 L 196.84375 137.894531 Z M 196.84375 108.421875 \"/>\n",
       "<path style=\"fill-rule:nonzero;fill:rgb(100%,100%,100%);fill-opacity:1;stroke-width:1;stroke-linecap:butt;stroke-linejoin:miter;stroke:rgb(50%,50%,50%);stroke-opacity:1;stroke-miterlimit:10;\" d=\"M 226.316406 108.421875 L 255.789062 108.421875 L 255.789062 137.894531 L 226.316406 137.894531 Z M 226.316406 108.421875 \"/>\n",
       "<path style=\"fill-rule:nonzero;fill:rgb(100%,100%,100%);fill-opacity:1;stroke-width:1;stroke-linecap:butt;stroke-linejoin:miter;stroke:rgb(50%,50%,50%);stroke-opacity:1;stroke-miterlimit:10;\" d=\"M 255.789062 108.421875 L 285.261719 108.421875 L 285.261719 137.894531 L 255.789062 137.894531 Z M 255.789062 108.421875 \"/>\n",
       "<path style=\"fill-rule:nonzero;fill:rgb(100%,100%,100%);fill-opacity:1;stroke-width:1;stroke-linecap:butt;stroke-linejoin:miter;stroke:rgb(50%,50%,50%);stroke-opacity:1;stroke-miterlimit:10;\" d=\"M 285.261719 108.421875 L 314.734375 108.421875 L 314.734375 137.894531 L 285.261719 137.894531 Z M 285.261719 108.421875 \"/>\n",
       "<path style=\"fill-rule:nonzero;fill:rgb(100%,100%,100%);fill-opacity:1;stroke-width:1;stroke-linecap:butt;stroke-linejoin:miter;stroke:rgb(50%,50%,50%);stroke-opacity:1;stroke-miterlimit:10;\" d=\"M 314.738281 108.421875 L 344.210938 108.421875 L 344.210938 137.894531 L 314.738281 137.894531 Z M 314.738281 108.421875 \"/>\n",
       "<path style=\"fill-rule:nonzero;fill:rgb(100%,100%,100%);fill-opacity:1;stroke-width:1;stroke-linecap:butt;stroke-linejoin:miter;stroke:rgb(50%,50%,50%);stroke-opacity:1;stroke-miterlimit:10;\" d=\"M 344.210938 108.421875 L 373.683594 108.421875 L 373.683594 137.894531 L 344.210938 137.894531 Z M 344.210938 108.421875 \"/>\n",
       "<path style=\"fill-rule:nonzero;fill:rgb(0%,0%,0%);fill-opacity:1;stroke-width:1;stroke-linecap:butt;stroke-linejoin:miter;stroke:rgb(50%,50%,50%);stroke-opacity:1;stroke-miterlimit:10;\" d=\"M 373.683594 108.421875 L 403.15625 108.421875 L 403.15625 137.894531 L 373.683594 137.894531 Z M 373.683594 108.421875 \"/>\n",
       "<path style=\"fill-rule:nonzero;fill:rgb(100%,100%,100%);fill-opacity:1;stroke-width:1;stroke-linecap:butt;stroke-linejoin:miter;stroke:rgb(50%,50%,50%);stroke-opacity:1;stroke-miterlimit:10;\" d=\"M 403.15625 108.421875 L 432.628906 108.421875 L 432.628906 137.894531 L 403.15625 137.894531 Z M 403.15625 108.421875 \"/>\n",
       "<path style=\"fill-rule:nonzero;fill:rgb(100%,100%,100%);fill-opacity:1;stroke-width:1;stroke-linecap:butt;stroke-linejoin:miter;stroke:rgb(50%,50%,50%);stroke-opacity:1;stroke-miterlimit:10;\" d=\"M 432.632812 108.421875 L 462.105469 108.421875 L 462.105469 137.894531 L 432.632812 137.894531 Z M 432.632812 108.421875 \"/>\n",
       "<path style=\"fill-rule:nonzero;fill:rgb(100%,100%,100%);fill-opacity:1;stroke-width:1;stroke-linecap:butt;stroke-linejoin:miter;stroke:rgb(50%,50%,50%);stroke-opacity:1;stroke-miterlimit:10;\" d=\"M 462.105469 108.421875 L 491.578125 108.421875 L 491.578125 137.894531 L 462.105469 137.894531 Z M 462.105469 108.421875 \"/>\n",
       "<path style=\"fill-rule:nonzero;fill:rgb(100%,100%,100%);fill-opacity:1;stroke-width:1;stroke-linecap:butt;stroke-linejoin:miter;stroke:rgb(50%,50%,50%);stroke-opacity:1;stroke-miterlimit:10;\" d=\"M 491.578125 108.421875 L 521.050781 108.421875 L 521.050781 137.894531 L 491.578125 137.894531 Z M 491.578125 108.421875 \"/>\n",
       "<path style=\"fill-rule:nonzero;fill:rgb(100%,100%,100%);fill-opacity:1;stroke-width:1;stroke-linecap:butt;stroke-linejoin:miter;stroke:rgb(50%,50%,50%);stroke-opacity:1;stroke-miterlimit:10;\" d=\"M 521.050781 108.421875 L 550.523438 108.421875 L 550.523438 137.894531 L 521.050781 137.894531 Z M 521.050781 108.421875 \"/>\n",
       "<path style=\"fill-rule:nonzero;fill:rgb(100%,100%,100%);fill-opacity:1;stroke-width:1;stroke-linecap:butt;stroke-linejoin:miter;stroke:rgb(50%,50%,50%);stroke-opacity:1;stroke-miterlimit:10;\" d=\"M 550.527344 108.421875 L 580 108.421875 L 580 137.894531 L 550.527344 137.894531 Z M 550.527344 108.421875 \"/>\n",
       "<path style=\"fill-rule:nonzero;fill:rgb(100%,100%,100%);fill-opacity:1;stroke-width:1;stroke-linecap:butt;stroke-linejoin:miter;stroke:rgb(50%,50%,50%);stroke-opacity:1;stroke-miterlimit:10;\" d=\"M 20 137.894531 L 49.472656 137.894531 L 49.472656 167.367188 L 20 167.367188 Z M 20 137.894531 \"/>\n",
       "<path style=\"fill-rule:nonzero;fill:rgb(0%,0%,0%);fill-opacity:1;stroke-width:1;stroke-linecap:butt;stroke-linejoin:miter;stroke:rgb(50%,50%,50%);stroke-opacity:1;stroke-miterlimit:10;\" d=\"M 49.472656 137.894531 L 78.945312 137.894531 L 78.945312 167.367188 L 49.472656 167.367188 Z M 49.472656 137.894531 \"/>\n",
       "<path style=\"fill-rule:nonzero;fill:rgb(100%,100%,100%);fill-opacity:1;stroke-width:1;stroke-linecap:butt;stroke-linejoin:miter;stroke:rgb(50%,50%,50%);stroke-opacity:1;stroke-miterlimit:10;\" d=\"M 78.949219 137.894531 L 108.421875 137.894531 L 108.421875 167.367188 L 78.949219 167.367188 Z M 78.949219 137.894531 \"/>\n",
       "<path style=\"fill-rule:nonzero;fill:rgb(100%,100%,100%);fill-opacity:1;stroke-width:1;stroke-linecap:butt;stroke-linejoin:miter;stroke:rgb(50%,50%,50%);stroke-opacity:1;stroke-miterlimit:10;\" d=\"M 108.421875 137.894531 L 137.894531 137.894531 L 137.894531 167.367188 L 108.421875 167.367188 Z M 108.421875 137.894531 \"/>\n",
       "<path style=\"fill-rule:nonzero;fill:rgb(100%,100%,100%);fill-opacity:1;stroke-width:1;stroke-linecap:butt;stroke-linejoin:miter;stroke:rgb(50%,50%,50%);stroke-opacity:1;stroke-miterlimit:10;\" d=\"M 137.894531 137.894531 L 167.367188 137.894531 L 167.367188 167.367188 L 137.894531 167.367188 Z M 137.894531 137.894531 \"/>\n",
       "<path style=\"fill-rule:nonzero;fill:rgb(0%,0%,0%);fill-opacity:1;stroke-width:1;stroke-linecap:butt;stroke-linejoin:miter;stroke:rgb(50%,50%,50%);stroke-opacity:1;stroke-miterlimit:10;\" d=\"M 167.367188 137.894531 L 196.839844 137.894531 L 196.839844 167.367188 L 167.367188 167.367188 Z M 167.367188 137.894531 \"/>\n",
       "<path style=\"fill-rule:nonzero;fill:rgb(0%,0%,0%);fill-opacity:1;stroke-width:1;stroke-linecap:butt;stroke-linejoin:miter;stroke:rgb(50%,50%,50%);stroke-opacity:1;stroke-miterlimit:10;\" d=\"M 196.84375 137.894531 L 226.316406 137.894531 L 226.316406 167.367188 L 196.84375 167.367188 Z M 196.84375 137.894531 \"/>\n",
       "<path style=\"fill-rule:nonzero;fill:rgb(100%,100%,100%);fill-opacity:1;stroke-width:1;stroke-linecap:butt;stroke-linejoin:miter;stroke:rgb(50%,50%,50%);stroke-opacity:1;stroke-miterlimit:10;\" d=\"M 226.316406 137.894531 L 255.789062 137.894531 L 255.789062 167.367188 L 226.316406 167.367188 Z M 226.316406 137.894531 \"/>\n",
       "<path style=\"fill-rule:nonzero;fill:rgb(100%,100%,100%);fill-opacity:1;stroke-width:1;stroke-linecap:butt;stroke-linejoin:miter;stroke:rgb(50%,50%,50%);stroke-opacity:1;stroke-miterlimit:10;\" d=\"M 255.789062 137.894531 L 285.261719 137.894531 L 285.261719 167.367188 L 255.789062 167.367188 Z M 255.789062 137.894531 \"/>\n",
       "<path style=\"fill-rule:nonzero;fill:rgb(100%,100%,100%);fill-opacity:1;stroke-width:1;stroke-linecap:butt;stroke-linejoin:miter;stroke:rgb(50%,50%,50%);stroke-opacity:1;stroke-miterlimit:10;\" d=\"M 285.261719 137.894531 L 314.734375 137.894531 L 314.734375 167.367188 L 285.261719 167.367188 Z M 285.261719 137.894531 \"/>\n",
       "<path style=\"fill-rule:nonzero;fill:rgb(100%,100%,100%);fill-opacity:1;stroke-width:1;stroke-linecap:butt;stroke-linejoin:miter;stroke:rgb(50%,50%,50%);stroke-opacity:1;stroke-miterlimit:10;\" d=\"M 314.738281 137.894531 L 344.210938 137.894531 L 344.210938 167.367188 L 314.738281 167.367188 Z M 314.738281 137.894531 \"/>\n",
       "<path style=\"fill-rule:nonzero;fill:rgb(100%,100%,100%);fill-opacity:1;stroke-width:1;stroke-linecap:butt;stroke-linejoin:miter;stroke:rgb(50%,50%,50%);stroke-opacity:1;stroke-miterlimit:10;\" d=\"M 344.210938 137.894531 L 373.683594 137.894531 L 373.683594 167.367188 L 344.210938 167.367188 Z M 344.210938 137.894531 \"/>\n",
       "<path style=\"fill-rule:nonzero;fill:rgb(100%,100%,100%);fill-opacity:1;stroke-width:1;stroke-linecap:butt;stroke-linejoin:miter;stroke:rgb(50%,50%,50%);stroke-opacity:1;stroke-miterlimit:10;\" d=\"M 373.683594 137.894531 L 403.15625 137.894531 L 403.15625 167.367188 L 373.683594 167.367188 Z M 373.683594 137.894531 \"/>\n",
       "<path style=\"fill-rule:nonzero;fill:rgb(100%,100%,100%);fill-opacity:1;stroke-width:1;stroke-linecap:butt;stroke-linejoin:miter;stroke:rgb(50%,50%,50%);stroke-opacity:1;stroke-miterlimit:10;\" d=\"M 403.15625 137.894531 L 432.628906 137.894531 L 432.628906 167.367188 L 403.15625 167.367188 Z M 403.15625 137.894531 \"/>\n",
       "<path style=\"fill-rule:nonzero;fill:rgb(100%,100%,100%);fill-opacity:1;stroke-width:1;stroke-linecap:butt;stroke-linejoin:miter;stroke:rgb(50%,50%,50%);stroke-opacity:1;stroke-miterlimit:10;\" d=\"M 432.632812 137.894531 L 462.105469 137.894531 L 462.105469 167.367188 L 432.632812 167.367188 Z M 432.632812 137.894531 \"/>\n",
       "<path style=\"fill-rule:nonzero;fill:rgb(100%,100%,100%);fill-opacity:1;stroke-width:1;stroke-linecap:butt;stroke-linejoin:miter;stroke:rgb(50%,50%,50%);stroke-opacity:1;stroke-miterlimit:10;\" d=\"M 462.105469 137.894531 L 491.578125 137.894531 L 491.578125 167.367188 L 462.105469 167.367188 Z M 462.105469 137.894531 \"/>\n",
       "<path style=\"fill-rule:nonzero;fill:rgb(100%,100%,100%);fill-opacity:1;stroke-width:1;stroke-linecap:butt;stroke-linejoin:miter;stroke:rgb(50%,50%,50%);stroke-opacity:1;stroke-miterlimit:10;\" d=\"M 491.578125 137.894531 L 521.050781 137.894531 L 521.050781 167.367188 L 491.578125 167.367188 Z M 491.578125 137.894531 \"/>\n",
       "<path style=\"fill-rule:nonzero;fill:rgb(100%,100%,100%);fill-opacity:1;stroke-width:1;stroke-linecap:butt;stroke-linejoin:miter;stroke:rgb(50%,50%,50%);stroke-opacity:1;stroke-miterlimit:10;\" d=\"M 521.050781 137.894531 L 550.523438 137.894531 L 550.523438 167.367188 L 521.050781 167.367188 Z M 521.050781 137.894531 \"/>\n",
       "<path style=\"fill-rule:nonzero;fill:rgb(100%,100%,100%);fill-opacity:1;stroke-width:1;stroke-linecap:butt;stroke-linejoin:miter;stroke:rgb(50%,50%,50%);stroke-opacity:1;stroke-miterlimit:10;\" d=\"M 550.527344 137.894531 L 580 137.894531 L 580 167.367188 L 550.527344 167.367188 Z M 550.527344 137.894531 \"/>\n",
       "<path style=\"fill-rule:nonzero;fill:rgb(100%,100%,100%);fill-opacity:1;stroke-width:1;stroke-linecap:butt;stroke-linejoin:miter;stroke:rgb(50%,50%,50%);stroke-opacity:1;stroke-miterlimit:10;\" d=\"M 20 167.367188 L 49.472656 167.367188 L 49.472656 196.839844 L 20 196.839844 Z M 20 167.367188 \"/>\n",
       "<path style=\"fill-rule:nonzero;fill:rgb(0%,0%,0%);fill-opacity:1;stroke-width:1;stroke-linecap:butt;stroke-linejoin:miter;stroke:rgb(50%,50%,50%);stroke-opacity:1;stroke-miterlimit:10;\" d=\"M 49.472656 167.367188 L 78.945312 167.367188 L 78.945312 196.839844 L 49.472656 196.839844 Z M 49.472656 167.367188 \"/>\n",
       "<path style=\"fill-rule:nonzero;fill:rgb(100%,100%,100%);fill-opacity:1;stroke-width:1;stroke-linecap:butt;stroke-linejoin:miter;stroke:rgb(50%,50%,50%);stroke-opacity:1;stroke-miterlimit:10;\" d=\"M 78.949219 167.367188 L 108.421875 167.367188 L 108.421875 196.839844 L 78.949219 196.839844 Z M 78.949219 167.367188 \"/>\n",
       "<path style=\"fill-rule:nonzero;fill:rgb(100%,100%,100%);fill-opacity:1;stroke-width:1;stroke-linecap:butt;stroke-linejoin:miter;stroke:rgb(50%,50%,50%);stroke-opacity:1;stroke-miterlimit:10;\" d=\"M 108.421875 167.367188 L 137.894531 167.367188 L 137.894531 196.839844 L 108.421875 196.839844 Z M 108.421875 167.367188 \"/>\n",
       "<path style=\"fill-rule:nonzero;fill:rgb(0%,0%,0%);fill-opacity:1;stroke-width:1;stroke-linecap:butt;stroke-linejoin:miter;stroke:rgb(50%,50%,50%);stroke-opacity:1;stroke-miterlimit:10;\" d=\"M 137.894531 167.367188 L 167.367188 167.367188 L 167.367188 196.839844 L 137.894531 196.839844 Z M 137.894531 167.367188 \"/>\n",
       "<path style=\"fill-rule:nonzero;fill:rgb(100%,100%,100%);fill-opacity:1;stroke-width:1;stroke-linecap:butt;stroke-linejoin:miter;stroke:rgb(50%,50%,50%);stroke-opacity:1;stroke-miterlimit:10;\" d=\"M 167.367188 167.367188 L 196.839844 167.367188 L 196.839844 196.839844 L 167.367188 196.839844 Z M 167.367188 167.367188 \"/>\n",
       "<path style=\"fill-rule:nonzero;fill:rgb(0%,0%,0%);fill-opacity:1;stroke-width:1;stroke-linecap:butt;stroke-linejoin:miter;stroke:rgb(50%,50%,50%);stroke-opacity:1;stroke-miterlimit:10;\" d=\"M 196.84375 167.367188 L 226.316406 167.367188 L 226.316406 196.839844 L 196.84375 196.839844 Z M 196.84375 167.367188 \"/>\n",
       "<path style=\"fill-rule:nonzero;fill:rgb(100%,100%,100%);fill-opacity:1;stroke-width:1;stroke-linecap:butt;stroke-linejoin:miter;stroke:rgb(50%,50%,50%);stroke-opacity:1;stroke-miterlimit:10;\" d=\"M 226.316406 167.367188 L 255.789062 167.367188 L 255.789062 196.839844 L 226.316406 196.839844 Z M 226.316406 167.367188 \"/>\n",
       "<path style=\"fill-rule:nonzero;fill:rgb(100%,100%,100%);fill-opacity:1;stroke-width:1;stroke-linecap:butt;stroke-linejoin:miter;stroke:rgb(50%,50%,50%);stroke-opacity:1;stroke-miterlimit:10;\" d=\"M 255.789062 167.367188 L 285.261719 167.367188 L 285.261719 196.839844 L 255.789062 196.839844 Z M 255.789062 167.367188 \"/>\n",
       "<path style=\"fill-rule:nonzero;fill:rgb(100%,100%,100%);fill-opacity:1;stroke-width:1;stroke-linecap:butt;stroke-linejoin:miter;stroke:rgb(50%,50%,50%);stroke-opacity:1;stroke-miterlimit:10;\" d=\"M 285.261719 167.367188 L 314.734375 167.367188 L 314.734375 196.839844 L 285.261719 196.839844 Z M 285.261719 167.367188 \"/>\n",
       "<path style=\"fill-rule:nonzero;fill:rgb(100%,100%,100%);fill-opacity:1;stroke-width:1;stroke-linecap:butt;stroke-linejoin:miter;stroke:rgb(50%,50%,50%);stroke-opacity:1;stroke-miterlimit:10;\" d=\"M 314.738281 167.367188 L 344.210938 167.367188 L 344.210938 196.839844 L 314.738281 196.839844 Z M 314.738281 167.367188 \"/>\n",
       "<path style=\"fill-rule:nonzero;fill:rgb(100%,100%,100%);fill-opacity:1;stroke-width:1;stroke-linecap:butt;stroke-linejoin:miter;stroke:rgb(50%,50%,50%);stroke-opacity:1;stroke-miterlimit:10;\" d=\"M 344.210938 167.367188 L 373.683594 167.367188 L 373.683594 196.839844 L 344.210938 196.839844 Z M 344.210938 167.367188 \"/>\n",
       "<path style=\"fill-rule:nonzero;fill:rgb(100%,100%,100%);fill-opacity:1;stroke-width:1;stroke-linecap:butt;stroke-linejoin:miter;stroke:rgb(50%,50%,50%);stroke-opacity:1;stroke-miterlimit:10;\" d=\"M 373.683594 167.367188 L 403.15625 167.367188 L 403.15625 196.839844 L 373.683594 196.839844 Z M 373.683594 167.367188 \"/>\n",
       "<path style=\"fill-rule:nonzero;fill:rgb(100%,100%,100%);fill-opacity:1;stroke-width:1;stroke-linecap:butt;stroke-linejoin:miter;stroke:rgb(50%,50%,50%);stroke-opacity:1;stroke-miterlimit:10;\" d=\"M 403.15625 167.367188 L 432.628906 167.367188 L 432.628906 196.839844 L 403.15625 196.839844 Z M 403.15625 167.367188 \"/>\n",
       "<path style=\"fill-rule:nonzero;fill:rgb(100%,100%,100%);fill-opacity:1;stroke-width:1;stroke-linecap:butt;stroke-linejoin:miter;stroke:rgb(50%,50%,50%);stroke-opacity:1;stroke-miterlimit:10;\" d=\"M 432.632812 167.367188 L 462.105469 167.367188 L 462.105469 196.839844 L 432.632812 196.839844 Z M 432.632812 167.367188 \"/>\n",
       "<path style=\"fill-rule:nonzero;fill:rgb(100%,100%,100%);fill-opacity:1;stroke-width:1;stroke-linecap:butt;stroke-linejoin:miter;stroke:rgb(50%,50%,50%);stroke-opacity:1;stroke-miterlimit:10;\" d=\"M 462.105469 167.367188 L 491.578125 167.367188 L 491.578125 196.839844 L 462.105469 196.839844 Z M 462.105469 167.367188 \"/>\n",
       "<path style=\"fill-rule:nonzero;fill:rgb(100%,100%,100%);fill-opacity:1;stroke-width:1;stroke-linecap:butt;stroke-linejoin:miter;stroke:rgb(50%,50%,50%);stroke-opacity:1;stroke-miterlimit:10;\" d=\"M 491.578125 167.367188 L 521.050781 167.367188 L 521.050781 196.839844 L 491.578125 196.839844 Z M 491.578125 167.367188 \"/>\n",
       "<path style=\"fill-rule:nonzero;fill:rgb(100%,100%,100%);fill-opacity:1;stroke-width:1;stroke-linecap:butt;stroke-linejoin:miter;stroke:rgb(50%,50%,50%);stroke-opacity:1;stroke-miterlimit:10;\" d=\"M 521.050781 167.367188 L 550.523438 167.367188 L 550.523438 196.839844 L 521.050781 196.839844 Z M 521.050781 167.367188 \"/>\n",
       "<path style=\"fill-rule:nonzero;fill:rgb(100%,100%,100%);fill-opacity:1;stroke-width:1;stroke-linecap:butt;stroke-linejoin:miter;stroke:rgb(50%,50%,50%);stroke-opacity:1;stroke-miterlimit:10;\" d=\"M 550.527344 167.367188 L 580 167.367188 L 580 196.839844 L 550.527344 196.839844 Z M 550.527344 167.367188 \"/>\n",
       "<path style=\"fill-rule:nonzero;fill:rgb(100%,100%,100%);fill-opacity:1;stroke-width:1;stroke-linecap:butt;stroke-linejoin:miter;stroke:rgb(50%,50%,50%);stroke-opacity:1;stroke-miterlimit:10;\" d=\"M 20 196.84375 L 49.472656 196.84375 L 49.472656 226.316406 L 20 226.316406 Z M 20 196.84375 \"/>\n",
       "<path style=\"fill-rule:nonzero;fill:rgb(100%,100%,100%);fill-opacity:1;stroke-width:1;stroke-linecap:butt;stroke-linejoin:miter;stroke:rgb(50%,50%,50%);stroke-opacity:1;stroke-miterlimit:10;\" d=\"M 49.472656 196.84375 L 78.945312 196.84375 L 78.945312 226.316406 L 49.472656 226.316406 Z M 49.472656 196.84375 \"/>\n",
       "<path style=\"fill-rule:nonzero;fill:rgb(100%,100%,100%);fill-opacity:1;stroke-width:1;stroke-linecap:butt;stroke-linejoin:miter;stroke:rgb(50%,50%,50%);stroke-opacity:1;stroke-miterlimit:10;\" d=\"M 78.949219 196.84375 L 108.421875 196.84375 L 108.421875 226.316406 L 78.949219 226.316406 Z M 78.949219 196.84375 \"/>\n",
       "<path style=\"fill-rule:nonzero;fill:rgb(100%,100%,100%);fill-opacity:1;stroke-width:1;stroke-linecap:butt;stroke-linejoin:miter;stroke:rgb(50%,50%,50%);stroke-opacity:1;stroke-miterlimit:10;\" d=\"M 108.421875 196.84375 L 137.894531 196.84375 L 137.894531 226.316406 L 108.421875 226.316406 Z M 108.421875 196.84375 \"/>\n",
       "<path style=\"fill-rule:nonzero;fill:rgb(0%,0%,0%);fill-opacity:1;stroke-width:1;stroke-linecap:butt;stroke-linejoin:miter;stroke:rgb(50%,50%,50%);stroke-opacity:1;stroke-miterlimit:10;\" d=\"M 137.894531 196.84375 L 167.367188 196.84375 L 167.367188 226.316406 L 137.894531 226.316406 Z M 137.894531 196.84375 \"/>\n",
       "<path style=\"fill-rule:nonzero;fill:rgb(0%,0%,0%);fill-opacity:1;stroke-width:1;stroke-linecap:butt;stroke-linejoin:miter;stroke:rgb(50%,50%,50%);stroke-opacity:1;stroke-miterlimit:10;\" d=\"M 167.367188 196.84375 L 196.839844 196.84375 L 196.839844 226.316406 L 167.367188 226.316406 Z M 167.367188 196.84375 \"/>\n",
       "<path style=\"fill-rule:nonzero;fill:rgb(100%,100%,100%);fill-opacity:1;stroke-width:1;stroke-linecap:butt;stroke-linejoin:miter;stroke:rgb(50%,50%,50%);stroke-opacity:1;stroke-miterlimit:10;\" d=\"M 196.84375 196.84375 L 226.316406 196.84375 L 226.316406 226.316406 L 196.84375 226.316406 Z M 196.84375 196.84375 \"/>\n",
       "<path style=\"fill-rule:nonzero;fill:rgb(100%,100%,100%);fill-opacity:1;stroke-width:1;stroke-linecap:butt;stroke-linejoin:miter;stroke:rgb(50%,50%,50%);stroke-opacity:1;stroke-miterlimit:10;\" d=\"M 226.316406 196.84375 L 255.789062 196.84375 L 255.789062 226.316406 L 226.316406 226.316406 Z M 226.316406 196.84375 \"/>\n",
       "<path style=\"fill-rule:nonzero;fill:rgb(0%,0%,0%);fill-opacity:1;stroke-width:1;stroke-linecap:butt;stroke-linejoin:miter;stroke:rgb(50%,50%,50%);stroke-opacity:1;stroke-miterlimit:10;\" d=\"M 255.789062 196.84375 L 285.261719 196.84375 L 285.261719 226.316406 L 255.789062 226.316406 Z M 255.789062 196.84375 \"/>\n",
       "<path style=\"fill-rule:nonzero;fill:rgb(0%,0%,0%);fill-opacity:1;stroke-width:1;stroke-linecap:butt;stroke-linejoin:miter;stroke:rgb(50%,50%,50%);stroke-opacity:1;stroke-miterlimit:10;\" d=\"M 285.261719 196.84375 L 314.734375 196.84375 L 314.734375 226.316406 L 285.261719 226.316406 Z M 285.261719 196.84375 \"/>\n",
       "<path style=\"fill-rule:nonzero;fill:rgb(0%,0%,0%);fill-opacity:1;stroke-width:1;stroke-linecap:butt;stroke-linejoin:miter;stroke:rgb(50%,50%,50%);stroke-opacity:1;stroke-miterlimit:10;\" d=\"M 314.738281 196.84375 L 344.210938 196.84375 L 344.210938 226.316406 L 314.738281 226.316406 Z M 314.738281 196.84375 \"/>\n",
       "<path style=\"fill-rule:nonzero;fill:rgb(100%,100%,100%);fill-opacity:1;stroke-width:1;stroke-linecap:butt;stroke-linejoin:miter;stroke:rgb(50%,50%,50%);stroke-opacity:1;stroke-miterlimit:10;\" d=\"M 344.210938 196.84375 L 373.683594 196.84375 L 373.683594 226.316406 L 344.210938 226.316406 Z M 344.210938 196.84375 \"/>\n",
       "<path style=\"fill-rule:nonzero;fill:rgb(100%,100%,100%);fill-opacity:1;stroke-width:1;stroke-linecap:butt;stroke-linejoin:miter;stroke:rgb(50%,50%,50%);stroke-opacity:1;stroke-miterlimit:10;\" d=\"M 373.683594 196.84375 L 403.15625 196.84375 L 403.15625 226.316406 L 373.683594 226.316406 Z M 373.683594 196.84375 \"/>\n",
       "<path style=\"fill-rule:nonzero;fill:rgb(100%,100%,100%);fill-opacity:1;stroke-width:1;stroke-linecap:butt;stroke-linejoin:miter;stroke:rgb(50%,50%,50%);stroke-opacity:1;stroke-miterlimit:10;\" d=\"M 403.15625 196.84375 L 432.628906 196.84375 L 432.628906 226.316406 L 403.15625 226.316406 Z M 403.15625 196.84375 \"/>\n",
       "<path style=\"fill-rule:nonzero;fill:rgb(100%,100%,100%);fill-opacity:1;stroke-width:1;stroke-linecap:butt;stroke-linejoin:miter;stroke:rgb(50%,50%,50%);stroke-opacity:1;stroke-miterlimit:10;\" d=\"M 432.632812 196.84375 L 462.105469 196.84375 L 462.105469 226.316406 L 432.632812 226.316406 Z M 432.632812 196.84375 \"/>\n",
       "<path style=\"fill-rule:nonzero;fill:rgb(100%,100%,100%);fill-opacity:1;stroke-width:1;stroke-linecap:butt;stroke-linejoin:miter;stroke:rgb(50%,50%,50%);stroke-opacity:1;stroke-miterlimit:10;\" d=\"M 462.105469 196.84375 L 491.578125 196.84375 L 491.578125 226.316406 L 462.105469 226.316406 Z M 462.105469 196.84375 \"/>\n",
       "<path style=\"fill-rule:nonzero;fill:rgb(100%,100%,100%);fill-opacity:1;stroke-width:1;stroke-linecap:butt;stroke-linejoin:miter;stroke:rgb(50%,50%,50%);stroke-opacity:1;stroke-miterlimit:10;\" d=\"M 491.578125 196.84375 L 521.050781 196.84375 L 521.050781 226.316406 L 491.578125 226.316406 Z M 491.578125 196.84375 \"/>\n",
       "<path style=\"fill-rule:nonzero;fill:rgb(100%,100%,100%);fill-opacity:1;stroke-width:1;stroke-linecap:butt;stroke-linejoin:miter;stroke:rgb(50%,50%,50%);stroke-opacity:1;stroke-miterlimit:10;\" d=\"M 521.050781 196.84375 L 550.523438 196.84375 L 550.523438 226.316406 L 521.050781 226.316406 Z M 521.050781 196.84375 \"/>\n",
       "<path style=\"fill-rule:nonzero;fill:rgb(100%,100%,100%);fill-opacity:1;stroke-width:1;stroke-linecap:butt;stroke-linejoin:miter;stroke:rgb(50%,50%,50%);stroke-opacity:1;stroke-miterlimit:10;\" d=\"M 550.527344 196.84375 L 580 196.84375 L 580 226.316406 L 550.527344 226.316406 Z M 550.527344 196.84375 \"/>\n",
       "<path style=\"fill-rule:nonzero;fill:rgb(100%,100%,100%);fill-opacity:1;stroke-width:1;stroke-linecap:butt;stroke-linejoin:miter;stroke:rgb(50%,50%,50%);stroke-opacity:1;stroke-miterlimit:10;\" d=\"M 20 226.316406 L 49.472656 226.316406 L 49.472656 255.789062 L 20 255.789062 Z M 20 226.316406 \"/>\n",
       "<path style=\"fill-rule:nonzero;fill:rgb(100%,100%,100%);fill-opacity:1;stroke-width:1;stroke-linecap:butt;stroke-linejoin:miter;stroke:rgb(50%,50%,50%);stroke-opacity:1;stroke-miterlimit:10;\" d=\"M 49.472656 226.316406 L 78.945312 226.316406 L 78.945312 255.789062 L 49.472656 255.789062 Z M 49.472656 226.316406 \"/>\n",
       "<path style=\"fill-rule:nonzero;fill:rgb(0%,0%,0%);fill-opacity:1;stroke-width:1;stroke-linecap:butt;stroke-linejoin:miter;stroke:rgb(50%,50%,50%);stroke-opacity:1;stroke-miterlimit:10;\" d=\"M 78.949219 226.316406 L 108.421875 226.316406 L 108.421875 255.789062 L 78.949219 255.789062 Z M 78.949219 226.316406 \"/>\n",
       "<path style=\"fill-rule:nonzero;fill:rgb(100%,100%,100%);fill-opacity:1;stroke-width:1;stroke-linecap:butt;stroke-linejoin:miter;stroke:rgb(50%,50%,50%);stroke-opacity:1;stroke-miterlimit:10;\" d=\"M 108.421875 226.316406 L 137.894531 226.316406 L 137.894531 255.789062 L 108.421875 255.789062 Z M 108.421875 226.316406 \"/>\n",
       "<path style=\"fill-rule:nonzero;fill:rgb(100%,100%,100%);fill-opacity:1;stroke-width:1;stroke-linecap:butt;stroke-linejoin:miter;stroke:rgb(50%,50%,50%);stroke-opacity:1;stroke-miterlimit:10;\" d=\"M 137.894531 226.316406 L 167.367188 226.316406 L 167.367188 255.789062 L 137.894531 255.789062 Z M 137.894531 226.316406 \"/>\n",
       "<path style=\"fill-rule:nonzero;fill:rgb(100%,100%,100%);fill-opacity:1;stroke-width:1;stroke-linecap:butt;stroke-linejoin:miter;stroke:rgb(50%,50%,50%);stroke-opacity:1;stroke-miterlimit:10;\" d=\"M 167.367188 226.316406 L 196.839844 226.316406 L 196.839844 255.789062 L 167.367188 255.789062 Z M 167.367188 226.316406 \"/>\n",
       "<path style=\"fill-rule:nonzero;fill:rgb(100%,100%,100%);fill-opacity:1;stroke-width:1;stroke-linecap:butt;stroke-linejoin:miter;stroke:rgb(50%,50%,50%);stroke-opacity:1;stroke-miterlimit:10;\" d=\"M 196.84375 226.316406 L 226.316406 226.316406 L 226.316406 255.789062 L 196.84375 255.789062 Z M 196.84375 226.316406 \"/>\n",
       "<path style=\"fill-rule:nonzero;fill:rgb(100%,100%,100%);fill-opacity:1;stroke-width:1;stroke-linecap:butt;stroke-linejoin:miter;stroke:rgb(50%,50%,50%);stroke-opacity:1;stroke-miterlimit:10;\" d=\"M 226.316406 226.316406 L 255.789062 226.316406 L 255.789062 255.789062 L 226.316406 255.789062 Z M 226.316406 226.316406 \"/>\n",
       "<path style=\"fill-rule:nonzero;fill:rgb(100%,100%,100%);fill-opacity:1;stroke-width:1;stroke-linecap:butt;stroke-linejoin:miter;stroke:rgb(50%,50%,50%);stroke-opacity:1;stroke-miterlimit:10;\" d=\"M 255.789062 226.316406 L 285.261719 226.316406 L 285.261719 255.789062 L 255.789062 255.789062 Z M 255.789062 226.316406 \"/>\n",
       "<path style=\"fill-rule:nonzero;fill:rgb(100%,100%,100%);fill-opacity:1;stroke-width:1;stroke-linecap:butt;stroke-linejoin:miter;stroke:rgb(50%,50%,50%);stroke-opacity:1;stroke-miterlimit:10;\" d=\"M 285.261719 226.316406 L 314.734375 226.316406 L 314.734375 255.789062 L 285.261719 255.789062 Z M 285.261719 226.316406 \"/>\n",
       "<path style=\"fill-rule:nonzero;fill:rgb(100%,100%,100%);fill-opacity:1;stroke-width:1;stroke-linecap:butt;stroke-linejoin:miter;stroke:rgb(50%,50%,50%);stroke-opacity:1;stroke-miterlimit:10;\" d=\"M 314.738281 226.316406 L 344.210938 226.316406 L 344.210938 255.789062 L 314.738281 255.789062 Z M 314.738281 226.316406 \"/>\n",
       "<path style=\"fill-rule:nonzero;fill:rgb(100%,100%,100%);fill-opacity:1;stroke-width:1;stroke-linecap:butt;stroke-linejoin:miter;stroke:rgb(50%,50%,50%);stroke-opacity:1;stroke-miterlimit:10;\" d=\"M 344.210938 226.316406 L 373.683594 226.316406 L 373.683594 255.789062 L 344.210938 255.789062 Z M 344.210938 226.316406 \"/>\n",
       "<path style=\"fill-rule:nonzero;fill:rgb(100%,100%,100%);fill-opacity:1;stroke-width:1;stroke-linecap:butt;stroke-linejoin:miter;stroke:rgb(50%,50%,50%);stroke-opacity:1;stroke-miterlimit:10;\" d=\"M 373.683594 226.316406 L 403.15625 226.316406 L 403.15625 255.789062 L 373.683594 255.789062 Z M 373.683594 226.316406 \"/>\n",
       "<path style=\"fill-rule:nonzero;fill:rgb(0%,0%,0%);fill-opacity:1;stroke-width:1;stroke-linecap:butt;stroke-linejoin:miter;stroke:rgb(50%,50%,50%);stroke-opacity:1;stroke-miterlimit:10;\" d=\"M 403.15625 226.316406 L 432.628906 226.316406 L 432.628906 255.789062 L 403.15625 255.789062 Z M 403.15625 226.316406 \"/>\n",
       "<path style=\"fill-rule:nonzero;fill:rgb(100%,100%,100%);fill-opacity:1;stroke-width:1;stroke-linecap:butt;stroke-linejoin:miter;stroke:rgb(50%,50%,50%);stroke-opacity:1;stroke-miterlimit:10;\" d=\"M 432.632812 226.316406 L 462.105469 226.316406 L 462.105469 255.789062 L 432.632812 255.789062 Z M 432.632812 226.316406 \"/>\n",
       "<path style=\"fill-rule:nonzero;fill:rgb(100%,100%,100%);fill-opacity:1;stroke-width:1;stroke-linecap:butt;stroke-linejoin:miter;stroke:rgb(50%,50%,50%);stroke-opacity:1;stroke-miterlimit:10;\" d=\"M 462.105469 226.316406 L 491.578125 226.316406 L 491.578125 255.789062 L 462.105469 255.789062 Z M 462.105469 226.316406 \"/>\n",
       "<path style=\"fill-rule:nonzero;fill:rgb(100%,100%,100%);fill-opacity:1;stroke-width:1;stroke-linecap:butt;stroke-linejoin:miter;stroke:rgb(50%,50%,50%);stroke-opacity:1;stroke-miterlimit:10;\" d=\"M 491.578125 226.316406 L 521.050781 226.316406 L 521.050781 255.789062 L 491.578125 255.789062 Z M 491.578125 226.316406 \"/>\n",
       "<path style=\"fill-rule:nonzero;fill:rgb(100%,100%,100%);fill-opacity:1;stroke-width:1;stroke-linecap:butt;stroke-linejoin:miter;stroke:rgb(50%,50%,50%);stroke-opacity:1;stroke-miterlimit:10;\" d=\"M 521.050781 226.316406 L 550.523438 226.316406 L 550.523438 255.789062 L 521.050781 255.789062 Z M 521.050781 226.316406 \"/>\n",
       "<path style=\"fill-rule:nonzero;fill:rgb(100%,100%,100%);fill-opacity:1;stroke-width:1;stroke-linecap:butt;stroke-linejoin:miter;stroke:rgb(50%,50%,50%);stroke-opacity:1;stroke-miterlimit:10;\" d=\"M 550.527344 226.316406 L 580 226.316406 L 580 255.789062 L 550.527344 255.789062 Z M 550.527344 226.316406 \"/>\n",
       "<path style=\"fill-rule:nonzero;fill:rgb(100%,100%,100%);fill-opacity:1;stroke-width:1;stroke-linecap:butt;stroke-linejoin:miter;stroke:rgb(50%,50%,50%);stroke-opacity:1;stroke-miterlimit:10;\" d=\"M 20 255.789062 L 49.472656 255.789062 L 49.472656 285.261719 L 20 285.261719 Z M 20 255.789062 \"/>\n",
       "<path style=\"fill-rule:nonzero;fill:rgb(100%,100%,100%);fill-opacity:1;stroke-width:1;stroke-linecap:butt;stroke-linejoin:miter;stroke:rgb(50%,50%,50%);stroke-opacity:1;stroke-miterlimit:10;\" d=\"M 49.472656 255.789062 L 78.945312 255.789062 L 78.945312 285.261719 L 49.472656 285.261719 Z M 49.472656 255.789062 \"/>\n",
       "<path style=\"fill-rule:nonzero;fill:rgb(100%,100%,100%);fill-opacity:1;stroke-width:1;stroke-linecap:butt;stroke-linejoin:miter;stroke:rgb(50%,50%,50%);stroke-opacity:1;stroke-miterlimit:10;\" d=\"M 78.949219 255.789062 L 108.421875 255.789062 L 108.421875 285.261719 L 78.949219 285.261719 Z M 78.949219 255.789062 \"/>\n",
       "<path style=\"fill-rule:nonzero;fill:rgb(100%,100%,100%);fill-opacity:1;stroke-width:1;stroke-linecap:butt;stroke-linejoin:miter;stroke:rgb(50%,50%,50%);stroke-opacity:1;stroke-miterlimit:10;\" d=\"M 108.421875 255.789062 L 137.894531 255.789062 L 137.894531 285.261719 L 108.421875 285.261719 Z M 108.421875 255.789062 \"/>\n",
       "<path style=\"fill-rule:nonzero;fill:rgb(100%,100%,100%);fill-opacity:1;stroke-width:1;stroke-linecap:butt;stroke-linejoin:miter;stroke:rgb(50%,50%,50%);stroke-opacity:1;stroke-miterlimit:10;\" d=\"M 137.894531 255.789062 L 167.367188 255.789062 L 167.367188 285.261719 L 137.894531 285.261719 Z M 137.894531 255.789062 \"/>\n",
       "<path style=\"fill-rule:nonzero;fill:rgb(100%,100%,100%);fill-opacity:1;stroke-width:1;stroke-linecap:butt;stroke-linejoin:miter;stroke:rgb(50%,50%,50%);stroke-opacity:1;stroke-miterlimit:10;\" d=\"M 167.367188 255.789062 L 196.839844 255.789062 L 196.839844 285.261719 L 167.367188 285.261719 Z M 167.367188 255.789062 \"/>\n",
       "<path style=\"fill-rule:nonzero;fill:rgb(0%,0%,0%);fill-opacity:1;stroke-width:1;stroke-linecap:butt;stroke-linejoin:miter;stroke:rgb(50%,50%,50%);stroke-opacity:1;stroke-miterlimit:10;\" d=\"M 196.84375 255.789062 L 226.316406 255.789062 L 226.316406 285.261719 L 196.84375 285.261719 Z M 196.84375 255.789062 \"/>\n",
       "<path style=\"fill-rule:nonzero;fill:rgb(100%,100%,100%);fill-opacity:1;stroke-width:1;stroke-linecap:butt;stroke-linejoin:miter;stroke:rgb(50%,50%,50%);stroke-opacity:1;stroke-miterlimit:10;\" d=\"M 226.316406 255.789062 L 255.789062 255.789062 L 255.789062 285.261719 L 226.316406 285.261719 Z M 226.316406 255.789062 \"/>\n",
       "<path style=\"fill-rule:nonzero;fill:rgb(100%,100%,100%);fill-opacity:1;stroke-width:1;stroke-linecap:butt;stroke-linejoin:miter;stroke:rgb(50%,50%,50%);stroke-opacity:1;stroke-miterlimit:10;\" d=\"M 255.789062 255.789062 L 285.261719 255.789062 L 285.261719 285.261719 L 255.789062 285.261719 Z M 255.789062 255.789062 \"/>\n",
       "<path style=\"fill-rule:nonzero;fill:rgb(100%,100%,100%);fill-opacity:1;stroke-width:1;stroke-linecap:butt;stroke-linejoin:miter;stroke:rgb(50%,50%,50%);stroke-opacity:1;stroke-miterlimit:10;\" d=\"M 285.261719 255.789062 L 314.734375 255.789062 L 314.734375 285.261719 L 285.261719 285.261719 Z M 285.261719 255.789062 \"/>\n",
       "<path style=\"fill-rule:nonzero;fill:rgb(100%,100%,100%);fill-opacity:1;stroke-width:1;stroke-linecap:butt;stroke-linejoin:miter;stroke:rgb(50%,50%,50%);stroke-opacity:1;stroke-miterlimit:10;\" d=\"M 314.738281 255.789062 L 344.210938 255.789062 L 344.210938 285.261719 L 314.738281 285.261719 Z M 314.738281 255.789062 \"/>\n",
       "<path style=\"fill-rule:nonzero;fill:rgb(0%,0%,0%);fill-opacity:1;stroke-width:1;stroke-linecap:butt;stroke-linejoin:miter;stroke:rgb(50%,50%,50%);stroke-opacity:1;stroke-miterlimit:10;\" d=\"M 344.210938 255.789062 L 373.683594 255.789062 L 373.683594 285.261719 L 344.210938 285.261719 Z M 344.210938 255.789062 \"/>\n",
       "<path style=\"fill-rule:nonzero;fill:rgb(100%,100%,100%);fill-opacity:1;stroke-width:1;stroke-linecap:butt;stroke-linejoin:miter;stroke:rgb(50%,50%,50%);stroke-opacity:1;stroke-miterlimit:10;\" d=\"M 373.683594 255.789062 L 403.15625 255.789062 L 403.15625 285.261719 L 373.683594 285.261719 Z M 373.683594 255.789062 \"/>\n",
       "<path style=\"fill-rule:nonzero;fill:rgb(100%,100%,100%);fill-opacity:1;stroke-width:1;stroke-linecap:butt;stroke-linejoin:miter;stroke:rgb(50%,50%,50%);stroke-opacity:1;stroke-miterlimit:10;\" d=\"M 403.15625 255.789062 L 432.628906 255.789062 L 432.628906 285.261719 L 403.15625 285.261719 Z M 403.15625 255.789062 \"/>\n",
       "<path style=\"fill-rule:nonzero;fill:rgb(100%,100%,100%);fill-opacity:1;stroke-width:1;stroke-linecap:butt;stroke-linejoin:miter;stroke:rgb(50%,50%,50%);stroke-opacity:1;stroke-miterlimit:10;\" d=\"M 432.632812 255.789062 L 462.105469 255.789062 L 462.105469 285.261719 L 432.632812 285.261719 Z M 432.632812 255.789062 \"/>\n",
       "<path style=\"fill-rule:nonzero;fill:rgb(100%,100%,100%);fill-opacity:1;stroke-width:1;stroke-linecap:butt;stroke-linejoin:miter;stroke:rgb(50%,50%,50%);stroke-opacity:1;stroke-miterlimit:10;\" d=\"M 462.105469 255.789062 L 491.578125 255.789062 L 491.578125 285.261719 L 462.105469 285.261719 Z M 462.105469 255.789062 \"/>\n",
       "<path style=\"fill-rule:nonzero;fill:rgb(100%,100%,100%);fill-opacity:1;stroke-width:1;stroke-linecap:butt;stroke-linejoin:miter;stroke:rgb(50%,50%,50%);stroke-opacity:1;stroke-miterlimit:10;\" d=\"M 491.578125 255.789062 L 521.050781 255.789062 L 521.050781 285.261719 L 491.578125 285.261719 Z M 491.578125 255.789062 \"/>\n",
       "<path style=\"fill-rule:nonzero;fill:rgb(100%,100%,100%);fill-opacity:1;stroke-width:1;stroke-linecap:butt;stroke-linejoin:miter;stroke:rgb(50%,50%,50%);stroke-opacity:1;stroke-miterlimit:10;\" d=\"M 521.050781 255.789062 L 550.523438 255.789062 L 550.523438 285.261719 L 521.050781 285.261719 Z M 521.050781 255.789062 \"/>\n",
       "<path style=\"fill-rule:nonzero;fill:rgb(100%,100%,100%);fill-opacity:1;stroke-width:1;stroke-linecap:butt;stroke-linejoin:miter;stroke:rgb(50%,50%,50%);stroke-opacity:1;stroke-miterlimit:10;\" d=\"M 550.527344 255.789062 L 580 255.789062 L 580 285.261719 L 550.527344 285.261719 Z M 550.527344 255.789062 \"/>\n",
       "<path style=\"fill-rule:nonzero;fill:rgb(100%,100%,100%);fill-opacity:1;stroke-width:1;stroke-linecap:butt;stroke-linejoin:miter;stroke:rgb(50%,50%,50%);stroke-opacity:1;stroke-miterlimit:10;\" d=\"M 20 285.261719 L 49.472656 285.261719 L 49.472656 314.734375 L 20 314.734375 Z M 20 285.261719 \"/>\n",
       "<path style=\"fill-rule:nonzero;fill:rgb(100%,100%,100%);fill-opacity:1;stroke-width:1;stroke-linecap:butt;stroke-linejoin:miter;stroke:rgb(50%,50%,50%);stroke-opacity:1;stroke-miterlimit:10;\" d=\"M 49.472656 285.261719 L 78.945312 285.261719 L 78.945312 314.734375 L 49.472656 314.734375 Z M 49.472656 285.261719 \"/>\n",
       "<path style=\"fill-rule:nonzero;fill:rgb(100%,100%,100%);fill-opacity:1;stroke-width:1;stroke-linecap:butt;stroke-linejoin:miter;stroke:rgb(50%,50%,50%);stroke-opacity:1;stroke-miterlimit:10;\" d=\"M 78.949219 285.261719 L 108.421875 285.261719 L 108.421875 314.734375 L 78.949219 314.734375 Z M 78.949219 285.261719 \"/>\n",
       "<path style=\"fill-rule:nonzero;fill:rgb(100%,100%,100%);fill-opacity:1;stroke-width:1;stroke-linecap:butt;stroke-linejoin:miter;stroke:rgb(50%,50%,50%);stroke-opacity:1;stroke-miterlimit:10;\" d=\"M 108.421875 285.261719 L 137.894531 285.261719 L 137.894531 314.734375 L 108.421875 314.734375 Z M 108.421875 285.261719 \"/>\n",
       "<path style=\"fill-rule:nonzero;fill:rgb(100%,100%,100%);fill-opacity:1;stroke-width:1;stroke-linecap:butt;stroke-linejoin:miter;stroke:rgb(50%,50%,50%);stroke-opacity:1;stroke-miterlimit:10;\" d=\"M 137.894531 285.261719 L 167.367188 285.261719 L 167.367188 314.734375 L 137.894531 314.734375 Z M 137.894531 285.261719 \"/>\n",
       "<path style=\"fill-rule:nonzero;fill:rgb(100%,100%,100%);fill-opacity:1;stroke-width:1;stroke-linecap:butt;stroke-linejoin:miter;stroke:rgb(50%,50%,50%);stroke-opacity:1;stroke-miterlimit:10;\" d=\"M 167.367188 285.261719 L 196.839844 285.261719 L 196.839844 314.734375 L 167.367188 314.734375 Z M 167.367188 285.261719 \"/>\n",
       "<path style=\"fill-rule:nonzero;fill:rgb(0%,0%,0%);fill-opacity:1;stroke-width:1;stroke-linecap:butt;stroke-linejoin:miter;stroke:rgb(50%,50%,50%);stroke-opacity:1;stroke-miterlimit:10;\" d=\"M 196.84375 285.261719 L 226.316406 285.261719 L 226.316406 314.734375 L 196.84375 314.734375 Z M 196.84375 285.261719 \"/>\n",
       "<path style=\"fill-rule:nonzero;fill:rgb(100%,100%,100%);fill-opacity:1;stroke-width:1;stroke-linecap:butt;stroke-linejoin:miter;stroke:rgb(50%,50%,50%);stroke-opacity:1;stroke-miterlimit:10;\" d=\"M 226.316406 285.261719 L 255.789062 285.261719 L 255.789062 314.734375 L 226.316406 314.734375 Z M 226.316406 285.261719 \"/>\n",
       "<path style=\"fill-rule:nonzero;fill:rgb(100%,100%,100%);fill-opacity:1;stroke-width:1;stroke-linecap:butt;stroke-linejoin:miter;stroke:rgb(50%,50%,50%);stroke-opacity:1;stroke-miterlimit:10;\" d=\"M 255.789062 285.261719 L 285.261719 285.261719 L 285.261719 314.734375 L 255.789062 314.734375 Z M 255.789062 285.261719 \"/>\n",
       "<path style=\"fill-rule:nonzero;fill:rgb(100%,100%,100%);fill-opacity:1;stroke-width:1;stroke-linecap:butt;stroke-linejoin:miter;stroke:rgb(50%,50%,50%);stroke-opacity:1;stroke-miterlimit:10;\" d=\"M 285.261719 285.261719 L 314.734375 285.261719 L 314.734375 314.734375 L 285.261719 314.734375 Z M 285.261719 285.261719 \"/>\n",
       "<path style=\"fill-rule:nonzero;fill:rgb(100%,100%,100%);fill-opacity:1;stroke-width:1;stroke-linecap:butt;stroke-linejoin:miter;stroke:rgb(50%,50%,50%);stroke-opacity:1;stroke-miterlimit:10;\" d=\"M 314.738281 285.261719 L 344.210938 285.261719 L 344.210938 314.734375 L 314.738281 314.734375 Z M 314.738281 285.261719 \"/>\n",
       "<path style=\"fill-rule:nonzero;fill:rgb(0%,0%,0%);fill-opacity:1;stroke-width:1;stroke-linecap:butt;stroke-linejoin:miter;stroke:rgb(50%,50%,50%);stroke-opacity:1;stroke-miterlimit:10;\" d=\"M 344.210938 285.261719 L 373.683594 285.261719 L 373.683594 314.734375 L 344.210938 314.734375 Z M 344.210938 285.261719 \"/>\n",
       "<path style=\"fill-rule:nonzero;fill:rgb(0%,0%,0%);fill-opacity:1;stroke-width:1;stroke-linecap:butt;stroke-linejoin:miter;stroke:rgb(50%,50%,50%);stroke-opacity:1;stroke-miterlimit:10;\" d=\"M 373.683594 285.261719 L 403.15625 285.261719 L 403.15625 314.734375 L 373.683594 314.734375 Z M 373.683594 285.261719 \"/>\n",
       "<path style=\"fill-rule:nonzero;fill:rgb(0%,0%,0%);fill-opacity:1;stroke-width:1;stroke-linecap:butt;stroke-linejoin:miter;stroke:rgb(50%,50%,50%);stroke-opacity:1;stroke-miterlimit:10;\" d=\"M 403.15625 285.261719 L 432.628906 285.261719 L 432.628906 314.734375 L 403.15625 314.734375 Z M 403.15625 285.261719 \"/>\n",
       "<path style=\"fill-rule:nonzero;fill:rgb(100%,100%,100%);fill-opacity:1;stroke-width:1;stroke-linecap:butt;stroke-linejoin:miter;stroke:rgb(50%,50%,50%);stroke-opacity:1;stroke-miterlimit:10;\" d=\"M 432.632812 285.261719 L 462.105469 285.261719 L 462.105469 314.734375 L 432.632812 314.734375 Z M 432.632812 285.261719 \"/>\n",
       "<path style=\"fill-rule:nonzero;fill:rgb(100%,100%,100%);fill-opacity:1;stroke-width:1;stroke-linecap:butt;stroke-linejoin:miter;stroke:rgb(50%,50%,50%);stroke-opacity:1;stroke-miterlimit:10;\" d=\"M 462.105469 285.261719 L 491.578125 285.261719 L 491.578125 314.734375 L 462.105469 314.734375 Z M 462.105469 285.261719 \"/>\n",
       "<path style=\"fill-rule:nonzero;fill:rgb(100%,100%,100%);fill-opacity:1;stroke-width:1;stroke-linecap:butt;stroke-linejoin:miter;stroke:rgb(50%,50%,50%);stroke-opacity:1;stroke-miterlimit:10;\" d=\"M 491.578125 285.261719 L 521.050781 285.261719 L 521.050781 314.734375 L 491.578125 314.734375 Z M 491.578125 285.261719 \"/>\n",
       "<path style=\"fill-rule:nonzero;fill:rgb(100%,100%,100%);fill-opacity:1;stroke-width:1;stroke-linecap:butt;stroke-linejoin:miter;stroke:rgb(50%,50%,50%);stroke-opacity:1;stroke-miterlimit:10;\" d=\"M 521.050781 285.261719 L 550.523438 285.261719 L 550.523438 314.734375 L 521.050781 314.734375 Z M 521.050781 285.261719 \"/>\n",
       "<path style=\"fill-rule:nonzero;fill:rgb(100%,100%,100%);fill-opacity:1;stroke-width:1;stroke-linecap:butt;stroke-linejoin:miter;stroke:rgb(50%,50%,50%);stroke-opacity:1;stroke-miterlimit:10;\" d=\"M 550.527344 285.261719 L 580 285.261719 L 580 314.734375 L 550.527344 314.734375 Z M 550.527344 285.261719 \"/>\n",
       "<path style=\"fill-rule:nonzero;fill:rgb(100%,100%,100%);fill-opacity:1;stroke-width:1;stroke-linecap:butt;stroke-linejoin:miter;stroke:rgb(50%,50%,50%);stroke-opacity:1;stroke-miterlimit:10;\" d=\"M 20 314.738281 L 49.472656 314.738281 L 49.472656 344.210938 L 20 344.210938 Z M 20 314.738281 \"/>\n",
       "<path style=\"fill-rule:nonzero;fill:rgb(100%,100%,100%);fill-opacity:1;stroke-width:1;stroke-linecap:butt;stroke-linejoin:miter;stroke:rgb(50%,50%,50%);stroke-opacity:1;stroke-miterlimit:10;\" d=\"M 49.472656 314.738281 L 78.945312 314.738281 L 78.945312 344.210938 L 49.472656 344.210938 Z M 49.472656 314.738281 \"/>\n",
       "<path style=\"fill-rule:nonzero;fill:rgb(100%,100%,100%);fill-opacity:1;stroke-width:1;stroke-linecap:butt;stroke-linejoin:miter;stroke:rgb(50%,50%,50%);stroke-opacity:1;stroke-miterlimit:10;\" d=\"M 78.949219 314.738281 L 108.421875 314.738281 L 108.421875 344.210938 L 78.949219 344.210938 Z M 78.949219 314.738281 \"/>\n",
       "<path style=\"fill-rule:nonzero;fill:rgb(100%,100%,100%);fill-opacity:1;stroke-width:1;stroke-linecap:butt;stroke-linejoin:miter;stroke:rgb(50%,50%,50%);stroke-opacity:1;stroke-miterlimit:10;\" d=\"M 108.421875 314.738281 L 137.894531 314.738281 L 137.894531 344.210938 L 108.421875 344.210938 Z M 108.421875 314.738281 \"/>\n",
       "<path style=\"fill-rule:nonzero;fill:rgb(100%,100%,100%);fill-opacity:1;stroke-width:1;stroke-linecap:butt;stroke-linejoin:miter;stroke:rgb(50%,50%,50%);stroke-opacity:1;stroke-miterlimit:10;\" d=\"M 137.894531 314.738281 L 167.367188 314.738281 L 167.367188 344.210938 L 137.894531 344.210938 Z M 137.894531 314.738281 \"/>\n",
       "<path style=\"fill-rule:nonzero;fill:rgb(100%,100%,100%);fill-opacity:1;stroke-width:1;stroke-linecap:butt;stroke-linejoin:miter;stroke:rgb(50%,50%,50%);stroke-opacity:1;stroke-miterlimit:10;\" d=\"M 167.367188 314.738281 L 196.839844 314.738281 L 196.839844 344.210938 L 167.367188 344.210938 Z M 167.367188 314.738281 \"/>\n",
       "<path style=\"fill-rule:nonzero;fill:rgb(0%,0%,0%);fill-opacity:1;stroke-width:1;stroke-linecap:butt;stroke-linejoin:miter;stroke:rgb(50%,50%,50%);stroke-opacity:1;stroke-miterlimit:10;\" d=\"M 196.84375 314.738281 L 226.316406 314.738281 L 226.316406 344.210938 L 196.84375 344.210938 Z M 196.84375 314.738281 \"/>\n",
       "<path style=\"fill-rule:nonzero;fill:rgb(100%,100%,100%);fill-opacity:1;stroke-width:1;stroke-linecap:butt;stroke-linejoin:miter;stroke:rgb(50%,50%,50%);stroke-opacity:1;stroke-miterlimit:10;\" d=\"M 226.316406 314.738281 L 255.789062 314.738281 L 255.789062 344.210938 L 226.316406 344.210938 Z M 226.316406 314.738281 \"/>\n",
       "<path style=\"fill-rule:nonzero;fill:rgb(100%,100%,100%);fill-opacity:1;stroke-width:1;stroke-linecap:butt;stroke-linejoin:miter;stroke:rgb(50%,50%,50%);stroke-opacity:1;stroke-miterlimit:10;\" d=\"M 255.789062 314.738281 L 285.261719 314.738281 L 285.261719 344.210938 L 255.789062 344.210938 Z M 255.789062 314.738281 \"/>\n",
       "<path style=\"fill-rule:nonzero;fill:rgb(100%,100%,100%);fill-opacity:1;stroke-width:1;stroke-linecap:butt;stroke-linejoin:miter;stroke:rgb(50%,50%,50%);stroke-opacity:1;stroke-miterlimit:10;\" d=\"M 285.261719 314.738281 L 314.734375 314.738281 L 314.734375 344.210938 L 285.261719 344.210938 Z M 285.261719 314.738281 \"/>\n",
       "<path style=\"fill-rule:nonzero;fill:rgb(100%,100%,100%);fill-opacity:1;stroke-width:1;stroke-linecap:butt;stroke-linejoin:miter;stroke:rgb(50%,50%,50%);stroke-opacity:1;stroke-miterlimit:10;\" d=\"M 314.738281 314.738281 L 344.210938 314.738281 L 344.210938 344.210938 L 314.738281 344.210938 Z M 314.738281 314.738281 \"/>\n",
       "<path style=\"fill-rule:nonzero;fill:rgb(100%,100%,100%);fill-opacity:1;stroke-width:1;stroke-linecap:butt;stroke-linejoin:miter;stroke:rgb(50%,50%,50%);stroke-opacity:1;stroke-miterlimit:10;\" d=\"M 344.210938 314.738281 L 373.683594 314.738281 L 373.683594 344.210938 L 344.210938 344.210938 Z M 344.210938 314.738281 \"/>\n",
       "<path style=\"fill-rule:nonzero;fill:rgb(0%,0%,0%);fill-opacity:1;stroke-width:1;stroke-linecap:butt;stroke-linejoin:miter;stroke:rgb(50%,50%,50%);stroke-opacity:1;stroke-miterlimit:10;\" d=\"M 373.683594 314.738281 L 403.15625 314.738281 L 403.15625 344.210938 L 373.683594 344.210938 Z M 373.683594 314.738281 \"/>\n",
       "<path style=\"fill-rule:nonzero;fill:rgb(0%,0%,0%);fill-opacity:1;stroke-width:1;stroke-linecap:butt;stroke-linejoin:miter;stroke:rgb(50%,50%,50%);stroke-opacity:1;stroke-miterlimit:10;\" d=\"M 403.15625 314.738281 L 432.628906 314.738281 L 432.628906 344.210938 L 403.15625 344.210938 Z M 403.15625 314.738281 \"/>\n",
       "<path style=\"fill-rule:nonzero;fill:rgb(100%,100%,100%);fill-opacity:1;stroke-width:1;stroke-linecap:butt;stroke-linejoin:miter;stroke:rgb(50%,50%,50%);stroke-opacity:1;stroke-miterlimit:10;\" d=\"M 432.632812 314.738281 L 462.105469 314.738281 L 462.105469 344.210938 L 432.632812 344.210938 Z M 432.632812 314.738281 \"/>\n",
       "<path style=\"fill-rule:nonzero;fill:rgb(100%,100%,100%);fill-opacity:1;stroke-width:1;stroke-linecap:butt;stroke-linejoin:miter;stroke:rgb(50%,50%,50%);stroke-opacity:1;stroke-miterlimit:10;\" d=\"M 462.105469 314.738281 L 491.578125 314.738281 L 491.578125 344.210938 L 462.105469 344.210938 Z M 462.105469 314.738281 \"/>\n",
       "<path style=\"fill-rule:nonzero;fill:rgb(100%,100%,100%);fill-opacity:1;stroke-width:1;stroke-linecap:butt;stroke-linejoin:miter;stroke:rgb(50%,50%,50%);stroke-opacity:1;stroke-miterlimit:10;\" d=\"M 491.578125 314.738281 L 521.050781 314.738281 L 521.050781 344.210938 L 491.578125 344.210938 Z M 491.578125 314.738281 \"/>\n",
       "<path style=\"fill-rule:nonzero;fill:rgb(100%,100%,100%);fill-opacity:1;stroke-width:1;stroke-linecap:butt;stroke-linejoin:miter;stroke:rgb(50%,50%,50%);stroke-opacity:1;stroke-miterlimit:10;\" d=\"M 521.050781 314.738281 L 550.523438 314.738281 L 550.523438 344.210938 L 521.050781 344.210938 Z M 521.050781 314.738281 \"/>\n",
       "<path style=\"fill-rule:nonzero;fill:rgb(100%,100%,100%);fill-opacity:1;stroke-width:1;stroke-linecap:butt;stroke-linejoin:miter;stroke:rgb(50%,50%,50%);stroke-opacity:1;stroke-miterlimit:10;\" d=\"M 550.527344 314.738281 L 580 314.738281 L 580 344.210938 L 550.527344 344.210938 Z M 550.527344 314.738281 \"/>\n",
       "<path style=\"fill-rule:nonzero;fill:rgb(100%,100%,100%);fill-opacity:1;stroke-width:1;stroke-linecap:butt;stroke-linejoin:miter;stroke:rgb(50%,50%,50%);stroke-opacity:1;stroke-miterlimit:10;\" d=\"M 20 344.210938 L 49.472656 344.210938 L 49.472656 373.683594 L 20 373.683594 Z M 20 344.210938 \"/>\n",
       "<path style=\"fill-rule:nonzero;fill:rgb(100%,100%,100%);fill-opacity:1;stroke-width:1;stroke-linecap:butt;stroke-linejoin:miter;stroke:rgb(50%,50%,50%);stroke-opacity:1;stroke-miterlimit:10;\" d=\"M 49.472656 344.210938 L 78.945312 344.210938 L 78.945312 373.683594 L 49.472656 373.683594 Z M 49.472656 344.210938 \"/>\n",
       "<path style=\"fill-rule:nonzero;fill:rgb(100%,100%,100%);fill-opacity:1;stroke-width:1;stroke-linecap:butt;stroke-linejoin:miter;stroke:rgb(50%,50%,50%);stroke-opacity:1;stroke-miterlimit:10;\" d=\"M 78.949219 344.210938 L 108.421875 344.210938 L 108.421875 373.683594 L 78.949219 373.683594 Z M 78.949219 344.210938 \"/>\n",
       "<path style=\"fill-rule:nonzero;fill:rgb(100%,100%,100%);fill-opacity:1;stroke-width:1;stroke-linecap:butt;stroke-linejoin:miter;stroke:rgb(50%,50%,50%);stroke-opacity:1;stroke-miterlimit:10;\" d=\"M 108.421875 344.210938 L 137.894531 344.210938 L 137.894531 373.683594 L 108.421875 373.683594 Z M 108.421875 344.210938 \"/>\n",
       "<path style=\"fill-rule:nonzero;fill:rgb(100%,100%,100%);fill-opacity:1;stroke-width:1;stroke-linecap:butt;stroke-linejoin:miter;stroke:rgb(50%,50%,50%);stroke-opacity:1;stroke-miterlimit:10;\" d=\"M 137.894531 344.210938 L 167.367188 344.210938 L 167.367188 373.683594 L 137.894531 373.683594 Z M 137.894531 344.210938 \"/>\n",
       "<path style=\"fill-rule:nonzero;fill:rgb(100%,100%,100%);fill-opacity:1;stroke-width:1;stroke-linecap:butt;stroke-linejoin:miter;stroke:rgb(50%,50%,50%);stroke-opacity:1;stroke-miterlimit:10;\" d=\"M 167.367188 344.210938 L 196.839844 344.210938 L 196.839844 373.683594 L 167.367188 373.683594 Z M 167.367188 344.210938 \"/>\n",
       "<path style=\"fill-rule:nonzero;fill:rgb(100%,100%,100%);fill-opacity:1;stroke-width:1;stroke-linecap:butt;stroke-linejoin:miter;stroke:rgb(50%,50%,50%);stroke-opacity:1;stroke-miterlimit:10;\" d=\"M 196.84375 344.210938 L 226.316406 344.210938 L 226.316406 373.683594 L 196.84375 373.683594 Z M 196.84375 344.210938 \"/>\n",
       "<path style=\"fill-rule:nonzero;fill:rgb(100%,100%,100%);fill-opacity:1;stroke-width:1;stroke-linecap:butt;stroke-linejoin:miter;stroke:rgb(50%,50%,50%);stroke-opacity:1;stroke-miterlimit:10;\" d=\"M 226.316406 344.210938 L 255.789062 344.210938 L 255.789062 373.683594 L 226.316406 373.683594 Z M 226.316406 344.210938 \"/>\n",
       "<path style=\"fill-rule:nonzero;fill:rgb(0%,0%,0%);fill-opacity:1;stroke-width:1;stroke-linecap:butt;stroke-linejoin:miter;stroke:rgb(50%,50%,50%);stroke-opacity:1;stroke-miterlimit:10;\" d=\"M 255.789062 344.210938 L 285.261719 344.210938 L 285.261719 373.683594 L 255.789062 373.683594 Z M 255.789062 344.210938 \"/>\n",
       "<path style=\"fill-rule:nonzero;fill:rgb(0%,0%,0%);fill-opacity:1;stroke-width:1;stroke-linecap:butt;stroke-linejoin:miter;stroke:rgb(50%,50%,50%);stroke-opacity:1;stroke-miterlimit:10;\" d=\"M 285.261719 344.210938 L 314.734375 344.210938 L 314.734375 373.683594 L 285.261719 373.683594 Z M 285.261719 344.210938 \"/>\n",
       "<path style=\"fill-rule:nonzero;fill:rgb(100%,100%,100%);fill-opacity:1;stroke-width:1;stroke-linecap:butt;stroke-linejoin:miter;stroke:rgb(50%,50%,50%);stroke-opacity:1;stroke-miterlimit:10;\" d=\"M 314.738281 344.210938 L 344.210938 344.210938 L 344.210938 373.683594 L 314.738281 373.683594 Z M 314.738281 344.210938 \"/>\n",
       "<path style=\"fill-rule:nonzero;fill:rgb(100%,100%,100%);fill-opacity:1;stroke-width:1;stroke-linecap:butt;stroke-linejoin:miter;stroke:rgb(50%,50%,50%);stroke-opacity:1;stroke-miterlimit:10;\" d=\"M 344.210938 344.210938 L 373.683594 344.210938 L 373.683594 373.683594 L 344.210938 373.683594 Z M 344.210938 344.210938 \"/>\n",
       "<path style=\"fill-rule:nonzero;fill:rgb(0%,0%,0%);fill-opacity:1;stroke-width:1;stroke-linecap:butt;stroke-linejoin:miter;stroke:rgb(50%,50%,50%);stroke-opacity:1;stroke-miterlimit:10;\" d=\"M 373.683594 344.210938 L 403.15625 344.210938 L 403.15625 373.683594 L 373.683594 373.683594 Z M 373.683594 344.210938 \"/>\n",
       "<path style=\"fill-rule:nonzero;fill:rgb(0%,0%,0%);fill-opacity:1;stroke-width:1;stroke-linecap:butt;stroke-linejoin:miter;stroke:rgb(50%,50%,50%);stroke-opacity:1;stroke-miterlimit:10;\" d=\"M 403.15625 344.210938 L 432.628906 344.210938 L 432.628906 373.683594 L 403.15625 373.683594 Z M 403.15625 344.210938 \"/>\n",
       "<path style=\"fill-rule:nonzero;fill:rgb(0%,0%,0%);fill-opacity:1;stroke-width:1;stroke-linecap:butt;stroke-linejoin:miter;stroke:rgb(50%,50%,50%);stroke-opacity:1;stroke-miterlimit:10;\" d=\"M 432.632812 344.210938 L 462.105469 344.210938 L 462.105469 373.683594 L 432.632812 373.683594 Z M 432.632812 344.210938 \"/>\n",
       "<path style=\"fill-rule:nonzero;fill:rgb(100%,100%,100%);fill-opacity:1;stroke-width:1;stroke-linecap:butt;stroke-linejoin:miter;stroke:rgb(50%,50%,50%);stroke-opacity:1;stroke-miterlimit:10;\" d=\"M 462.105469 344.210938 L 491.578125 344.210938 L 491.578125 373.683594 L 462.105469 373.683594 Z M 462.105469 344.210938 \"/>\n",
       "<path style=\"fill-rule:nonzero;fill:rgb(100%,100%,100%);fill-opacity:1;stroke-width:1;stroke-linecap:butt;stroke-linejoin:miter;stroke:rgb(50%,50%,50%);stroke-opacity:1;stroke-miterlimit:10;\" d=\"M 491.578125 344.210938 L 521.050781 344.210938 L 521.050781 373.683594 L 491.578125 373.683594 Z M 491.578125 344.210938 \"/>\n",
       "<path style=\"fill-rule:nonzero;fill:rgb(100%,100%,100%);fill-opacity:1;stroke-width:1;stroke-linecap:butt;stroke-linejoin:miter;stroke:rgb(50%,50%,50%);stroke-opacity:1;stroke-miterlimit:10;\" d=\"M 521.050781 344.210938 L 550.523438 344.210938 L 550.523438 373.683594 L 521.050781 373.683594 Z M 521.050781 344.210938 \"/>\n",
       "<path style=\"fill-rule:nonzero;fill:rgb(100%,100%,100%);fill-opacity:1;stroke-width:1;stroke-linecap:butt;stroke-linejoin:miter;stroke:rgb(50%,50%,50%);stroke-opacity:1;stroke-miterlimit:10;\" d=\"M 550.527344 344.210938 L 580 344.210938 L 580 373.683594 L 550.527344 373.683594 Z M 550.527344 344.210938 \"/>\n",
       "<path style=\"fill-rule:nonzero;fill:rgb(100%,100%,100%);fill-opacity:1;stroke-width:1;stroke-linecap:butt;stroke-linejoin:miter;stroke:rgb(50%,50%,50%);stroke-opacity:1;stroke-miterlimit:10;\" d=\"M 20 373.683594 L 49.472656 373.683594 L 49.472656 403.15625 L 20 403.15625 Z M 20 373.683594 \"/>\n",
       "<path style=\"fill-rule:nonzero;fill:rgb(100%,100%,100%);fill-opacity:1;stroke-width:1;stroke-linecap:butt;stroke-linejoin:miter;stroke:rgb(50%,50%,50%);stroke-opacity:1;stroke-miterlimit:10;\" d=\"M 49.472656 373.683594 L 78.945312 373.683594 L 78.945312 403.15625 L 49.472656 403.15625 Z M 49.472656 373.683594 \"/>\n",
       "<path style=\"fill-rule:nonzero;fill:rgb(100%,100%,100%);fill-opacity:1;stroke-width:1;stroke-linecap:butt;stroke-linejoin:miter;stroke:rgb(50%,50%,50%);stroke-opacity:1;stroke-miterlimit:10;\" d=\"M 78.949219 373.683594 L 108.421875 373.683594 L 108.421875 403.15625 L 78.949219 403.15625 Z M 78.949219 373.683594 \"/>\n",
       "<path style=\"fill-rule:nonzero;fill:rgb(0%,0%,0%);fill-opacity:1;stroke-width:1;stroke-linecap:butt;stroke-linejoin:miter;stroke:rgb(50%,50%,50%);stroke-opacity:1;stroke-miterlimit:10;\" d=\"M 108.421875 373.683594 L 137.894531 373.683594 L 137.894531 403.15625 L 108.421875 403.15625 Z M 108.421875 373.683594 \"/>\n",
       "<path style=\"fill-rule:nonzero;fill:rgb(100%,100%,100%);fill-opacity:1;stroke-width:1;stroke-linecap:butt;stroke-linejoin:miter;stroke:rgb(50%,50%,50%);stroke-opacity:1;stroke-miterlimit:10;\" d=\"M 137.894531 373.683594 L 167.367188 373.683594 L 167.367188 403.15625 L 137.894531 403.15625 Z M 137.894531 373.683594 \"/>\n",
       "<path style=\"fill-rule:nonzero;fill:rgb(100%,100%,100%);fill-opacity:1;stroke-width:1;stroke-linecap:butt;stroke-linejoin:miter;stroke:rgb(50%,50%,50%);stroke-opacity:1;stroke-miterlimit:10;\" d=\"M 167.367188 373.683594 L 196.839844 373.683594 L 196.839844 403.15625 L 167.367188 403.15625 Z M 167.367188 373.683594 \"/>\n",
       "<path style=\"fill-rule:nonzero;fill:rgb(100%,100%,100%);fill-opacity:1;stroke-width:1;stroke-linecap:butt;stroke-linejoin:miter;stroke:rgb(50%,50%,50%);stroke-opacity:1;stroke-miterlimit:10;\" d=\"M 196.84375 373.683594 L 226.316406 373.683594 L 226.316406 403.15625 L 196.84375 403.15625 Z M 196.84375 373.683594 \"/>\n",
       "<path style=\"fill-rule:nonzero;fill:rgb(100%,100%,100%);fill-opacity:1;stroke-width:1;stroke-linecap:butt;stroke-linejoin:miter;stroke:rgb(50%,50%,50%);stroke-opacity:1;stroke-miterlimit:10;\" d=\"M 226.316406 373.683594 L 255.789062 373.683594 L 255.789062 403.15625 L 226.316406 403.15625 Z M 226.316406 373.683594 \"/>\n",
       "<path style=\"fill-rule:nonzero;fill:rgb(100%,100%,100%);fill-opacity:1;stroke-width:1;stroke-linecap:butt;stroke-linejoin:miter;stroke:rgb(50%,50%,50%);stroke-opacity:1;stroke-miterlimit:10;\" d=\"M 255.789062 373.683594 L 285.261719 373.683594 L 285.261719 403.15625 L 255.789062 403.15625 Z M 255.789062 373.683594 \"/>\n",
       "<path style=\"fill-rule:nonzero;fill:rgb(0%,0%,0%);fill-opacity:1;stroke-width:1;stroke-linecap:butt;stroke-linejoin:miter;stroke:rgb(50%,50%,50%);stroke-opacity:1;stroke-miterlimit:10;\" d=\"M 285.261719 373.683594 L 314.734375 373.683594 L 314.734375 403.15625 L 285.261719 403.15625 Z M 285.261719 373.683594 \"/>\n",
       "<path style=\"fill-rule:nonzero;fill:rgb(0%,0%,0%);fill-opacity:1;stroke-width:1;stroke-linecap:butt;stroke-linejoin:miter;stroke:rgb(50%,50%,50%);stroke-opacity:1;stroke-miterlimit:10;\" d=\"M 314.738281 373.683594 L 344.210938 373.683594 L 344.210938 403.15625 L 314.738281 403.15625 Z M 314.738281 373.683594 \"/>\n",
       "<path style=\"fill-rule:nonzero;fill:rgb(0%,0%,0%);fill-opacity:1;stroke-width:1;stroke-linecap:butt;stroke-linejoin:miter;stroke:rgb(50%,50%,50%);stroke-opacity:1;stroke-miterlimit:10;\" d=\"M 344.210938 373.683594 L 373.683594 373.683594 L 373.683594 403.15625 L 344.210938 403.15625 Z M 344.210938 373.683594 \"/>\n",
       "<path style=\"fill-rule:nonzero;fill:rgb(100%,100%,100%);fill-opacity:1;stroke-width:1;stroke-linecap:butt;stroke-linejoin:miter;stroke:rgb(50%,50%,50%);stroke-opacity:1;stroke-miterlimit:10;\" d=\"M 373.683594 373.683594 L 403.15625 373.683594 L 403.15625 403.15625 L 373.683594 403.15625 Z M 373.683594 373.683594 \"/>\n",
       "<path style=\"fill-rule:nonzero;fill:rgb(0%,0%,0%);fill-opacity:1;stroke-width:1;stroke-linecap:butt;stroke-linejoin:miter;stroke:rgb(50%,50%,50%);stroke-opacity:1;stroke-miterlimit:10;\" d=\"M 403.15625 373.683594 L 432.628906 373.683594 L 432.628906 403.15625 L 403.15625 403.15625 Z M 403.15625 373.683594 \"/>\n",
       "<path style=\"fill-rule:nonzero;fill:rgb(100%,100%,100%);fill-opacity:1;stroke-width:1;stroke-linecap:butt;stroke-linejoin:miter;stroke:rgb(50%,50%,50%);stroke-opacity:1;stroke-miterlimit:10;\" d=\"M 432.632812 373.683594 L 462.105469 373.683594 L 462.105469 403.15625 L 432.632812 403.15625 Z M 432.632812 373.683594 \"/>\n",
       "<path style=\"fill-rule:nonzero;fill:rgb(100%,100%,100%);fill-opacity:1;stroke-width:1;stroke-linecap:butt;stroke-linejoin:miter;stroke:rgb(50%,50%,50%);stroke-opacity:1;stroke-miterlimit:10;\" d=\"M 462.105469 373.683594 L 491.578125 373.683594 L 491.578125 403.15625 L 462.105469 403.15625 Z M 462.105469 373.683594 \"/>\n",
       "<path style=\"fill-rule:nonzero;fill:rgb(100%,100%,100%);fill-opacity:1;stroke-width:1;stroke-linecap:butt;stroke-linejoin:miter;stroke:rgb(50%,50%,50%);stroke-opacity:1;stroke-miterlimit:10;\" d=\"M 491.578125 373.683594 L 521.050781 373.683594 L 521.050781 403.15625 L 491.578125 403.15625 Z M 491.578125 373.683594 \"/>\n",
       "<path style=\"fill-rule:nonzero;fill:rgb(100%,100%,100%);fill-opacity:1;stroke-width:1;stroke-linecap:butt;stroke-linejoin:miter;stroke:rgb(50%,50%,50%);stroke-opacity:1;stroke-miterlimit:10;\" d=\"M 521.050781 373.683594 L 550.523438 373.683594 L 550.523438 403.15625 L 521.050781 403.15625 Z M 521.050781 373.683594 \"/>\n",
       "<path style=\"fill-rule:nonzero;fill:rgb(100%,100%,100%);fill-opacity:1;stroke-width:1;stroke-linecap:butt;stroke-linejoin:miter;stroke:rgb(50%,50%,50%);stroke-opacity:1;stroke-miterlimit:10;\" d=\"M 550.527344 373.683594 L 580 373.683594 L 580 403.15625 L 550.527344 403.15625 Z M 550.527344 373.683594 \"/>\n",
       "<path style=\"fill-rule:nonzero;fill:rgb(100%,100%,100%);fill-opacity:1;stroke-width:1;stroke-linecap:butt;stroke-linejoin:miter;stroke:rgb(50%,50%,50%);stroke-opacity:1;stroke-miterlimit:10;\" d=\"M 20 403.15625 L 49.472656 403.15625 L 49.472656 432.628906 L 20 432.628906 Z M 20 403.15625 \"/>\n",
       "<path style=\"fill-rule:nonzero;fill:rgb(100%,100%,100%);fill-opacity:1;stroke-width:1;stroke-linecap:butt;stroke-linejoin:miter;stroke:rgb(50%,50%,50%);stroke-opacity:1;stroke-miterlimit:10;\" d=\"M 49.472656 403.15625 L 78.945312 403.15625 L 78.945312 432.628906 L 49.472656 432.628906 Z M 49.472656 403.15625 \"/>\n",
       "<path style=\"fill-rule:nonzero;fill:rgb(100%,100%,100%);fill-opacity:1;stroke-width:1;stroke-linecap:butt;stroke-linejoin:miter;stroke:rgb(50%,50%,50%);stroke-opacity:1;stroke-miterlimit:10;\" d=\"M 78.949219 403.15625 L 108.421875 403.15625 L 108.421875 432.628906 L 78.949219 432.628906 Z M 78.949219 403.15625 \"/>\n",
       "<path style=\"fill-rule:nonzero;fill:rgb(100%,100%,100%);fill-opacity:1;stroke-width:1;stroke-linecap:butt;stroke-linejoin:miter;stroke:rgb(50%,50%,50%);stroke-opacity:1;stroke-miterlimit:10;\" d=\"M 108.421875 403.15625 L 137.894531 403.15625 L 137.894531 432.628906 L 108.421875 432.628906 Z M 108.421875 403.15625 \"/>\n",
       "<path style=\"fill-rule:nonzero;fill:rgb(100%,100%,100%);fill-opacity:1;stroke-width:1;stroke-linecap:butt;stroke-linejoin:miter;stroke:rgb(50%,50%,50%);stroke-opacity:1;stroke-miterlimit:10;\" d=\"M 137.894531 403.15625 L 167.367188 403.15625 L 167.367188 432.628906 L 137.894531 432.628906 Z M 137.894531 403.15625 \"/>\n",
       "<path style=\"fill-rule:nonzero;fill:rgb(100%,100%,100%);fill-opacity:1;stroke-width:1;stroke-linecap:butt;stroke-linejoin:miter;stroke:rgb(50%,50%,50%);stroke-opacity:1;stroke-miterlimit:10;\" d=\"M 167.367188 403.15625 L 196.839844 403.15625 L 196.839844 432.628906 L 167.367188 432.628906 Z M 167.367188 403.15625 \"/>\n",
       "<path style=\"fill-rule:nonzero;fill:rgb(100%,100%,100%);fill-opacity:1;stroke-width:1;stroke-linecap:butt;stroke-linejoin:miter;stroke:rgb(50%,50%,50%);stroke-opacity:1;stroke-miterlimit:10;\" d=\"M 196.84375 403.15625 L 226.316406 403.15625 L 226.316406 432.628906 L 196.84375 432.628906 Z M 196.84375 403.15625 \"/>\n",
       "<path style=\"fill-rule:nonzero;fill:rgb(0%,0%,0%);fill-opacity:1;stroke-width:1;stroke-linecap:butt;stroke-linejoin:miter;stroke:rgb(50%,50%,50%);stroke-opacity:1;stroke-miterlimit:10;\" d=\"M 226.316406 403.15625 L 255.789062 403.15625 L 255.789062 432.628906 L 226.316406 432.628906 Z M 226.316406 403.15625 \"/>\n",
       "<path style=\"fill-rule:nonzero;fill:rgb(100%,100%,100%);fill-opacity:1;stroke-width:1;stroke-linecap:butt;stroke-linejoin:miter;stroke:rgb(50%,50%,50%);stroke-opacity:1;stroke-miterlimit:10;\" d=\"M 255.789062 403.15625 L 285.261719 403.15625 L 285.261719 432.628906 L 255.789062 432.628906 Z M 255.789062 403.15625 \"/>\n",
       "<path style=\"fill-rule:nonzero;fill:rgb(0%,0%,0%);fill-opacity:1;stroke-width:1;stroke-linecap:butt;stroke-linejoin:miter;stroke:rgb(50%,50%,50%);stroke-opacity:1;stroke-miterlimit:10;\" d=\"M 285.261719 403.15625 L 314.734375 403.15625 L 314.734375 432.628906 L 285.261719 432.628906 Z M 285.261719 403.15625 \"/>\n",
       "<path style=\"fill-rule:nonzero;fill:rgb(0%,0%,0%);fill-opacity:1;stroke-width:1;stroke-linecap:butt;stroke-linejoin:miter;stroke:rgb(50%,50%,50%);stroke-opacity:1;stroke-miterlimit:10;\" d=\"M 314.738281 403.15625 L 344.210938 403.15625 L 344.210938 432.628906 L 314.738281 432.628906 Z M 314.738281 403.15625 \"/>\n",
       "<path style=\"fill-rule:nonzero;fill:rgb(0%,0%,0%);fill-opacity:1;stroke-width:1;stroke-linecap:butt;stroke-linejoin:miter;stroke:rgb(50%,50%,50%);stroke-opacity:1;stroke-miterlimit:10;\" d=\"M 344.210938 403.15625 L 373.683594 403.15625 L 373.683594 432.628906 L 344.210938 432.628906 Z M 344.210938 403.15625 \"/>\n",
       "<path style=\"fill-rule:nonzero;fill:rgb(0%,0%,0%);fill-opacity:1;stroke-width:1;stroke-linecap:butt;stroke-linejoin:miter;stroke:rgb(50%,50%,50%);stroke-opacity:1;stroke-miterlimit:10;\" d=\"M 373.683594 403.15625 L 403.15625 403.15625 L 403.15625 432.628906 L 373.683594 432.628906 Z M 373.683594 403.15625 \"/>\n",
       "<path style=\"fill-rule:nonzero;fill:rgb(100%,100%,100%);fill-opacity:1;stroke-width:1;stroke-linecap:butt;stroke-linejoin:miter;stroke:rgb(50%,50%,50%);stroke-opacity:1;stroke-miterlimit:10;\" d=\"M 403.15625 403.15625 L 432.628906 403.15625 L 432.628906 432.628906 L 403.15625 432.628906 Z M 403.15625 403.15625 \"/>\n",
       "<path style=\"fill-rule:nonzero;fill:rgb(100%,100%,100%);fill-opacity:1;stroke-width:1;stroke-linecap:butt;stroke-linejoin:miter;stroke:rgb(50%,50%,50%);stroke-opacity:1;stroke-miterlimit:10;\" d=\"M 432.632812 403.15625 L 462.105469 403.15625 L 462.105469 432.628906 L 432.632812 432.628906 Z M 432.632812 403.15625 \"/>\n",
       "<path style=\"fill-rule:nonzero;fill:rgb(100%,100%,100%);fill-opacity:1;stroke-width:1;stroke-linecap:butt;stroke-linejoin:miter;stroke:rgb(50%,50%,50%);stroke-opacity:1;stroke-miterlimit:10;\" d=\"M 462.105469 403.15625 L 491.578125 403.15625 L 491.578125 432.628906 L 462.105469 432.628906 Z M 462.105469 403.15625 \"/>\n",
       "<path style=\"fill-rule:nonzero;fill:rgb(100%,100%,100%);fill-opacity:1;stroke-width:1;stroke-linecap:butt;stroke-linejoin:miter;stroke:rgb(50%,50%,50%);stroke-opacity:1;stroke-miterlimit:10;\" d=\"M 491.578125 403.15625 L 521.050781 403.15625 L 521.050781 432.628906 L 491.578125 432.628906 Z M 491.578125 403.15625 \"/>\n",
       "<path style=\"fill-rule:nonzero;fill:rgb(100%,100%,100%);fill-opacity:1;stroke-width:1;stroke-linecap:butt;stroke-linejoin:miter;stroke:rgb(50%,50%,50%);stroke-opacity:1;stroke-miterlimit:10;\" d=\"M 521.050781 403.15625 L 550.523438 403.15625 L 550.523438 432.628906 L 521.050781 432.628906 Z M 521.050781 403.15625 \"/>\n",
       "<path style=\"fill-rule:nonzero;fill:rgb(100%,100%,100%);fill-opacity:1;stroke-width:1;stroke-linecap:butt;stroke-linejoin:miter;stroke:rgb(50%,50%,50%);stroke-opacity:1;stroke-miterlimit:10;\" d=\"M 550.527344 403.15625 L 580 403.15625 L 580 432.628906 L 550.527344 432.628906 Z M 550.527344 403.15625 \"/>\n",
       "<path style=\"fill-rule:nonzero;fill:rgb(100%,100%,100%);fill-opacity:1;stroke-width:1;stroke-linecap:butt;stroke-linejoin:miter;stroke:rgb(50%,50%,50%);stroke-opacity:1;stroke-miterlimit:10;\" d=\"M 20 432.632812 L 49.472656 432.632812 L 49.472656 462.105469 L 20 462.105469 Z M 20 432.632812 \"/>\n",
       "<path style=\"fill-rule:nonzero;fill:rgb(100%,100%,100%);fill-opacity:1;stroke-width:1;stroke-linecap:butt;stroke-linejoin:miter;stroke:rgb(50%,50%,50%);stroke-opacity:1;stroke-miterlimit:10;\" d=\"M 49.472656 432.632812 L 78.945312 432.632812 L 78.945312 462.105469 L 49.472656 462.105469 Z M 49.472656 432.632812 \"/>\n",
       "<path style=\"fill-rule:nonzero;fill:rgb(100%,100%,100%);fill-opacity:1;stroke-width:1;stroke-linecap:butt;stroke-linejoin:miter;stroke:rgb(50%,50%,50%);stroke-opacity:1;stroke-miterlimit:10;\" d=\"M 78.949219 432.632812 L 108.421875 432.632812 L 108.421875 462.105469 L 78.949219 462.105469 Z M 78.949219 432.632812 \"/>\n",
       "<path style=\"fill-rule:nonzero;fill:rgb(100%,100%,100%);fill-opacity:1;stroke-width:1;stroke-linecap:butt;stroke-linejoin:miter;stroke:rgb(50%,50%,50%);stroke-opacity:1;stroke-miterlimit:10;\" d=\"M 108.421875 432.632812 L 137.894531 432.632812 L 137.894531 462.105469 L 108.421875 462.105469 Z M 108.421875 432.632812 \"/>\n",
       "<path style=\"fill-rule:nonzero;fill:rgb(100%,100%,100%);fill-opacity:1;stroke-width:1;stroke-linecap:butt;stroke-linejoin:miter;stroke:rgb(50%,50%,50%);stroke-opacity:1;stroke-miterlimit:10;\" d=\"M 137.894531 432.632812 L 167.367188 432.632812 L 167.367188 462.105469 L 137.894531 462.105469 Z M 137.894531 432.632812 \"/>\n",
       "<path style=\"fill-rule:nonzero;fill:rgb(100%,100%,100%);fill-opacity:1;stroke-width:1;stroke-linecap:butt;stroke-linejoin:miter;stroke:rgb(50%,50%,50%);stroke-opacity:1;stroke-miterlimit:10;\" d=\"M 167.367188 432.632812 L 196.839844 432.632812 L 196.839844 462.105469 L 167.367188 462.105469 Z M 167.367188 432.632812 \"/>\n",
       "<path style=\"fill-rule:nonzero;fill:rgb(100%,100%,100%);fill-opacity:1;stroke-width:1;stroke-linecap:butt;stroke-linejoin:miter;stroke:rgb(50%,50%,50%);stroke-opacity:1;stroke-miterlimit:10;\" d=\"M 196.84375 432.632812 L 226.316406 432.632812 L 226.316406 462.105469 L 196.84375 462.105469 Z M 196.84375 432.632812 \"/>\n",
       "<path style=\"fill-rule:nonzero;fill:rgb(100%,100%,100%);fill-opacity:1;stroke-width:1;stroke-linecap:butt;stroke-linejoin:miter;stroke:rgb(50%,50%,50%);stroke-opacity:1;stroke-miterlimit:10;\" d=\"M 226.316406 432.632812 L 255.789062 432.632812 L 255.789062 462.105469 L 226.316406 462.105469 Z M 226.316406 432.632812 \"/>\n",
       "<path style=\"fill-rule:nonzero;fill:rgb(100%,100%,100%);fill-opacity:1;stroke-width:1;stroke-linecap:butt;stroke-linejoin:miter;stroke:rgb(50%,50%,50%);stroke-opacity:1;stroke-miterlimit:10;\" d=\"M 255.789062 432.632812 L 285.261719 432.632812 L 285.261719 462.105469 L 255.789062 462.105469 Z M 255.789062 432.632812 \"/>\n",
       "<path style=\"fill-rule:nonzero;fill:rgb(100%,100%,100%);fill-opacity:1;stroke-width:1;stroke-linecap:butt;stroke-linejoin:miter;stroke:rgb(50%,50%,50%);stroke-opacity:1;stroke-miterlimit:10;\" d=\"M 285.261719 432.632812 L 314.734375 432.632812 L 314.734375 462.105469 L 285.261719 462.105469 Z M 285.261719 432.632812 \"/>\n",
       "<path style=\"fill-rule:nonzero;fill:rgb(100%,100%,100%);fill-opacity:1;stroke-width:1;stroke-linecap:butt;stroke-linejoin:miter;stroke:rgb(50%,50%,50%);stroke-opacity:1;stroke-miterlimit:10;\" d=\"M 314.738281 432.632812 L 344.210938 432.632812 L 344.210938 462.105469 L 314.738281 462.105469 Z M 314.738281 432.632812 \"/>\n",
       "<path style=\"fill-rule:nonzero;fill:rgb(0%,0%,0%);fill-opacity:1;stroke-width:1;stroke-linecap:butt;stroke-linejoin:miter;stroke:rgb(50%,50%,50%);stroke-opacity:1;stroke-miterlimit:10;\" d=\"M 344.210938 432.632812 L 373.683594 432.632812 L 373.683594 462.105469 L 344.210938 462.105469 Z M 344.210938 432.632812 \"/>\n",
       "<path style=\"fill-rule:nonzero;fill:rgb(100%,100%,100%);fill-opacity:1;stroke-width:1;stroke-linecap:butt;stroke-linejoin:miter;stroke:rgb(50%,50%,50%);stroke-opacity:1;stroke-miterlimit:10;\" d=\"M 373.683594 432.632812 L 403.15625 432.632812 L 403.15625 462.105469 L 373.683594 462.105469 Z M 373.683594 432.632812 \"/>\n",
       "<path style=\"fill-rule:nonzero;fill:rgb(100%,100%,100%);fill-opacity:1;stroke-width:1;stroke-linecap:butt;stroke-linejoin:miter;stroke:rgb(50%,50%,50%);stroke-opacity:1;stroke-miterlimit:10;\" d=\"M 403.15625 432.632812 L 432.628906 432.632812 L 432.628906 462.105469 L 403.15625 462.105469 Z M 403.15625 432.632812 \"/>\n",
       "<path style=\"fill-rule:nonzero;fill:rgb(100%,100%,100%);fill-opacity:1;stroke-width:1;stroke-linecap:butt;stroke-linejoin:miter;stroke:rgb(50%,50%,50%);stroke-opacity:1;stroke-miterlimit:10;\" d=\"M 432.632812 432.632812 L 462.105469 432.632812 L 462.105469 462.105469 L 432.632812 462.105469 Z M 432.632812 432.632812 \"/>\n",
       "<path style=\"fill-rule:nonzero;fill:rgb(100%,100%,100%);fill-opacity:1;stroke-width:1;stroke-linecap:butt;stroke-linejoin:miter;stroke:rgb(50%,50%,50%);stroke-opacity:1;stroke-miterlimit:10;\" d=\"M 462.105469 432.632812 L 491.578125 432.632812 L 491.578125 462.105469 L 462.105469 462.105469 Z M 462.105469 432.632812 \"/>\n",
       "<path style=\"fill-rule:nonzero;fill:rgb(100%,100%,100%);fill-opacity:1;stroke-width:1;stroke-linecap:butt;stroke-linejoin:miter;stroke:rgb(50%,50%,50%);stroke-opacity:1;stroke-miterlimit:10;\" d=\"M 491.578125 432.632812 L 521.050781 432.632812 L 521.050781 462.105469 L 491.578125 462.105469 Z M 491.578125 432.632812 \"/>\n",
       "<path style=\"fill-rule:nonzero;fill:rgb(100%,100%,100%);fill-opacity:1;stroke-width:1;stroke-linecap:butt;stroke-linejoin:miter;stroke:rgb(50%,50%,50%);stroke-opacity:1;stroke-miterlimit:10;\" d=\"M 521.050781 432.632812 L 550.523438 432.632812 L 550.523438 462.105469 L 521.050781 462.105469 Z M 521.050781 432.632812 \"/>\n",
       "<path style=\"fill-rule:nonzero;fill:rgb(100%,100%,100%);fill-opacity:1;stroke-width:1;stroke-linecap:butt;stroke-linejoin:miter;stroke:rgb(50%,50%,50%);stroke-opacity:1;stroke-miterlimit:10;\" d=\"M 550.527344 432.632812 L 580 432.632812 L 580 462.105469 L 550.527344 462.105469 Z M 550.527344 432.632812 \"/>\n",
       "<path style=\"fill-rule:nonzero;fill:rgb(100%,100%,100%);fill-opacity:1;stroke-width:1;stroke-linecap:butt;stroke-linejoin:miter;stroke:rgb(50%,50%,50%);stroke-opacity:1;stroke-miterlimit:10;\" d=\"M 20 462.105469 L 49.472656 462.105469 L 49.472656 491.578125 L 20 491.578125 Z M 20 462.105469 \"/>\n",
       "<path style=\"fill-rule:nonzero;fill:rgb(100%,100%,100%);fill-opacity:1;stroke-width:1;stroke-linecap:butt;stroke-linejoin:miter;stroke:rgb(50%,50%,50%);stroke-opacity:1;stroke-miterlimit:10;\" d=\"M 49.472656 462.105469 L 78.945312 462.105469 L 78.945312 491.578125 L 49.472656 491.578125 Z M 49.472656 462.105469 \"/>\n",
       "<path style=\"fill-rule:nonzero;fill:rgb(100%,100%,100%);fill-opacity:1;stroke-width:1;stroke-linecap:butt;stroke-linejoin:miter;stroke:rgb(50%,50%,50%);stroke-opacity:1;stroke-miterlimit:10;\" d=\"M 78.949219 462.105469 L 108.421875 462.105469 L 108.421875 491.578125 L 78.949219 491.578125 Z M 78.949219 462.105469 \"/>\n",
       "<path style=\"fill-rule:nonzero;fill:rgb(100%,100%,100%);fill-opacity:1;stroke-width:1;stroke-linecap:butt;stroke-linejoin:miter;stroke:rgb(50%,50%,50%);stroke-opacity:1;stroke-miterlimit:10;\" d=\"M 108.421875 462.105469 L 137.894531 462.105469 L 137.894531 491.578125 L 108.421875 491.578125 Z M 108.421875 462.105469 \"/>\n",
       "<path style=\"fill-rule:nonzero;fill:rgb(100%,100%,100%);fill-opacity:1;stroke-width:1;stroke-linecap:butt;stroke-linejoin:miter;stroke:rgb(50%,50%,50%);stroke-opacity:1;stroke-miterlimit:10;\" d=\"M 137.894531 462.105469 L 167.367188 462.105469 L 167.367188 491.578125 L 137.894531 491.578125 Z M 137.894531 462.105469 \"/>\n",
       "<path style=\"fill-rule:nonzero;fill:rgb(100%,100%,100%);fill-opacity:1;stroke-width:1;stroke-linecap:butt;stroke-linejoin:miter;stroke:rgb(50%,50%,50%);stroke-opacity:1;stroke-miterlimit:10;\" d=\"M 167.367188 462.105469 L 196.839844 462.105469 L 196.839844 491.578125 L 167.367188 491.578125 Z M 167.367188 462.105469 \"/>\n",
       "<path style=\"fill-rule:nonzero;fill:rgb(100%,100%,100%);fill-opacity:1;stroke-width:1;stroke-linecap:butt;stroke-linejoin:miter;stroke:rgb(50%,50%,50%);stroke-opacity:1;stroke-miterlimit:10;\" d=\"M 196.84375 462.105469 L 226.316406 462.105469 L 226.316406 491.578125 L 196.84375 491.578125 Z M 196.84375 462.105469 \"/>\n",
       "<path style=\"fill-rule:nonzero;fill:rgb(100%,100%,100%);fill-opacity:1;stroke-width:1;stroke-linecap:butt;stroke-linejoin:miter;stroke:rgb(50%,50%,50%);stroke-opacity:1;stroke-miterlimit:10;\" d=\"M 226.316406 462.105469 L 255.789062 462.105469 L 255.789062 491.578125 L 226.316406 491.578125 Z M 226.316406 462.105469 \"/>\n",
       "<path style=\"fill-rule:nonzero;fill:rgb(100%,100%,100%);fill-opacity:1;stroke-width:1;stroke-linecap:butt;stroke-linejoin:miter;stroke:rgb(50%,50%,50%);stroke-opacity:1;stroke-miterlimit:10;\" d=\"M 255.789062 462.105469 L 285.261719 462.105469 L 285.261719 491.578125 L 255.789062 491.578125 Z M 255.789062 462.105469 \"/>\n",
       "<path style=\"fill-rule:nonzero;fill:rgb(100%,100%,100%);fill-opacity:1;stroke-width:1;stroke-linecap:butt;stroke-linejoin:miter;stroke:rgb(50%,50%,50%);stroke-opacity:1;stroke-miterlimit:10;\" d=\"M 285.261719 462.105469 L 314.734375 462.105469 L 314.734375 491.578125 L 285.261719 491.578125 Z M 285.261719 462.105469 \"/>\n",
       "<path style=\"fill-rule:nonzero;fill:rgb(100%,100%,100%);fill-opacity:1;stroke-width:1;stroke-linecap:butt;stroke-linejoin:miter;stroke:rgb(50%,50%,50%);stroke-opacity:1;stroke-miterlimit:10;\" d=\"M 314.738281 462.105469 L 344.210938 462.105469 L 344.210938 491.578125 L 314.738281 491.578125 Z M 314.738281 462.105469 \"/>\n",
       "<path style=\"fill-rule:nonzero;fill:rgb(100%,100%,100%);fill-opacity:1;stroke-width:1;stroke-linecap:butt;stroke-linejoin:miter;stroke:rgb(50%,50%,50%);stroke-opacity:1;stroke-miterlimit:10;\" d=\"M 344.210938 462.105469 L 373.683594 462.105469 L 373.683594 491.578125 L 344.210938 491.578125 Z M 344.210938 462.105469 \"/>\n",
       "<path style=\"fill-rule:nonzero;fill:rgb(100%,100%,100%);fill-opacity:1;stroke-width:1;stroke-linecap:butt;stroke-linejoin:miter;stroke:rgb(50%,50%,50%);stroke-opacity:1;stroke-miterlimit:10;\" d=\"M 373.683594 462.105469 L 403.15625 462.105469 L 403.15625 491.578125 L 373.683594 491.578125 Z M 373.683594 462.105469 \"/>\n",
       "<path style=\"fill-rule:nonzero;fill:rgb(100%,100%,100%);fill-opacity:1;stroke-width:1;stroke-linecap:butt;stroke-linejoin:miter;stroke:rgb(50%,50%,50%);stroke-opacity:1;stroke-miterlimit:10;\" d=\"M 403.15625 462.105469 L 432.628906 462.105469 L 432.628906 491.578125 L 403.15625 491.578125 Z M 403.15625 462.105469 \"/>\n",
       "<path style=\"fill-rule:nonzero;fill:rgb(100%,100%,100%);fill-opacity:1;stroke-width:1;stroke-linecap:butt;stroke-linejoin:miter;stroke:rgb(50%,50%,50%);stroke-opacity:1;stroke-miterlimit:10;\" d=\"M 432.632812 462.105469 L 462.105469 462.105469 L 462.105469 491.578125 L 432.632812 491.578125 Z M 432.632812 462.105469 \"/>\n",
       "<path style=\"fill-rule:nonzero;fill:rgb(100%,100%,100%);fill-opacity:1;stroke-width:1;stroke-linecap:butt;stroke-linejoin:miter;stroke:rgb(50%,50%,50%);stroke-opacity:1;stroke-miterlimit:10;\" d=\"M 462.105469 462.105469 L 491.578125 462.105469 L 491.578125 491.578125 L 462.105469 491.578125 Z M 462.105469 462.105469 \"/>\n",
       "<path style=\"fill-rule:nonzero;fill:rgb(100%,100%,100%);fill-opacity:1;stroke-width:1;stroke-linecap:butt;stroke-linejoin:miter;stroke:rgb(50%,50%,50%);stroke-opacity:1;stroke-miterlimit:10;\" d=\"M 491.578125 462.105469 L 521.050781 462.105469 L 521.050781 491.578125 L 491.578125 491.578125 Z M 491.578125 462.105469 \"/>\n",
       "<path style=\"fill-rule:nonzero;fill:rgb(0%,0%,0%);fill-opacity:1;stroke-width:1;stroke-linecap:butt;stroke-linejoin:miter;stroke:rgb(50%,50%,50%);stroke-opacity:1;stroke-miterlimit:10;\" d=\"M 521.050781 462.105469 L 550.523438 462.105469 L 550.523438 491.578125 L 521.050781 491.578125 Z M 521.050781 462.105469 \"/>\n",
       "<path style=\"fill-rule:nonzero;fill:rgb(100%,100%,100%);fill-opacity:1;stroke-width:1;stroke-linecap:butt;stroke-linejoin:miter;stroke:rgb(50%,50%,50%);stroke-opacity:1;stroke-miterlimit:10;\" d=\"M 550.527344 462.105469 L 580 462.105469 L 580 491.578125 L 550.527344 491.578125 Z M 550.527344 462.105469 \"/>\n",
       "<path style=\"fill-rule:nonzero;fill:rgb(100%,100%,100%);fill-opacity:1;stroke-width:1;stroke-linecap:butt;stroke-linejoin:miter;stroke:rgb(50%,50%,50%);stroke-opacity:1;stroke-miterlimit:10;\" d=\"M 20 491.578125 L 49.472656 491.578125 L 49.472656 521.050781 L 20 521.050781 Z M 20 491.578125 \"/>\n",
       "<path style=\"fill-rule:nonzero;fill:rgb(100%,100%,100%);fill-opacity:1;stroke-width:1;stroke-linecap:butt;stroke-linejoin:miter;stroke:rgb(50%,50%,50%);stroke-opacity:1;stroke-miterlimit:10;\" d=\"M 49.472656 491.578125 L 78.945312 491.578125 L 78.945312 521.050781 L 49.472656 521.050781 Z M 49.472656 491.578125 \"/>\n",
       "<path style=\"fill-rule:nonzero;fill:rgb(100%,100%,100%);fill-opacity:1;stroke-width:1;stroke-linecap:butt;stroke-linejoin:miter;stroke:rgb(50%,50%,50%);stroke-opacity:1;stroke-miterlimit:10;\" d=\"M 78.949219 491.578125 L 108.421875 491.578125 L 108.421875 521.050781 L 78.949219 521.050781 Z M 78.949219 491.578125 \"/>\n",
       "<path style=\"fill-rule:nonzero;fill:rgb(100%,100%,100%);fill-opacity:1;stroke-width:1;stroke-linecap:butt;stroke-linejoin:miter;stroke:rgb(50%,50%,50%);stroke-opacity:1;stroke-miterlimit:10;\" d=\"M 108.421875 491.578125 L 137.894531 491.578125 L 137.894531 521.050781 L 108.421875 521.050781 Z M 108.421875 491.578125 \"/>\n",
       "<path style=\"fill-rule:nonzero;fill:rgb(100%,100%,100%);fill-opacity:1;stroke-width:1;stroke-linecap:butt;stroke-linejoin:miter;stroke:rgb(50%,50%,50%);stroke-opacity:1;stroke-miterlimit:10;\" d=\"M 137.894531 491.578125 L 167.367188 491.578125 L 167.367188 521.050781 L 137.894531 521.050781 Z M 137.894531 491.578125 \"/>\n",
       "<path style=\"fill-rule:nonzero;fill:rgb(100%,100%,100%);fill-opacity:1;stroke-width:1;stroke-linecap:butt;stroke-linejoin:miter;stroke:rgb(50%,50%,50%);stroke-opacity:1;stroke-miterlimit:10;\" d=\"M 167.367188 491.578125 L 196.839844 491.578125 L 196.839844 521.050781 L 167.367188 521.050781 Z M 167.367188 491.578125 \"/>\n",
       "<path style=\"fill-rule:nonzero;fill:rgb(100%,100%,100%);fill-opacity:1;stroke-width:1;stroke-linecap:butt;stroke-linejoin:miter;stroke:rgb(50%,50%,50%);stroke-opacity:1;stroke-miterlimit:10;\" d=\"M 196.84375 491.578125 L 226.316406 491.578125 L 226.316406 521.050781 L 196.84375 521.050781 Z M 196.84375 491.578125 \"/>\n",
       "<path style=\"fill-rule:nonzero;fill:rgb(100%,100%,100%);fill-opacity:1;stroke-width:1;stroke-linecap:butt;stroke-linejoin:miter;stroke:rgb(50%,50%,50%);stroke-opacity:1;stroke-miterlimit:10;\" d=\"M 226.316406 491.578125 L 255.789062 491.578125 L 255.789062 521.050781 L 226.316406 521.050781 Z M 226.316406 491.578125 \"/>\n",
       "<path style=\"fill-rule:nonzero;fill:rgb(100%,100%,100%);fill-opacity:1;stroke-width:1;stroke-linecap:butt;stroke-linejoin:miter;stroke:rgb(50%,50%,50%);stroke-opacity:1;stroke-miterlimit:10;\" d=\"M 255.789062 491.578125 L 285.261719 491.578125 L 285.261719 521.050781 L 255.789062 521.050781 Z M 255.789062 491.578125 \"/>\n",
       "<path style=\"fill-rule:nonzero;fill:rgb(100%,100%,100%);fill-opacity:1;stroke-width:1;stroke-linecap:butt;stroke-linejoin:miter;stroke:rgb(50%,50%,50%);stroke-opacity:1;stroke-miterlimit:10;\" d=\"M 285.261719 491.578125 L 314.734375 491.578125 L 314.734375 521.050781 L 285.261719 521.050781 Z M 285.261719 491.578125 \"/>\n",
       "<path style=\"fill-rule:nonzero;fill:rgb(100%,100%,100%);fill-opacity:1;stroke-width:1;stroke-linecap:butt;stroke-linejoin:miter;stroke:rgb(50%,50%,50%);stroke-opacity:1;stroke-miterlimit:10;\" d=\"M 314.738281 491.578125 L 344.210938 491.578125 L 344.210938 521.050781 L 314.738281 521.050781 Z M 314.738281 491.578125 \"/>\n",
       "<path style=\"fill-rule:nonzero;fill:rgb(100%,100%,100%);fill-opacity:1;stroke-width:1;stroke-linecap:butt;stroke-linejoin:miter;stroke:rgb(50%,50%,50%);stroke-opacity:1;stroke-miterlimit:10;\" d=\"M 344.210938 491.578125 L 373.683594 491.578125 L 373.683594 521.050781 L 344.210938 521.050781 Z M 344.210938 491.578125 \"/>\n",
       "<path style=\"fill-rule:nonzero;fill:rgb(100%,100%,100%);fill-opacity:1;stroke-width:1;stroke-linecap:butt;stroke-linejoin:miter;stroke:rgb(50%,50%,50%);stroke-opacity:1;stroke-miterlimit:10;\" d=\"M 373.683594 491.578125 L 403.15625 491.578125 L 403.15625 521.050781 L 373.683594 521.050781 Z M 373.683594 491.578125 \"/>\n",
       "<path style=\"fill-rule:nonzero;fill:rgb(100%,100%,100%);fill-opacity:1;stroke-width:1;stroke-linecap:butt;stroke-linejoin:miter;stroke:rgb(50%,50%,50%);stroke-opacity:1;stroke-miterlimit:10;\" d=\"M 403.15625 491.578125 L 432.628906 491.578125 L 432.628906 521.050781 L 403.15625 521.050781 Z M 403.15625 491.578125 \"/>\n",
       "<path style=\"fill-rule:nonzero;fill:rgb(100%,100%,100%);fill-opacity:1;stroke-width:1;stroke-linecap:butt;stroke-linejoin:miter;stroke:rgb(50%,50%,50%);stroke-opacity:1;stroke-miterlimit:10;\" d=\"M 432.632812 491.578125 L 462.105469 491.578125 L 462.105469 521.050781 L 432.632812 521.050781 Z M 432.632812 491.578125 \"/>\n",
       "<path style=\"fill-rule:nonzero;fill:rgb(100%,100%,100%);fill-opacity:1;stroke-width:1;stroke-linecap:butt;stroke-linejoin:miter;stroke:rgb(50%,50%,50%);stroke-opacity:1;stroke-miterlimit:10;\" d=\"M 462.105469 491.578125 L 491.578125 491.578125 L 491.578125 521.050781 L 462.105469 521.050781 Z M 462.105469 491.578125 \"/>\n",
       "<path style=\"fill-rule:nonzero;fill:rgb(100%,100%,100%);fill-opacity:1;stroke-width:1;stroke-linecap:butt;stroke-linejoin:miter;stroke:rgb(50%,50%,50%);stroke-opacity:1;stroke-miterlimit:10;\" d=\"M 491.578125 491.578125 L 521.050781 491.578125 L 521.050781 521.050781 L 491.578125 521.050781 Z M 491.578125 491.578125 \"/>\n",
       "<path style=\"fill-rule:nonzero;fill:rgb(0%,0%,0%);fill-opacity:1;stroke-width:1;stroke-linecap:butt;stroke-linejoin:miter;stroke:rgb(50%,50%,50%);stroke-opacity:1;stroke-miterlimit:10;\" d=\"M 521.050781 491.578125 L 550.523438 491.578125 L 550.523438 521.050781 L 521.050781 521.050781 Z M 521.050781 491.578125 \"/>\n",
       "<path style=\"fill-rule:nonzero;fill:rgb(0%,0%,0%);fill-opacity:1;stroke-width:1;stroke-linecap:butt;stroke-linejoin:miter;stroke:rgb(50%,50%,50%);stroke-opacity:1;stroke-miterlimit:10;\" d=\"M 550.527344 491.578125 L 580 491.578125 L 580 521.050781 L 550.527344 521.050781 Z M 550.527344 491.578125 \"/>\n",
       "<path style=\"fill-rule:nonzero;fill:rgb(100%,100%,100%);fill-opacity:1;stroke-width:1;stroke-linecap:butt;stroke-linejoin:miter;stroke:rgb(50%,50%,50%);stroke-opacity:1;stroke-miterlimit:10;\" d=\"M 20 521.050781 L 49.472656 521.050781 L 49.472656 550.523438 L 20 550.523438 Z M 20 521.050781 \"/>\n",
       "<path style=\"fill-rule:nonzero;fill:rgb(100%,100%,100%);fill-opacity:1;stroke-width:1;stroke-linecap:butt;stroke-linejoin:miter;stroke:rgb(50%,50%,50%);stroke-opacity:1;stroke-miterlimit:10;\" d=\"M 49.472656 521.050781 L 78.945312 521.050781 L 78.945312 550.523438 L 49.472656 550.523438 Z M 49.472656 521.050781 \"/>\n",
       "<path style=\"fill-rule:nonzero;fill:rgb(100%,100%,100%);fill-opacity:1;stroke-width:1;stroke-linecap:butt;stroke-linejoin:miter;stroke:rgb(50%,50%,50%);stroke-opacity:1;stroke-miterlimit:10;\" d=\"M 78.949219 521.050781 L 108.421875 521.050781 L 108.421875 550.523438 L 78.949219 550.523438 Z M 78.949219 521.050781 \"/>\n",
       "<path style=\"fill-rule:nonzero;fill:rgb(100%,100%,100%);fill-opacity:1;stroke-width:1;stroke-linecap:butt;stroke-linejoin:miter;stroke:rgb(50%,50%,50%);stroke-opacity:1;stroke-miterlimit:10;\" d=\"M 108.421875 521.050781 L 137.894531 521.050781 L 137.894531 550.523438 L 108.421875 550.523438 Z M 108.421875 521.050781 \"/>\n",
       "<path style=\"fill-rule:nonzero;fill:rgb(100%,100%,100%);fill-opacity:1;stroke-width:1;stroke-linecap:butt;stroke-linejoin:miter;stroke:rgb(50%,50%,50%);stroke-opacity:1;stroke-miterlimit:10;\" d=\"M 137.894531 521.050781 L 167.367188 521.050781 L 167.367188 550.523438 L 137.894531 550.523438 Z M 137.894531 521.050781 \"/>\n",
       "<path style=\"fill-rule:nonzero;fill:rgb(100%,100%,100%);fill-opacity:1;stroke-width:1;stroke-linecap:butt;stroke-linejoin:miter;stroke:rgb(50%,50%,50%);stroke-opacity:1;stroke-miterlimit:10;\" d=\"M 167.367188 521.050781 L 196.839844 521.050781 L 196.839844 550.523438 L 167.367188 550.523438 Z M 167.367188 521.050781 \"/>\n",
       "<path style=\"fill-rule:nonzero;fill:rgb(100%,100%,100%);fill-opacity:1;stroke-width:1;stroke-linecap:butt;stroke-linejoin:miter;stroke:rgb(50%,50%,50%);stroke-opacity:1;stroke-miterlimit:10;\" d=\"M 196.84375 521.050781 L 226.316406 521.050781 L 226.316406 550.523438 L 196.84375 550.523438 Z M 196.84375 521.050781 \"/>\n",
       "<path style=\"fill-rule:nonzero;fill:rgb(100%,100%,100%);fill-opacity:1;stroke-width:1;stroke-linecap:butt;stroke-linejoin:miter;stroke:rgb(50%,50%,50%);stroke-opacity:1;stroke-miterlimit:10;\" d=\"M 226.316406 521.050781 L 255.789062 521.050781 L 255.789062 550.523438 L 226.316406 550.523438 Z M 226.316406 521.050781 \"/>\n",
       "<path style=\"fill-rule:nonzero;fill:rgb(100%,100%,100%);fill-opacity:1;stroke-width:1;stroke-linecap:butt;stroke-linejoin:miter;stroke:rgb(50%,50%,50%);stroke-opacity:1;stroke-miterlimit:10;\" d=\"M 255.789062 521.050781 L 285.261719 521.050781 L 285.261719 550.523438 L 255.789062 550.523438 Z M 255.789062 521.050781 \"/>\n",
       "<path style=\"fill-rule:nonzero;fill:rgb(100%,100%,100%);fill-opacity:1;stroke-width:1;stroke-linecap:butt;stroke-linejoin:miter;stroke:rgb(50%,50%,50%);stroke-opacity:1;stroke-miterlimit:10;\" d=\"M 285.261719 521.050781 L 314.734375 521.050781 L 314.734375 550.523438 L 285.261719 550.523438 Z M 285.261719 521.050781 \"/>\n",
       "<path style=\"fill-rule:nonzero;fill:rgb(100%,100%,100%);fill-opacity:1;stroke-width:1;stroke-linecap:butt;stroke-linejoin:miter;stroke:rgb(50%,50%,50%);stroke-opacity:1;stroke-miterlimit:10;\" d=\"M 314.738281 521.050781 L 344.210938 521.050781 L 344.210938 550.523438 L 314.738281 550.523438 Z M 314.738281 521.050781 \"/>\n",
       "<path style=\"fill-rule:nonzero;fill:rgb(100%,100%,100%);fill-opacity:1;stroke-width:1;stroke-linecap:butt;stroke-linejoin:miter;stroke:rgb(50%,50%,50%);stroke-opacity:1;stroke-miterlimit:10;\" d=\"M 344.210938 521.050781 L 373.683594 521.050781 L 373.683594 550.523438 L 344.210938 550.523438 Z M 344.210938 521.050781 \"/>\n",
       "<path style=\"fill-rule:nonzero;fill:rgb(100%,100%,100%);fill-opacity:1;stroke-width:1;stroke-linecap:butt;stroke-linejoin:miter;stroke:rgb(50%,50%,50%);stroke-opacity:1;stroke-miterlimit:10;\" d=\"M 373.683594 521.050781 L 403.15625 521.050781 L 403.15625 550.523438 L 373.683594 550.523438 Z M 373.683594 521.050781 \"/>\n",
       "<path style=\"fill-rule:nonzero;fill:rgb(100%,100%,100%);fill-opacity:1;stroke-width:1;stroke-linecap:butt;stroke-linejoin:miter;stroke:rgb(50%,50%,50%);stroke-opacity:1;stroke-miterlimit:10;\" d=\"M 403.15625 521.050781 L 432.628906 521.050781 L 432.628906 550.523438 L 403.15625 550.523438 Z M 403.15625 521.050781 \"/>\n",
       "<path style=\"fill-rule:nonzero;fill:rgb(100%,100%,100%);fill-opacity:1;stroke-width:1;stroke-linecap:butt;stroke-linejoin:miter;stroke:rgb(50%,50%,50%);stroke-opacity:1;stroke-miterlimit:10;\" d=\"M 432.632812 521.050781 L 462.105469 521.050781 L 462.105469 550.523438 L 432.632812 550.523438 Z M 432.632812 521.050781 \"/>\n",
       "<path style=\"fill-rule:nonzero;fill:rgb(0%,0%,0%);fill-opacity:1;stroke-width:1;stroke-linecap:butt;stroke-linejoin:miter;stroke:rgb(50%,50%,50%);stroke-opacity:1;stroke-miterlimit:10;\" d=\"M 462.105469 521.050781 L 491.578125 521.050781 L 491.578125 550.523438 L 462.105469 550.523438 Z M 462.105469 521.050781 \"/>\n",
       "<path style=\"fill-rule:nonzero;fill:rgb(0%,0%,0%);fill-opacity:1;stroke-width:1;stroke-linecap:butt;stroke-linejoin:miter;stroke:rgb(50%,50%,50%);stroke-opacity:1;stroke-miterlimit:10;\" d=\"M 491.578125 521.050781 L 521.050781 521.050781 L 521.050781 550.523438 L 491.578125 550.523438 Z M 491.578125 521.050781 \"/>\n",
       "<path style=\"fill-rule:nonzero;fill:rgb(100%,100%,100%);fill-opacity:1;stroke-width:1;stroke-linecap:butt;stroke-linejoin:miter;stroke:rgb(50%,50%,50%);stroke-opacity:1;stroke-miterlimit:10;\" d=\"M 521.050781 521.050781 L 550.523438 521.050781 L 550.523438 550.523438 L 521.050781 550.523438 Z M 521.050781 521.050781 \"/>\n",
       "<path style=\"fill-rule:nonzero;fill:rgb(0%,0%,0%);fill-opacity:1;stroke-width:1;stroke-linecap:butt;stroke-linejoin:miter;stroke:rgb(50%,50%,50%);stroke-opacity:1;stroke-miterlimit:10;\" d=\"M 550.527344 521.050781 L 580 521.050781 L 580 550.523438 L 550.527344 550.523438 Z M 550.527344 521.050781 \"/>\n",
       "<path style=\"fill-rule:nonzero;fill:rgb(100%,100%,100%);fill-opacity:1;stroke-width:1;stroke-linecap:butt;stroke-linejoin:miter;stroke:rgb(50%,50%,50%);stroke-opacity:1;stroke-miterlimit:10;\" d=\"M 20 550.527344 L 49.472656 550.527344 L 49.472656 580 L 20 580 Z M 20 550.527344 \"/>\n",
       "<path style=\"fill-rule:nonzero;fill:rgb(100%,100%,100%);fill-opacity:1;stroke-width:1;stroke-linecap:butt;stroke-linejoin:miter;stroke:rgb(50%,50%,50%);stroke-opacity:1;stroke-miterlimit:10;\" d=\"M 49.472656 550.527344 L 78.945312 550.527344 L 78.945312 580 L 49.472656 580 Z M 49.472656 550.527344 \"/>\n",
       "<path style=\"fill-rule:nonzero;fill:rgb(100%,100%,100%);fill-opacity:1;stroke-width:1;stroke-linecap:butt;stroke-linejoin:miter;stroke:rgb(50%,50%,50%);stroke-opacity:1;stroke-miterlimit:10;\" d=\"M 78.949219 550.527344 L 108.421875 550.527344 L 108.421875 580 L 78.949219 580 Z M 78.949219 550.527344 \"/>\n",
       "<path style=\"fill-rule:nonzero;fill:rgb(100%,100%,100%);fill-opacity:1;stroke-width:1;stroke-linecap:butt;stroke-linejoin:miter;stroke:rgb(50%,50%,50%);stroke-opacity:1;stroke-miterlimit:10;\" d=\"M 108.421875 550.527344 L 137.894531 550.527344 L 137.894531 580 L 108.421875 580 Z M 108.421875 550.527344 \"/>\n",
       "<path style=\"fill-rule:nonzero;fill:rgb(100%,100%,100%);fill-opacity:1;stroke-width:1;stroke-linecap:butt;stroke-linejoin:miter;stroke:rgb(50%,50%,50%);stroke-opacity:1;stroke-miterlimit:10;\" d=\"M 137.894531 550.527344 L 167.367188 550.527344 L 167.367188 580 L 137.894531 580 Z M 137.894531 550.527344 \"/>\n",
       "<path style=\"fill-rule:nonzero;fill:rgb(100%,100%,100%);fill-opacity:1;stroke-width:1;stroke-linecap:butt;stroke-linejoin:miter;stroke:rgb(50%,50%,50%);stroke-opacity:1;stroke-miterlimit:10;\" d=\"M 167.367188 550.527344 L 196.839844 550.527344 L 196.839844 580 L 167.367188 580 Z M 167.367188 550.527344 \"/>\n",
       "<path style=\"fill-rule:nonzero;fill:rgb(100%,100%,100%);fill-opacity:1;stroke-width:1;stroke-linecap:butt;stroke-linejoin:miter;stroke:rgb(50%,50%,50%);stroke-opacity:1;stroke-miterlimit:10;\" d=\"M 196.84375 550.527344 L 226.316406 550.527344 L 226.316406 580 L 196.84375 580 Z M 196.84375 550.527344 \"/>\n",
       "<path style=\"fill-rule:nonzero;fill:rgb(100%,100%,100%);fill-opacity:1;stroke-width:1;stroke-linecap:butt;stroke-linejoin:miter;stroke:rgb(50%,50%,50%);stroke-opacity:1;stroke-miterlimit:10;\" d=\"M 226.316406 550.527344 L 255.789062 550.527344 L 255.789062 580 L 226.316406 580 Z M 226.316406 550.527344 \"/>\n",
       "<path style=\"fill-rule:nonzero;fill:rgb(100%,100%,100%);fill-opacity:1;stroke-width:1;stroke-linecap:butt;stroke-linejoin:miter;stroke:rgb(50%,50%,50%);stroke-opacity:1;stroke-miterlimit:10;\" d=\"M 255.789062 550.527344 L 285.261719 550.527344 L 285.261719 580 L 255.789062 580 Z M 255.789062 550.527344 \"/>\n",
       "<path style=\"fill-rule:nonzero;fill:rgb(100%,100%,100%);fill-opacity:1;stroke-width:1;stroke-linecap:butt;stroke-linejoin:miter;stroke:rgb(50%,50%,50%);stroke-opacity:1;stroke-miterlimit:10;\" d=\"M 285.261719 550.527344 L 314.734375 550.527344 L 314.734375 580 L 285.261719 580 Z M 285.261719 550.527344 \"/>\n",
       "<path style=\"fill-rule:nonzero;fill:rgb(100%,100%,100%);fill-opacity:1;stroke-width:1;stroke-linecap:butt;stroke-linejoin:miter;stroke:rgb(50%,50%,50%);stroke-opacity:1;stroke-miterlimit:10;\" d=\"M 314.738281 550.527344 L 344.210938 550.527344 L 344.210938 580 L 314.738281 580 Z M 314.738281 550.527344 \"/>\n",
       "<path style=\"fill-rule:nonzero;fill:rgb(100%,100%,100%);fill-opacity:1;stroke-width:1;stroke-linecap:butt;stroke-linejoin:miter;stroke:rgb(50%,50%,50%);stroke-opacity:1;stroke-miterlimit:10;\" d=\"M 344.210938 550.527344 L 373.683594 550.527344 L 373.683594 580 L 344.210938 580 Z M 344.210938 550.527344 \"/>\n",
       "<path style=\"fill-rule:nonzero;fill:rgb(100%,100%,100%);fill-opacity:1;stroke-width:1;stroke-linecap:butt;stroke-linejoin:miter;stroke:rgb(50%,50%,50%);stroke-opacity:1;stroke-miterlimit:10;\" d=\"M 373.683594 550.527344 L 403.15625 550.527344 L 403.15625 580 L 373.683594 580 Z M 373.683594 550.527344 \"/>\n",
       "<path style=\"fill-rule:nonzero;fill:rgb(100%,100%,100%);fill-opacity:1;stroke-width:1;stroke-linecap:butt;stroke-linejoin:miter;stroke:rgb(50%,50%,50%);stroke-opacity:1;stroke-miterlimit:10;\" d=\"M 403.15625 550.527344 L 432.628906 550.527344 L 432.628906 580 L 403.15625 580 Z M 403.15625 550.527344 \"/>\n",
       "<path style=\"fill-rule:nonzero;fill:rgb(100%,100%,100%);fill-opacity:1;stroke-width:1;stroke-linecap:butt;stroke-linejoin:miter;stroke:rgb(50%,50%,50%);stroke-opacity:1;stroke-miterlimit:10;\" d=\"M 432.632812 550.527344 L 462.105469 550.527344 L 462.105469 580 L 432.632812 580 Z M 432.632812 550.527344 \"/>\n",
       "<path style=\"fill-rule:nonzero;fill:rgb(100%,100%,100%);fill-opacity:1;stroke-width:1;stroke-linecap:butt;stroke-linejoin:miter;stroke:rgb(50%,50%,50%);stroke-opacity:1;stroke-miterlimit:10;\" d=\"M 462.105469 550.527344 L 491.578125 550.527344 L 491.578125 580 L 462.105469 580 Z M 462.105469 550.527344 \"/>\n",
       "<path style=\"fill-rule:nonzero;fill:rgb(0%,0%,0%);fill-opacity:1;stroke-width:1;stroke-linecap:butt;stroke-linejoin:miter;stroke:rgb(50%,50%,50%);stroke-opacity:1;stroke-miterlimit:10;\" d=\"M 491.578125 550.527344 L 521.050781 550.527344 L 521.050781 580 L 491.578125 580 Z M 491.578125 550.527344 \"/>\n",
       "<path style=\"fill-rule:nonzero;fill:rgb(0%,0%,0%);fill-opacity:1;stroke-width:1;stroke-linecap:butt;stroke-linejoin:miter;stroke:rgb(50%,50%,50%);stroke-opacity:1;stroke-miterlimit:10;\" d=\"M 521.050781 550.527344 L 550.523438 550.527344 L 550.523438 580 L 521.050781 580 Z M 521.050781 550.527344 \"/>\n",
       "<path style=\"fill-rule:nonzero;fill:rgb(100%,100%,100%);fill-opacity:1;stroke-width:1;stroke-linecap:butt;stroke-linejoin:miter;stroke:rgb(50%,50%,50%);stroke-opacity:1;stroke-miterlimit:10;\" d=\"M 550.527344 550.527344 L 580 550.527344 L 580 580 L 550.527344 580 Z M 550.527344 550.527344 \"/>\n",
       "<path style=\"fill:none;stroke-width:1;stroke-linecap:butt;stroke-linejoin:miter;stroke:rgb(0%,0%,0%);stroke-opacity:1;stroke-miterlimit:10;\" d=\"M 20 20 L 580 20 L 580 580 L 20 580 Z M 20 20 \"/>\n",
       "</g>\n",
       "</svg>\n"
      ],
      "text/plain": [
       "<igraph.drawing.Plot at 0x7f16aa27cba8>"
      ]
     },
     "execution_count": 21,
     "metadata": {
      "image/svg+xml": {
       "isolated": true
      }
     },
     "output_type": "execute_result"
    }
   ],
   "source": [
    "print(atta.get_adjacency(type=2, attribute=None, default=0, eids=False))\n",
    "plot(atta.get_adjacency(type=2, attribute=None, default=0, eids=False))"
   ]
  },
  {
   "cell_type": "markdown",
   "metadata": {},
   "source": [
    "### Returns the adjacency matrix of a graph as a SciPy CSR matrix"
   ]
  },
  {
   "cell_type": "code",
   "execution_count": 22,
   "metadata": {},
   "outputs": [
    {
     "name": "stdout",
     "output_type": "stream",
     "text": [
      "  (0, 1)\t1\n",
      "  (1, 0)\t1\n",
      "  (1, 2)\t1\n",
      "  (1, 3)\t1\n",
      "  (1, 4)\t1\n",
      "  (1, 5)\t1\n",
      "  (2, 1)\t1\n",
      "  (2, 7)\t1\n",
      "  (3, 1)\t1\n",
      "  (3, 12)\t1\n",
      "  (4, 1)\t1\n",
      "  (4, 5)\t1\n",
      "  (4, 6)\t1\n",
      "  (5, 1)\t1\n",
      "  (5, 4)\t1\n",
      "  (5, 6)\t1\n",
      "  (6, 4)\t1\n",
      "  (6, 5)\t1\n",
      "  (6, 8)\t1\n",
      "  (6, 9)\t1\n",
      "  (6, 10)\t1\n",
      "  (7, 2)\t1\n",
      "  (7, 13)\t1\n",
      "  (8, 6)\t1\n",
      "  (8, 11)\t1\n",
      "  :\t:\n",
      "  (10, 13)\t1\n",
      "  (11, 8)\t1\n",
      "  (11, 9)\t1\n",
      "  (11, 12)\t1\n",
      "  (11, 13)\t1\n",
      "  (11, 14)\t1\n",
      "  (12, 3)\t1\n",
      "  (12, 9)\t1\n",
      "  (12, 10)\t1\n",
      "  (12, 11)\t1\n",
      "  (12, 13)\t1\n",
      "  (13, 7)\t1\n",
      "  (13, 9)\t1\n",
      "  (13, 10)\t1\n",
      "  (13, 11)\t1\n",
      "  (13, 12)\t1\n",
      "  (14, 11)\t1\n",
      "  (15, 17)\t1\n",
      "  (16, 17)\t1\n",
      "  (16, 18)\t1\n",
      "  (17, 15)\t1\n",
      "  (17, 16)\t1\n",
      "  (17, 18)\t1\n",
      "  (18, 16)\t1\n",
      "  (18, 17)\t1\n"
     ]
    }
   ],
   "source": [
    "print(atta.get_adjacency_sparse(attribute=None))"
   ]
  },
  {
   "cell_type": "markdown",
   "metadata": {},
   "source": [
    "### Cohesive blocks"
   ]
  },
  {
   "cell_type": "code",
   "execution_count": 23,
   "metadata": {},
   "outputs": [
    {
     "name": "stdout",
     "output_type": "stream",
     "text": [
      "Cover with 6 clusters\n",
      "[0] Ahmed Alghamdi, Hamza Alghamdi, Mohand Alshehri, Ahmed Al-Haznawi, Saeed\n",
      "    Alghamdi, Ahmed Alnami, Nawaf Alhazmi, Fayez Ahmed, Khalid Al-Mihdhar,\n",
      "    Mohamed Atta, Salem Alhazmi, Hani Hanjour, Ziad Jarrah, Marwan Al-Shehhi,\n",
      "    Majed Moqed, Abdul Aziz Al-Omari, Satam Suqami, Waleed Alshehri, Wail\n",
      "    Alshehri\n",
      "[1] Ahmed Alghamdi, Hamza Alghamdi, Mohand Alshehri, Ahmed Al-Haznawi, Saeed\n",
      "    Alghamdi, Ahmed Alnami, Nawaf Alhazmi, Fayez Ahmed, Khalid Al-Mihdhar,\n",
      "    Mohamed Atta, Salem Alhazmi, Hani Hanjour, Ziad Jarrah, Marwan Al-Shehhi,\n",
      "    Majed Moqed\n",
      "[2] Abdul Aziz Al-Omari, Satam Suqami, Waleed Alshehri, Wail Alshehri\n",
      "[3] Hamza Alghamdi, Mohand Alshehri, Ahmed Al-Haznawi, Saeed Alghamdi, Ahmed\n",
      "    Alnami, Nawaf Alhazmi, Fayez Ahmed, Khalid Al-Mihdhar, Mohamed Atta, Salem\n",
      "    Alhazmi, Hani Hanjour, Ziad Jarrah, Marwan Al-Shehhi\n",
      "[4] Satam Suqami, Waleed Alshehri, Wail Alshehri\n",
      "[5] Mohamed Atta, Hani Hanjour, Ziad Jarrah, Marwan Al-Shehhi\n"
     ]
    }
   ],
   "source": [
    "print(atta.cohesive_blocks())"
   ]
  }
 ],
 "metadata": {
  "kernelspec": {
   "display_name": "Python 3",
   "language": "python",
   "name": "python3"
  },
  "language_info": {
   "codemirror_mode": {
    "name": "ipython",
    "version": 3
   },
   "file_extension": ".py",
   "mimetype": "text/x-python",
   "name": "python",
   "nbconvert_exporter": "python",
   "pygments_lexer": "ipython3",
   "version": "3.7.3"
  }
 },
 "nbformat": 4,
 "nbformat_minor": 2
}
