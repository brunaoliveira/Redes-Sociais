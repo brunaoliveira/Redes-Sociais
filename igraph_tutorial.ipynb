{
 "cells": [
  {
   "cell_type": "code",
   "execution_count": 7,
   "metadata": {},
   "outputs": [
    {
     "name": "stdout",
     "output_type": "stream",
     "text": [
      "0.8.3\n"
     ]
    }
   ],
   "source": [
    "import igraph\n",
    "print(igraph.__version__)"
   ]
  },
  {
   "cell_type": "markdown",
   "metadata": {},
   "source": [
    "### Create new empty graph\n",
    "Printing the number of vertices, the number of edges and the name of the graph"
   ]
  },
  {
   "cell_type": "code",
   "execution_count": 12,
   "metadata": {},
   "outputs": [
    {
     "name": "stdout",
     "output_type": "stream",
     "text": [
      "IGRAPH U--- 0 0 --\n"
     ]
    }
   ],
   "source": [
    "g = igraph.Graph()\n",
    "print(g) \n",
    "# dir(g)"
   ]
  },
  {
   "cell_type": "markdown",
   "metadata": {},
   "source": [
    "### List graph's edges"
   ]
  },
  {
   "cell_type": "code",
   "execution_count": 29,
   "metadata": {
    "collapsed": true
   },
   "outputs": [
    {
     "data": {
      "text/plain": [
       "[(0, 1),\n",
       " (0, 2),\n",
       " (1, 3),\n",
       " (1, 4),\n",
       " (2, 5),\n",
       " (2, 6),\n",
       " (3, 7),\n",
       " (3, 8),\n",
       " (4, 9),\n",
       " (4, 10),\n",
       " (5, 11),\n",
       " (5, 12),\n",
       " (6, 13),\n",
       " (6, 14),\n",
       " (7, 15),\n",
       " (7, 16),\n",
       " (8, 17),\n",
       " (8, 18),\n",
       " (9, 19),\n",
       " (9, 20),\n",
       " (10, 21),\n",
       " (10, 22),\n",
       " (11, 23),\n",
       " (11, 24),\n",
       " (12, 25),\n",
       " (12, 26),\n",
       " (13, 27),\n",
       " (13, 28),\n",
       " (14, 29),\n",
       " (14, 30),\n",
       " (15, 31),\n",
       " (15, 32),\n",
       " (16, 33),\n",
       " (16, 34),\n",
       " (17, 35),\n",
       " (17, 36),\n",
       " (18, 37),\n",
       " (18, 38),\n",
       " (19, 39),\n",
       " (19, 40),\n",
       " (20, 41),\n",
       " (20, 42),\n",
       " (21, 43),\n",
       " (21, 44),\n",
       " (22, 45),\n",
       " (22, 46),\n",
       " (23, 47),\n",
       " (23, 48),\n",
       " (24, 49),\n",
       " (24, 50),\n",
       " (25, 51),\n",
       " (25, 52),\n",
       " (26, 53),\n",
       " (26, 54),\n",
       " (27, 55),\n",
       " (27, 56),\n",
       " (28, 57),\n",
       " (28, 58),\n",
       " (29, 59),\n",
       " (29, 60),\n",
       " (30, 61),\n",
       " (30, 62),\n",
       " (31, 63),\n",
       " (31, 64),\n",
       " (32, 65),\n",
       " (32, 66),\n",
       " (33, 67),\n",
       " (33, 68),\n",
       " (34, 69),\n",
       " (34, 70),\n",
       " (35, 71),\n",
       " (35, 72),\n",
       " (36, 73),\n",
       " (36, 74),\n",
       " (37, 75),\n",
       " (37, 76),\n",
       " (38, 77),\n",
       " (38, 78),\n",
       " (39, 79),\n",
       " (39, 80),\n",
       " (40, 81),\n",
       " (40, 82),\n",
       " (41, 83),\n",
       " (41, 84),\n",
       " (42, 85),\n",
       " (42, 86),\n",
       " (43, 87),\n",
       " (43, 88),\n",
       " (44, 89),\n",
       " (44, 90),\n",
       " (45, 91),\n",
       " (45, 92),\n",
       " (46, 93),\n",
       " (46, 94),\n",
       " (47, 95),\n",
       " (47, 96),\n",
       " (48, 97),\n",
       " (48, 98),\n",
       " (49, 99),\n",
       " (49, 100),\n",
       " (50, 101),\n",
       " (50, 102),\n",
       " (51, 103),\n",
       " (51, 104),\n",
       " (52, 105),\n",
       " (52, 106),\n",
       " (53, 107),\n",
       " (53, 108),\n",
       " (54, 109),\n",
       " (54, 110),\n",
       " (55, 111),\n",
       " (55, 112),\n",
       " (56, 113),\n",
       " (56, 114),\n",
       " (57, 115),\n",
       " (57, 116),\n",
       " (58, 117),\n",
       " (58, 118),\n",
       " (59, 119),\n",
       " (59, 120),\n",
       " (60, 121),\n",
       " (60, 122),\n",
       " (61, 123),\n",
       " (61, 124),\n",
       " (62, 125),\n",
       " (62, 126)]"
      ]
     },
     "execution_count": 29,
     "metadata": {},
     "output_type": "execute_result"
    }
   ],
   "source": [
    "g.get_edgelist()"
   ]
  },
  {
   "cell_type": "markdown",
   "metadata": {},
   "source": [
    "### Add 3 vertices to the graph"
   ]
  },
  {
   "cell_type": "code",
   "execution_count": 13,
   "metadata": {},
   "outputs": [
    {
     "name": "stdout",
     "output_type": "stream",
     "text": [
      "IGRAPH U--- 3 0 --\n"
     ]
    }
   ],
   "source": [
    "g.add_vertices(3)\n",
    "print(g) "
   ]
  },
  {
   "cell_type": "markdown",
   "metadata": {},
   "source": [
    "### Add 2 edges to the graph\n",
    "Printing the number of vertices, the number of edges and the name of the graph <br>\n",
    "Printing the edges of the graph"
   ]
  },
  {
   "cell_type": "code",
   "execution_count": 14,
   "metadata": {},
   "outputs": [
    {
     "name": "stdout",
     "output_type": "stream",
     "text": [
      "IGRAPH U--- 3 2 --\n",
      "+ edges:\n",
      "0--1 1--2\n"
     ]
    }
   ],
   "source": [
    "g.add_edges([(0,1), (1,2)])\n",
    "print(g)"
   ]
  },
  {
   "cell_type": "markdown",
   "metadata": {},
   "source": [
    "### Making the graph bigger\n",
    "Creating an undirected graph with six vertices and seven edges"
   ]
  },
  {
   "cell_type": "code",
   "execution_count": 16,
   "metadata": {},
   "outputs": [
    {
     "name": "stdout",
     "output_type": "stream",
     "text": [
      "IGRAPH U--- 6 7 --\n",
      "+ edges:\n",
      "0--1 1--2 0--2 2--3 3--4 4--5 3--5\n"
     ]
    }
   ],
   "source": [
    "g.add_edges([(2, 0)])\n",
    "g.add_vertices(3)\n",
    "g.add_edges([(2, 3), (3, 4), (4, 5), (5, 3)])\n",
    "print(g)"
   ]
  },
  {
   "cell_type": "markdown",
   "metadata": {},
   "source": [
    "### Delete edges\n",
    "It needs the edges ids, so you need to get the ids first"
   ]
  },
  {
   "cell_type": "code",
   "execution_count": 19,
   "metadata": {},
   "outputs": [
    {
     "data": {
      "text/plain": [
       "3"
      ]
     },
     "execution_count": 19,
     "metadata": {},
     "output_type": "execute_result"
    }
   ],
   "source": [
    "g.get_eid(2, 3)"
   ]
  },
  {
   "cell_type": "code",
   "execution_count": 23,
   "metadata": {},
   "outputs": [
    {
     "name": "stdout",
     "output_type": "stream",
     "text": [
      "IGRAPH U--- 6 5 --\n",
      "+ edges:\n",
      "0--1 1--2 0--2 4--5 3--5\n"
     ]
    }
   ],
   "source": [
    "g.delete_edges(3)\n",
    "print(g)"
   ]
  },
  {
   "cell_type": "markdown",
   "metadata": {},
   "source": [
    "### Delete vertices\n",
    "Passing the vertices ids"
   ]
  },
  {
   "cell_type": "code",
   "execution_count": 25,
   "metadata": {},
   "outputs": [
    {
     "name": "stdout",
     "output_type": "stream",
     "text": [
      "IGRAPH U--- 5 3 --\n",
      "+ edges:\n",
      "0--1 3--4 2--4\n"
     ]
    }
   ],
   "source": [
    "g.delete_vertices(0)\n",
    "print(g)"
   ]
  },
  {
   "cell_type": "markdown",
   "metadata": {},
   "source": [
    "### Generate a graph tree\n",
    "Generates a regular tree graph <br>\n",
    "The one that we generated has 127 vertices and each vertex (apart from the leaves) has two children (and of course one parent). <br>\n",
    "No matter how many times you call Graph.Tree(), the generated graph will always be the same if you use the same parameters"
   ]
  },
  {
   "cell_type": "code",
   "execution_count": 28,
   "metadata": {},
   "outputs": [
    {
     "name": "stdout",
     "output_type": "stream",
     "text": [
      "IGRAPH U--- 127 126 -- \n"
     ]
    }
   ],
   "source": [
    "g = igraph.Graph.Tree(127, 2)\n",
    "igraph.summary(g)"
   ]
  },
  {
   "cell_type": "markdown",
   "metadata": {},
   "source": [
    "### Generate a stochastic graph \n",
    "Generates a geometric random graph: n points chosen randomly and uniformly inside the unit square and pairs of points closer to each other than a predefined distance d are connected by an edge. <br>\n",
    "Here, n is 100 and d is 0.2 <br>\n",
    "Due to the random nature of the algorithm, the exact graph you got is different from the one that was generated <br>\n",
    "Printing attr, that shows names of the attributes for vertices (v) and edges (e)"
   ]
  },
  {
   "cell_type": "code",
   "execution_count": 32,
   "metadata": {},
   "outputs": [
    {
     "name": "stdout",
     "output_type": "stream",
     "text": [
      "IGRAPH U--- 100 489 -- \n",
      "+ attr: x (v), y (v)\n"
     ]
    }
   ],
   "source": [
    "g = igraph.Graph.GRG(100, 0.2)\n",
    "igraph.summary(g)"
   ]
  },
  {
   "cell_type": "markdown",
   "metadata": {},
   "source": [
    "### Compare if 2 Graphs are identicals "
   ]
  },
  {
   "cell_type": "code",
   "execution_count": 35,
   "metadata": {},
   "outputs": [
    {
     "data": {
      "text/plain": [
       "False"
      ]
     },
     "execution_count": 35,
     "metadata": {},
     "output_type": "execute_result"
    }
   ],
   "source": [
    "g2 = igraph.Graph.GRG(100, 0.2)\n",
    "g.isomorphic(g2)"
   ]
  },
  {
   "cell_type": "code",
   "execution_count": null,
   "metadata": {},
   "outputs": [],
   "source": []
  }
 ],
 "metadata": {
  "kernelspec": {
   "display_name": "Python 3",
   "language": "python",
   "name": "python3"
  },
  "language_info": {
   "codemirror_mode": {
    "name": "ipython",
    "version": 3
   },
   "file_extension": ".py",
   "mimetype": "text/x-python",
   "name": "python",
   "nbconvert_exporter": "python",
   "pygments_lexer": "ipython3",
   "version": "3.7.3"
  }
 },
 "nbformat": 4,
 "nbformat_minor": 2
}
