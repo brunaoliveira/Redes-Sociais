{
 "cells": [
  {
   "cell_type": "code",
   "execution_count": 3,
   "metadata": {
    "_cell_guid": "b1076dfc-b9ad-4769-8c92-a6c4dae69d19",
    "_uuid": "8f2839f25d086af736a60e9eeb907d3b93b6e0e5"
   },
   "outputs": [
    {
     "name": "stdout",
     "output_type": "stream",
     "text": [
      "/kaggle/input/novel-corona-virus-2019-dataset/time_series_covid_19_deaths_US.csv\n",
      "/kaggle/input/novel-corona-virus-2019-dataset/time_series_covid_19_recovered.csv\n",
      "/kaggle/input/novel-corona-virus-2019-dataset/time_series_covid_19_confirmed_US.csv\n",
      "/kaggle/input/novel-corona-virus-2019-dataset/covid_19_data.csv\n",
      "/kaggle/input/novel-corona-virus-2019-dataset/time_series_covid_19_confirmed.csv\n",
      "/kaggle/input/novel-corona-virus-2019-dataset/time_series_covid_19_deaths.csv\n"
     ]
    }
   ],
   "source": [
    "import numpy as np \n",
    "import pandas as pd \n",
    "import pandas_profiling\n",
    "import matplotlib.pyplot as plt\n",
    "import seaborn as sns\n",
    "\n",
    "# Input data files are available in the read-only \"../input/\" directory\n",
    "# For example, running this (by clicking run or pressing Shift+Enter) will list all files under the input directory\n",
    "\n",
    "import os\n",
    "for dirname, _, filenames in os.walk('/kaggle/input'):\n",
    "    for filename in filenames:\n",
    "        print(os.path.join(dirname, filename))\n",
    "\n"
   ]
  },
  {
   "cell_type": "code",
   "execution_count": 4,
   "metadata": {},
   "outputs": [],
   "source": [
    "# importing the data\n",
    "df1 = pd.read_csv('/kaggle/input/novel-corona-virus-2019-dataset/time_series_covid_19_deaths_US.csv')\n",
    "df2 = pd.read_csv('/kaggle/input/novel-corona-virus-2019-dataset/time_series_covid_19_recovered.csv')\n",
    "df3 = pd.read_csv('/kaggle/input/novel-corona-virus-2019-dataset/time_series_covid_19_confirmed_US.csv')\n",
    "df4 = pd.read_csv('/kaggle/input/novel-corona-virus-2019-dataset/covid_19_data.csv')\n",
    "df5 = pd.read_csv('/kaggle/input/novel-corona-virus-2019-dataset/time_series_covid_19_confirmed.csv')\n",
    "df6 = pd.read_csv('/kaggle/input/novel-corona-virus-2019-dataset/time_series_covid_19_deaths.csv')\n"
   ]
  },
  {
   "cell_type": "code",
   "execution_count": null,
   "metadata": {},
   "outputs": [
    {
     "data": {
      "application/vnd.jupyter.widget-view+json": {
       "model_id": "15ef2c46d59f4d23a7308c5c23f606f9",
       "version_major": 2,
       "version_minor": 0
      },
      "text/plain": [
       "Summarize dataset:   0%|          | 0/429 [00:00<?, ?it/s]"
      ]
     },
     "metadata": {},
     "output_type": "display_data"
    }
   ],
   "source": [
    "df1.style.set_caption(\"USA Deaths\")\n",
    "pandas_profiling.ProfileReport(df1)\n",
    "\n"
   ]
  },
  {
   "cell_type": "code",
   "execution_count": null,
   "metadata": {},
   "outputs": [],
   "source": [
    "df2.head()"
   ]
  },
  {
   "cell_type": "code",
   "execution_count": null,
   "metadata": {},
   "outputs": [],
   "source": [
    "df3.head()"
   ]
  },
  {
   "cell_type": "code",
   "execution_count": null,
   "metadata": {},
   "outputs": [],
   "source": [
    "def plot_corr(df, size = 6):\n",
    "    corr = df.corr()\n",
    "    fig, ax = plt.subplots(figsize = (size, size))\n",
    "    ax.matshow(corr)\n",
    "    plt.xticks(range(len(corr.columns)), corr.columns)\n",
    "    plt.yticks(range(len(corr.columns)), corr.columns)\n",
    "    \n",
    "plot_corr(df1)\n",
    "corr = df1.corr()"
   ]
  },
  {
   "cell_type": "code",
   "execution_count": null,
   "metadata": {},
   "outputs": [],
   "source": [
    "# fig = plt.figure(figsize = (8, 2))\n",
    "# ax = fig.add_subplot(111)\n",
    "\n",
    "# ax.table(cellText = df1.values,\n",
    "#           rowLabels = df1.index,\n",
    "#           colLabels = df1.columns,\n",
    "#           loc = \"center\"\n",
    "#          )\n",
    "# ax.set_title(\"Top 10 Fields of Research by Aggregated Funding Amount\")\n",
    "\n",
    "# ax.axis(\"off\");"
   ]
  }
 ],
 "metadata": {
  "kernelspec": {
   "display_name": "Python 3",
   "language": "python",
   "name": "python3"
  },
  "language_info": {
   "codemirror_mode": {
    "name": "ipython",
    "version": 3
   },
   "file_extension": ".py",
   "mimetype": "text/x-python",
   "name": "python",
   "nbconvert_exporter": "python",
   "pygments_lexer": "ipython3",
   "version": "3.7.3"
  }
 },
 "nbformat": 4,
 "nbformat_minor": 4
}
